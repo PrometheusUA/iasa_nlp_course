{
 "cells": [
  {
   "cell_type": "markdown",
   "metadata": {},
   "source": [
    "# Agenda\n",
    "1. [What is validation and why do we need it?](#Intro)\n",
    "2. [Evaluation Metrics:](#metrics) <br>\n",
    "    2.1 [Optimization Loss and Evaluation Metrics](#loss_and_metric) <br>\n",
    "    2.2 [Classification metrics](#classification_metrics) <br>\n",
    "    2.3 [Regression metrics](#regression_metrics) <br>\n",
    "    2.4 [Embedding metrics](#embedding_metrics) <br>\n",
    "    2.5 [Generative NLP metrics](#generative_metrics) <br>\n",
    "3. [Validation Strategies:](#validation_strategies) <br>\n",
    "    3.1 [Overfitting. Why do we need train/test concept?](#overfitting) <br>\n",
    "    3.2 [Holdout / Stratified split / train-validation-test](#holdout) <br>\n",
    "    3.3 [K-fold / Stratified K-fold / Repeated K-fold](#kfold) <br>\n",
    "    3.4 [Time-based validation / Time K-fold](#timebased) <br>\n",
    "    3.5 [Group K-fold](#groupkfold) <br>\n",
    "    3.6 [Choosing the right strategy for real-life scenarios and competition LB consistency](#strategychoose) <br>\n",
    "4. [Local validation VS real-life/competition testing metrics mismatch](#validation_mismatch) <br>\n",
    "    4.1 [Wrong local validation strategy](#wrong_local_validation) <br>\n",
    "    4.2 [Shifted features distributions](#shifted_features) <br>\n",
    "    4.3 [Adversarial validation](#adversarial_validation) <br>\n",
    "5. [Homework](#Homework)"
   ]
  },
  {
   "cell_type": "markdown",
   "metadata": {},
   "source": [
    "<a id='Intro'></a>\n",
    "# What is validation and why do we need it?\n",
    "\n",
    "The ML models validation process is a crucial step in developing machine learning models. It involves assessing the performance and generalization capabilities of a trained model to ensure that it can make accurate predictions on new, unseen data. There are such key points in evaluating models:\n",
    "\n",
    "**Generalization performance** - We want to estimate the predictive performance of our model on future (unseen) data.\n",
    "- Ideally, the estimated performance (based on evaluation metrics) of a model tells us how well it performs on unseen data, because making predictions on future (unseen) data is often the main problem we want to solve.\n",
    "\n",
    "**Hyperparameters tuning and feature engineering** - We want to increase the predictive performance by tweaking the learning algorithm and selecting the best performing model from a given hypothesis space.\n",
    "- Typically, machine learning involves a lot of experimentation. Running a learning algorithm over a training dataset with different hyperparameter settings and different features will result in different models. Since we are typically interested in selecting the best-performing model from this set, we need to find a way to estimate their respective performances in order to rank them against each other.\n",
    "\n",
    "**Model selection** - We want to compare different ML models (e.g. linear, decision tree, gradient boosting, etc.), selecting the best-performing one.\n",
    "- We are usually not only experimenting with the one single algorithm that we think would be the “best solution” under the given circumstances. More often than not, we want to compare different models to each other, oftentimes in terms of predictive and computational performance."
   ]
  },
  {
   "cell_type": "markdown",
   "metadata": {},
   "source": [
    "<a id='metrics'></a>\n",
    "# 2. Evaluation metrics\n",
    "An evaluation metric, in the context of machine learning and data analysis, is a quantitative measure used to assess the performance or quality of a model or a system's output with respect to a specific task or objective. Evaluation metrics are crucial because they provide a standardized way to measure and compare the performance of different models or systems. The choice of evaluation metric depends on the nature of the task being addressed (e.g. classification, regression, ranking) and the specific goals and requirements of the project.\n",
    "\n",
    "<a id='loss_and_metric'></a>\n",
    "## 2.1 Optimization Loss and Evaluation Metrics\n",
    "Optimization loss and evaluation metrics serve different roles in the context of machine learning model training and evaluation. Here are the key differences between the two: <br>\n",
    "1. **Purpose**: <br>\n",
    "    **Optimization Loss:** often simply referred to as \"loss\", is a mathematical function that the machine learning model aims to minimize during training. It serves as the objective function that guides the model's parameter updates during optimization. The primary purpose of the loss function is to measure the dissimilarity between the model's predictions and the true target values. It provides the model with a signal for adjusting its internal parameters to improve its predictive performance on the training data. The model's parameters are updated in the direction that reduces this loss, using techniques like gradient descent.<br>\n",
    "    **Evaluation Metric:** used to assess the model's performance and quality after it has been trained and to evaluate how well it generalizes to new, unseen data. These metrics are not used during training but rather during the model evaluation phase to provide a quantitative measure of how well the model is achieving its intended task. Evaluation metrics are often chosen based on the specific problem and the practical goals of the application.\n",
    "    \n",
    "2. **Function properties:** <br>\n",
    "    **Optimization Loss:** differentiable \"almost everywhere\" with respect to model parameters function that is well-suited for gradient-based optimization algorithms. Common examples include mean squared error (MSE), mean absolute error (MAE) for regression tasks and cross-entropy loss for classification tasks. <br>\n",
    "    **Evaluation Metric:** both continuous and discrete, are usually much better interpretable than loss, depending on the nature of the task. Examples include accuracy, precision, recall, F1-score, roc-auc, mean absolute percentage error, etc.\n",
    "    \n",
    "\n",
    "### What are \"good\" and \"bad\" properties of different evaluation metrics?\n",
    "\n",
    "- **differentiability \"almost everywhere\"** - is definitely a good property, because this kind of a metrics could serve as a training loss, so you can directly optimize it with SGD-based methods.\n",
    "- **multiclass/multivariate extensibility** - is definitely a good property, because in many real-life tasks you'll need to handle multicalss/multivariate ML problems, so you can extend your regular metric to them.\n",
    "- **reference values** - is definitely a good property, because if the metric has some reference values (e.g. ROCAUC=0.5), then without deep-diving into the problem itself and the nature of the data, we can immediately say whether the solution is rather good or not.\n",
    "- **interpretability** - is rather good property. When we talk about interpretability in terms of ML evaluation metrics, we're often discussing how understandable the metrics themselves are (especially by people without a deep background in ML), as well as how well they allow us to interpret the performance and characteristics of the model. Although, understanding more complex and less interpretable metrics fully may require some background knowledge, but they may provide deeper insights into some specific aspects of model performance.\n",
    "- **values limitation** - is rather good property, because if metric values are limited in some specific range is there is no risk of getting +-infinity values, with which it is not very clear what to do.\n",
    "- **outliers resistance** - is rather a good property, but only for problems in which outliers are not so important, e.g. in algo-trading there could be \"outlier\"-like situations in the market which can lead to your algorithm losing most of its money at once -> so you'll need to take care of outliers and doesn't use outlier-resistant metrics.\n",
    "- **equivalence of accounting for errors of the first and second types** - very much depends on the business task itself. E.g. in the classical credit scoring problem you would rather lend to fewer people, but who will definitely return your money, than to a much larger number of people who will not return your money (precision-based optimization), on the other hand in the task of primary disease diagnosis it is much more important to correctly identify all people with a disease, while falsely identifying healthy people as sick, than to very accurately identify those who are sick while missing half (recall-based optimization)\n",
    "\n",
    "    \n",
    "<a id='classification_metrics'></a>\n",
    "## 2.2 Classification metrics\n",
    "\n",
    "A binary machine learning classification task is a type of supervised learning problem in which the goal is to categorize data points into one of two distinct classes or categories. In other words, the output or prediction of the model is the probability distribution of an element belonging to the corresponding classes. These two classes are often referred to as the positive class and the negative class. The objective is to learn a model that can accurately classify new, unseen data points into one of these two classes based on the features or attributes of the data.\n",
    "\n",
    "Let's take a look at some common metrics using NLP example [Disaster Tweets](https://www.kaggle.com/competitions/nlp-getting-started):\n",
    "![](https://storage.googleapis.com/kaggle-media/competitions/tweet_screenshot.png)\n",
    "\n",
    "The author explicitly uses the word “ABLAZE” (палаючий) but means it metaphorically. This is clear to a human right away, especially with the visual aid. But it’s less clear to a machine.\n",
    "\n",
    "In this competition, you’re challenged to build a machine learning model that predicts which Tweets are about real disasters and which one’s aren’t. You’ll have access to a dataset of 10,000 tweets that were hand classified.\n",
    "Disclaimer: The dataset for this competition contains text that may be considered profane, vulgar, or offensive.\n",
    "\n",
    "**Please check info about Kaggle API** [here](https://www.google.com/url?sa=t&rct=j&q=&esrc=s&source=web&cd=&cad=rja&uact=8&ved=2ahUKEwifhoe5_7mBAxXPGRAIHXuXAWIQFnoECBIQAw&url=https%3A%2F%2Fgithub.com%2FKaggle%2Fkaggle-api%23%3A~%3Atext%3DTo%2520use%2520the%2520Kaggle%2520API%2Cfile%2520containing%2520your%2520API%2520credentials.&usg=AOvVaw1BewOUEPrUy1mWsrqk8T5U&opi=89978449)"
   ]
  },
  {
   "cell_type": "code",
   "execution_count": 1,
   "metadata": {},
   "outputs": [
    {
     "name": "stdout",
     "output_type": "stream",
     "text": [
      "nlp-getting-started.zip: Skipping, found more recently modified local copy (use --force to force download)\n"
     ]
    }
   ],
   "source": [
    "import platform\n",
    "\n",
    "!kaggle competitions download -c nlp-getting-started\n",
    "\n",
    "# Check if using Windows or Unix-based system\n",
    "if platform.system() == \"Windows\":\n",
    "    !powershell -command Expand-Archive nlp-getting-started.zip -DestinationPath ..\\data\\nlp-getting-started -Force\n",
    "else:\n",
    "    !unzip nlp-getting-started.zip -d ../data/nlp-getting-started"
   ]
  },
  {
   "cell_type": "code",
   "execution_count": 2,
   "metadata": {},
   "outputs": [
    {
     "data": {
      "text/html": [
       "<div>\n",
       "<style scoped>\n",
       "    .dataframe tbody tr th:only-of-type {\n",
       "        vertical-align: middle;\n",
       "    }\n",
       "\n",
       "    .dataframe tbody tr th {\n",
       "        vertical-align: top;\n",
       "    }\n",
       "\n",
       "    .dataframe thead th {\n",
       "        text-align: right;\n",
       "    }\n",
       "</style>\n",
       "<table border=\"1\" class=\"dataframe\">\n",
       "  <thead>\n",
       "    <tr style=\"text-align: right;\">\n",
       "      <th></th>\n",
       "      <th>id</th>\n",
       "      <th>keyword</th>\n",
       "      <th>location</th>\n",
       "      <th>text</th>\n",
       "      <th>target</th>\n",
       "    </tr>\n",
       "  </thead>\n",
       "  <tbody>\n",
       "    <tr>\n",
       "      <th>6184</th>\n",
       "      <td>8829</td>\n",
       "      <td>sirens</td>\n",
       "      <td>NaN</td>\n",
       "      <td>@iK4LEN Sirens was cancelled.</td>\n",
       "      <td>0</td>\n",
       "    </tr>\n",
       "    <tr>\n",
       "      <th>4099</th>\n",
       "      <td>5826</td>\n",
       "      <td>hail</td>\n",
       "      <td>United States</td>\n",
       "      <td>UNR continues Severe Thunderstorm Warning [win...</td>\n",
       "      <td>1</td>\n",
       "    </tr>\n",
       "    <tr>\n",
       "      <th>5919</th>\n",
       "      <td>8451</td>\n",
       "      <td>screamed</td>\n",
       "      <td>Unite. Bless. Wallahi</td>\n",
       "      <td>She screamed when she got the microchip needle...</td>\n",
       "      <td>0</td>\n",
       "    </tr>\n",
       "    <tr>\n",
       "      <th>624</th>\n",
       "      <td>898</td>\n",
       "      <td>bioterrorism</td>\n",
       "      <td>NaN</td>\n",
       "      <td>To fight bioterrorism sir.</td>\n",
       "      <td>0</td>\n",
       "    </tr>\n",
       "    <tr>\n",
       "      <th>1566</th>\n",
       "      <td>2262</td>\n",
       "      <td>cliff%20fall</td>\n",
       "      <td>norway</td>\n",
       "      <td>I regress and I slip and I fall off that cliff</td>\n",
       "      <td>0</td>\n",
       "    </tr>\n",
       "  </tbody>\n",
       "</table>\n",
       "</div>"
      ],
      "text/plain": [
       "        id       keyword                location  \\\n",
       "6184  8829        sirens                     NaN   \n",
       "4099  5826          hail           United States   \n",
       "5919  8451      screamed  Unite. Bless. Wallahi    \n",
       "624    898  bioterrorism                     NaN   \n",
       "1566  2262  cliff%20fall                  norway   \n",
       "\n",
       "                                                   text  target  \n",
       "6184                      @iK4LEN Sirens was cancelled.       0  \n",
       "4099  UNR continues Severe Thunderstorm Warning [win...       1  \n",
       "5919  She screamed when she got the microchip needle...       0  \n",
       "624                          To fight bioterrorism sir.       0  \n",
       "1566     I regress and I slip and I fall off that cliff       0  "
      ]
     },
     "execution_count": 2,
     "metadata": {},
     "output_type": "execute_result"
    }
   ],
   "source": [
    "import pandas as pd\n",
    "from sklearn.model_selection import train_test_split\n",
    "from sklearn.feature_extraction.text import TfidfVectorizer\n",
    "from sklearn.linear_model import LogisticRegression\n",
    "from sklearn.pipeline import Pipeline\n",
    "\n",
    "df_twitter = pd.read_csv('../data/nlp-getting-started/train.csv')\n",
    "df_twitter.sample(5)"
   ]
  },
  {
   "cell_type": "code",
   "execution_count": 3,
   "metadata": {},
   "outputs": [
    {
     "data": {
      "text/plain": [
       "target\n",
       "0    0.57034\n",
       "1    0.42966\n",
       "Name: proportion, dtype: float64"
      ]
     },
     "execution_count": 3,
     "metadata": {},
     "output_type": "execute_result"
    }
   ],
   "source": [
    "# 1 - real disaster, 0 - metaphoric\n",
    "df_twitter.target.value_counts(normalize=True)"
   ]
  },
  {
   "cell_type": "code",
   "execution_count": 4,
   "metadata": {},
   "outputs": [],
   "source": [
    "#straightforward train/test split\n",
    "\n",
    "X_train, X_test, y_train, y_test = train_test_split(\n",
    "    df_twitter.text, df_twitter.target, test_size=0.3, random_state=42\n",
    ")"
   ]
  },
  {
   "cell_type": "code",
   "execution_count": 5,
   "metadata": {},
   "outputs": [],
   "source": [
    "#modeling and inference\n",
    "\n",
    "pipe_classification = Pipeline([\n",
    "    ('vectorizer', TfidfVectorizer(\n",
    "        analyzer='word',\n",
    "        stop_words='english',\n",
    "        ngram_range=(1, 3),\n",
    "        lowercase=True,\n",
    "        min_df=5,\n",
    "        max_features=30000\n",
    "    )),  \n",
    "    ('classifier', LogisticRegression(C=1.0, random_state=42))\n",
    "])\n",
    "\n",
    "pipe_classification.fit(X_train, y_train)\n",
    "\n",
    "y_hat = pipe_classification.predict_proba(X_test)[:, 1]"
   ]
  },
  {
   "cell_type": "markdown",
   "metadata": {},
   "source": [
    "$$Let \\hspace{0.1cm} Y = \\Bigl\\{ y_{i} \\Bigl\\} \\hspace{0.1cm} - \\hspace{0.1cm} vector \\hspace{0.1cm} of\\hspace{0.1cm} ground\\hspace{0.1cm} truth\\hspace{0.1cm} labels \\hspace{0.5cm}  y_{i} є \\{0, 1\\}$$\n",
    "$$Let \\hspace{0.1cm} \\hat{Y} = \\Bigl\\{ \\hat{y_{i}} \\Bigl\\} \\hspace{0.1cm} - \\hspace{0.1cm} vector \\hspace{0.1cm} of\\hspace{0.1cm} predicted\\hspace{0.1cm} probabilities\\hspace{0.1cm} of \\hspace{0.1cm} class \\hspace{0.1cm} 1 \\hspace{0.5cm} \\hat{y_{i}} є [0, 1]$$\n",
    "### Continuous metrics:\n",
    "**Log-Loss / Cross-Entropy Loss** <br>\n",
    "$$ LogLoss = {-\\frac{1}{N} \\sum_{i=1}^{N}(y_{i}log(\\hat{y_{i}})+(1-y_i)log(1-\\hat{y_{i}}))}$$\n",
    "##### Pros:\n",
    "    + Differentiable\n",
    "    + Could be a loss\n",
    "    + Impact of misclassification confidence: Log loss takes into account the model's confidence in its predictions. If a model is highly confident in an incorrect prediction, it will result in a higher log loss than a less confident incorrect prediction\n",
    "    + Multiclass extension: Log loss can be extended to multiclass classification problems, where there are more than two classes\n",
    "\n",
    "##### Cons:\n",
    "    - Poorly interpretable (especially for people without IT/ML background)\n",
    "    - Not limited: Log loss values range from 0 to positive infinity\n",
    "    - Doesn't have \"reference values\": without knowing the task and classes distribution it's hard to tell whether e.g. 0.1/0.5/1.5 refers to a rather \"good\" or \"poor\" model performance "
   ]
  },
  {
   "cell_type": "code",
   "execution_count": 6,
   "metadata": {},
   "outputs": [
    {
     "data": {
      "text/plain": [
       "0.481916901386001"
      ]
     },
     "execution_count": 6,
     "metadata": {},
     "output_type": "execute_result"
    }
   ],
   "source": [
    "from sklearn.metrics import log_loss\n",
    "\n",
    "log_loss(y_test, y_hat)"
   ]
  },
  {
   "cell_type": "markdown",
   "metadata": {},
   "source": [
    "### Discrete metrics:\n",
    "\n",
    "In the discrete metric case we work with \"hard\" labels intead of \"soft\" labels or probabilities. Soft labels can transformed into hard labels for example using threshold for binary classification: e.g. if value > 0.5 then we consider it as a positive class and replace it with 1; otherwise we consider it as a negative class and replace it with 0.\n",
    "\n",
    "In order to introduce all common discrete metrics we need to get familiar with the **confusion matrix** that consists of 4 components:\n",
    "- **TP (True Positive)** - number of pairs for which $y_{i}=1$ and $hard\\_label(\\hat{y_{i}})=1$ i.e. number of positives that were predicted as positives by the model\n",
    "- **TN (True Negative)** - number of pairs for which $y_{i}=0$ and $hard\\_label(\\hat{y_{i}})=0$ i.e. number of negatives that were predicted as negatives by the model\n",
    "- **FP (False Positive)** - number of pairs for which $y_{i}=0$ and $hard\\_label(\\hat{y_{i}})=1$ i.e. number of negatives that were predicted as positives by the model\n",
    "- **FN (False Negative)** - number of pairs for which $y_{i}=1$ and $hard\\_label(\\hat{y_{i}})=0$ i.e. number of positives that were predicted as negatives by the model\n",
    "\n",
    "![](https://assets-global.website-files.com/5d7b77b063a9066d83e1209c/63b413d2cdc133446aa23fc5_636b9182cfaef2115e028921_HERO_1_Confusion.png)"
   ]
  },
  {
   "cell_type": "code",
   "execution_count": 7,
   "metadata": {},
   "outputs": [
    {
     "name": "stdout",
     "output_type": "stream",
     "text": [
      "[[1156  162]\n",
      " [ 302  664]]\n"
     ]
    }
   ],
   "source": [
    "from sklearn.metrics import confusion_matrix\n",
    "\n",
    "print(confusion_matrix(y_test, y_hat >= 0.5))"
   ]
  },
  {
   "cell_type": "markdown",
   "metadata": {},
   "source": [
    "|                | Predicted Negative | Predicted Positive |\n",
    "|:--------------:|--------------------|--------------------|\n",
    "| **Negative Cases** |      TN: 1156      |      FP: 162      |\n",
    "| **Positive Cases** |      FN: 302      |      TP: 664     |"
   ]
  },
  {
   "cell_type": "markdown",
   "metadata": {},
   "source": [
    "**Accuracy** <br>\n",
    "Accuracy simply measures *what percent of your predictions were correct*. It's the ratio between the number of correct predictions and the total number of predictions. The downside is that it is hard to optimize and it cares about hard labels\n",
    "\n",
    "$$accuracy = {\\frac{TP + TN}{TP + FP + FN + TN}}$$\n",
    "\n",
    "##### Pros:\n",
    "    + Highly interpretable by non-technical people\n",
    "    + Limited in range [0, 1]\n",
    "    + Multiclass extension: can be extended to multiclass classification problems, where there are more than two classes\n",
    "\n",
    "##### Cons:\n",
    "    - Not resistant to class imbalance\n",
    "    - Doesn't have \"reference values\": without knowing the task and classes distribution it's hard to tell whether e.g. 0.6/0.8/0.99 refers to a rather \"good\" or \"poor\" model performance. However, the percentage of the majority class may be considered as a reference value if we know the class distribution."
   ]
  },
  {
   "cell_type": "code",
   "execution_count": 8,
   "metadata": {},
   "outputs": [
    {
     "data": {
      "text/plain": [
       "0.7968476357267951"
      ]
     },
     "execution_count": 8,
     "metadata": {},
     "output_type": "execute_result"
    }
   ],
   "source": [
    "from sklearn.metrics import accuracy_score\n",
    "\n",
    "accuracy_score(y_test, y_hat >= 0.5)"
   ]
  },
  {
   "cell_type": "markdown",
   "metadata": {},
   "source": [
    "**Precision & Recall**\n",
    "\n",
    "Precision and recall are actually two metrics. But they are often used together.\n",
    "\n",
    "**Precision** answers the question: *What percent of positive predictions were correct?*\n",
    "\n",
    "$$precision = {\\frac{TP}{TP + FP}}$$\n",
    "\n",
    "**Recall** answers the question: *What percent of the positive cases did you catch?*\n",
    "\n",
    "$$recall = {\\frac{TP}{TP + FN}}$$\n",
    "\n",
    "##### Pros:\n",
    "    + Highly interpretable by non-technical people\n",
    "    + Limited in range [0, 1]\n",
    "    + Multiclass extension: can be extended to multiclass classification problems, where there are more than two classes\n",
    "\n",
    "##### Cons:\n",
    "    - Doesn't take into account TN\n",
    "    - Do not make sense without each other\n",
    "    - Strongly depend on the threshold\n",
    "\n",
    "**F1-score**\n",
    "The F1-score (sometimes known as the balanced F-beta score with beta=1) is a single metric that combines both precision and recall via their harmonic mean:\n",
    "\n",
    "$$F_1 = 2*{\\frac{precision * recall}{precision + recall}}$$\n",
    "\n",
    "Unlike the arithmetic mean, the harmonic mean tends toward the smaller of the two elements. Hence the F1 score will be small if either precision or recall is small.\n",
    "We actually need F1 score because in many cases we can make precision almost as close to 1 as possible but this will result a poor recall and vice-versa.\n",
    "\n",
    "##### Pros:\n",
    "    + Limited in range [0, 1]\n",
    "    + Suitable for imbalanced classes case\n",
    "    + Multiclass extension: can be extended to multiclass classification problems, where there are more than two classes\n",
    "\n",
    "##### Cons:\n",
    "    - Poorly interpretable (especially for people without IT/ML background)\n",
    "    - Doesn't take into account TN\n",
    "    - Strongly depend on the threshold"
   ]
  },
  {
   "cell_type": "code",
   "execution_count": 9,
   "metadata": {},
   "outputs": [
    {
     "data": {
      "text/html": [
       "<div>\n",
       "<style scoped>\n",
       "    .dataframe tbody tr th:only-of-type {\n",
       "        vertical-align: middle;\n",
       "    }\n",
       "\n",
       "    .dataframe tbody tr th {\n",
       "        vertical-align: top;\n",
       "    }\n",
       "\n",
       "    .dataframe thead th {\n",
       "        text-align: right;\n",
       "    }\n",
       "</style>\n",
       "<table border=\"1\" class=\"dataframe\">\n",
       "  <thead>\n",
       "    <tr style=\"text-align: right;\">\n",
       "      <th></th>\n",
       "      <th>positives_ratio</th>\n",
       "      <th>precision</th>\n",
       "      <th>recall</th>\n",
       "      <th>f1</th>\n",
       "    </tr>\n",
       "  </thead>\n",
       "  <tbody>\n",
       "    <tr>\n",
       "      <th>0.10</th>\n",
       "      <td>0.982925</td>\n",
       "      <td>0.428508</td>\n",
       "      <td>0.995859</td>\n",
       "      <td>0.599190</td>\n",
       "    </tr>\n",
       "    <tr>\n",
       "      <th>0.25</th>\n",
       "      <td>0.719790</td>\n",
       "      <td>0.543796</td>\n",
       "      <td>0.925466</td>\n",
       "      <td>0.685057</td>\n",
       "    </tr>\n",
       "    <tr>\n",
       "      <th>0.50</th>\n",
       "      <td>0.361646</td>\n",
       "      <td>0.803874</td>\n",
       "      <td>0.687371</td>\n",
       "      <td>0.741071</td>\n",
       "    </tr>\n",
       "    <tr>\n",
       "      <th>0.75</th>\n",
       "      <td>0.142732</td>\n",
       "      <td>0.944785</td>\n",
       "      <td>0.318841</td>\n",
       "      <td>0.476780</td>\n",
       "    </tr>\n",
       "    <tr>\n",
       "      <th>0.90</th>\n",
       "      <td>0.014011</td>\n",
       "      <td>1.000000</td>\n",
       "      <td>0.033126</td>\n",
       "      <td>0.064128</td>\n",
       "    </tr>\n",
       "  </tbody>\n",
       "</table>\n",
       "</div>"
      ],
      "text/plain": [
       "      positives_ratio  precision    recall        f1\n",
       "0.10         0.982925   0.428508  0.995859  0.599190\n",
       "0.25         0.719790   0.543796  0.925466  0.685057\n",
       "0.50         0.361646   0.803874  0.687371  0.741071\n",
       "0.75         0.142732   0.944785  0.318841  0.476780\n",
       "0.90         0.014011   1.000000  0.033126  0.064128"
      ]
     },
     "execution_count": 9,
     "metadata": {},
     "output_type": "execute_result"
    }
   ],
   "source": [
    "from sklearn.metrics import precision_score, recall_score, f1_score\n",
    "\n",
    "f_metrics = []\n",
    "tholds = [0.1, 0.25, 0.5, 0.75, 0.9]\n",
    "for th in [0.1, 0.25, 0.5, 0.75, 0.9]:\n",
    "    f_metrics.append({\n",
    "        'positives_ratio': (y_hat >= th).sum()/y_hat.shape[0],\n",
    "        'precision': precision_score(y_test, y_hat >= th),\n",
    "        'recall': recall_score(y_test, y_hat >= th),\n",
    "        'f1': f1_score(y_test, y_hat >= th),\n",
    "    })\n",
    "pd.DataFrame(f_metrics, index=tholds)"
   ]
  },
  {
   "cell_type": "markdown",
   "metadata": {},
   "source": [
    "**ROC-AUC**\n",
    "\n",
    "The ROC curve is created by plotting the true positive rate (TPR) against the false positive rate (FPR) at various threshold settings.\n",
    "\n",
    "- **TPR/Recall** - *What percent of the positive cases did you catch?* \n",
    "$$TPR = {\\frac{TP}{TP + FN}}$$\n",
    "- **FPR/Fall-out** - *What percent of negatives would be classified as positives?* \n",
    "$$FPR = {\\frac{FP}{FP + TN}}$$\n",
    "\n",
    "$$ROCAUC = \\int_{t=0}^{1} TPR(t) \\,dFPR(t)$$\n",
    "\n",
    "![](https://machinelearningmastery.com/wp-content/uploads/2018/08/ROC-Curve-Plot-for-a-No-Skill-Classifier-and-a-Logistic-Regression-Model.png)\n",
    "\n",
    "##### Pros:\n",
    "    + Limited in range [0, 1]\n",
    "    + Doesn't depend on the threshold\n",
    "    + Takes all TP/FP/FN/TN into account\n",
    "    + Has some reference values, e.g. 0.5 - random prediction, 0.8-0.9 in balanced case - good, ~1 ideal prediction, \n",
    "    \n",
    "##### Cons:\n",
    "    - Poorly interpretable (especially for people without IT/ML background)\n",
    "    - Doesn't distinguish between different types of errors (false positives and false negatives). In some imbalanced scenarios, you may want to prioritize one type of error over the other.\n",
    "    \n",
    "**PRECISION-RECALL-AUC**\n",
    "\n",
    "The PRECISION-RECALL curve is created by plotting Precision against Recall at various threshold settings.\n",
    "\n",
    "\n",
    "$$PRECISION\\_RECALL\\_AUC = \\int_{t=0}^{1} PRECISION(t) \\,dRECALL(t)$$\n",
    "\n",
    "![](https://machinelearningmastery.com/wp-content/uploads/2020/01/Precision-Recall-Curve-of-a-Logistic-Regression-Model-and-a-No-Skill-Classifier2.png)\n",
    "\n",
    "##### Pros:\n",
    "    + Limited in range [0, 1]\n",
    "    + Doesn't depend on the threshold\n",
    "    + Very useful for tasks with a huge class imbalance\n",
    "    \n",
    "##### Cons:\n",
    "    - Poorly interpretable (especially for people without IT/ML background)\n",
    "    - Doesn't take into account TN\n",
    "    - Doesn't have reference values"
   ]
  },
  {
   "cell_type": "code",
   "execution_count": 10,
   "metadata": {},
   "outputs": [
    {
     "data": {
      "image/png": "[encoded data removed]",
      "text/plain": [
       "<Figure size 1200x500 with 2 Axes>"
      ]
     },
     "metadata": {},
     "output_type": "display_data"
    }
   ],
   "source": [
    "from matplotlib import pyplot\n",
    "from sklearn.metrics import roc_auc_score, precision_recall_curve, roc_curve, auc\n",
    "\n",
    "fig, axs = pyplot.subplots(1, 2, figsize=(12, 5))\n",
    "\n",
    "# plot no skill and model roc curves\n",
    "def plot_roc_curve(test_y, model_probs, ax):\n",
    "    fpr, tpr, _ = roc_curve(test_y, model_probs)\n",
    "    ax.plot(fpr, tpr, marker='.', label='Logistic')\n",
    "    ax.set_title(f'ROC-AUC = {roc_auc_score(test_y, model_probs):.4f}')\n",
    "    ax.set_xlabel('False Positive Rate')\n",
    "    ax.set_ylabel('True Positive Rate')\n",
    "    ax.legend()\n",
    "    \n",
    "# plot model precision-recall curves\n",
    "def plot_pr_curve(test_y, model_probs, ax):\n",
    "    precision, recall, _ = precision_recall_curve(test_y, model_probs)\n",
    "    ax.plot(recall, precision, marker='.', label='Logistic')\n",
    "    ax.set_title(f'PR-AUC = {auc(recall, precision):.4f}')\n",
    "    ax.set_xlabel('Recall')\n",
    "    ax.set_ylabel('Precision')\n",
    "    ax.legend()\n",
    "\n",
    "\n",
    "plot_roc_curve(y_test, y_hat, axs[0])\n",
    "plot_pr_curve(y_test, y_hat, axs[1])\n",
    "pyplot.show()"
   ]
  },
  {
   "cell_type": "markdown",
   "metadata": {},
   "source": [
    "### Imbalanced classes case"
   ]
  },
  {
   "cell_type": "code",
   "execution_count": 11,
   "metadata": {},
   "outputs": [],
   "source": [
    "negative_class_index = y_test[y_test == 0].index\n",
    "positive_class_index = y_test[y_test == 1].sample(frac=0.05).index\n",
    "imbalanced_sumsample_index = negative_class_index.append(positive_class_index)\n",
    "\n",
    "y_test_imbalanced = y_test.loc[imbalanced_sumsample_index]\n",
    "y_hat_imbalanced = pipe_classification.predict_proba(X_test.loc[imbalanced_sumsample_index])[:, 1]"
   ]
  },
  {
   "cell_type": "code",
   "execution_count": 12,
   "metadata": {},
   "outputs": [
    {
     "data": {
      "image/png": "[encoded data removed]",
      "text/plain": [
       "<Figure size 1200x500 with 2 Axes>"
      ]
     },
     "metadata": {},
     "output_type": "display_data"
    }
   ],
   "source": [
    "fig, axs = pyplot.subplots(1, 2, figsize=(12, 5))\n",
    "\n",
    "plot_roc_curve(y_test_imbalanced, y_hat_imbalanced, axs[0])\n",
    "plot_pr_curve(y_test_imbalanced, y_hat_imbalanced, axs[1])\n",
    "pyplot.show()"
   ]
  },
  {
   "cell_type": "markdown",
   "metadata": {},
   "source": [
    "> **Explore**: check multiclass/multilabel extensions (equations and implementations) for all common classification metrics (accuracy, precision, recall, F1/Fbeta)"
   ]
  },
  {
   "cell_type": "markdown",
   "metadata": {},
   "source": [
    "### Choosing a correct loss function for a given metric optimization\n",
    "![](https://scikit-learn.org/stable/_images/sphx_glr_plot_sgd_loss_functions_001.png)"
   ]
  },
  {
   "cell_type": "code",
   "execution_count": 13,
   "metadata": {},
   "outputs": [],
   "source": [
    "from sklearn.linear_model import SGDClassifier\n",
    "\n",
    "pipe_classification_log_loss = Pipeline([\n",
    "    ('vectorizer', TfidfVectorizer(\n",
    "        analyzer='word',\n",
    "        stop_words='english',\n",
    "        ngram_range=(1, 3),\n",
    "        lowercase=True,\n",
    "        min_df=5,\n",
    "        max_features=30000\n",
    "    )),  \n",
    "    ('classifier', SGDClassifier(loss='log_loss', random_state=42, n_jobs=-1))\n",
    "])\n",
    "\n",
    "pipe_classification_log_loss.fit(X_train, y_train)\n",
    "y_hat_log_loss = pipe_classification_log_loss.predict_proba(X_test)[:, 1]\n",
    "\n",
    "\n",
    "pipe_classification_huber = Pipeline([\n",
    "    ('vectorizer', TfidfVectorizer(\n",
    "        analyzer='word',\n",
    "        stop_words='english',\n",
    "        ngram_range=(1, 3),\n",
    "        lowercase=True,\n",
    "        min_df=5,\n",
    "        max_features=30000\n",
    "    )),  \n",
    "    ('classifier', SGDClassifier(loss='modified_huber', random_state=42, n_jobs=-1))\n",
    "])\n",
    "\n",
    "pipe_classification_huber.fit(X_train, y_train)\n",
    "y_hat_huber = pipe_classification_huber.predict_proba(X_test)[:, 1]"
   ]
  },
  {
   "cell_type": "code",
   "execution_count": 14,
   "metadata": {},
   "outputs": [
    {
     "data": {
      "image/png": "[encoded data removed]",
      "text/plain": [
       "<Figure size 1200x1000 with 4 Axes>"
      ]
     },
     "metadata": {},
     "output_type": "display_data"
    }
   ],
   "source": [
    "precision_log_loss, recall_log_loss, _ = precision_recall_curve(y_test, y_hat_log_loss)\n",
    "precision_huber, recall_huber, _ = precision_recall_curve(y_test, y_hat_huber)\n",
    "\n",
    "fig, axs = pyplot.subplots(2, 2, figsize=(12, 10))\n",
    "\n",
    "plot_roc_curve(y_test, y_hat_log_loss, axs[0, 0])\n",
    "plot_pr_curve(y_test, y_hat_log_loss, axs[0, 1])\n",
    "\n",
    "plot_roc_curve(y_test, y_hat_huber, axs[1, 0])\n",
    "plot_pr_curve(y_test, y_hat_huber, axs[1, 1])\n",
    "\n",
    "axs[0, 0].set_title(f'Log Loss - ROC Curve (AUC = {roc_auc_score(y_test, y_hat_log_loss):.3f})')\n",
    "axs[0, 1].set_title(f'Log Loss - PR Curve (AUC = {auc(recall_log_loss, precision_log_loss):.3f})')\n",
    "axs[1, 0].set_title(f'Huber Loss - ROC Curve (AUC = {roc_auc_score(y_test, y_hat_huber):.3f})')\n",
    "axs[1, 1].set_title(f'Huber Loss - PR Curve (AUC = {auc(recall_huber, precision_huber):.3f})')\n",
    "\n",
    "# Adjust layout and display the subplots\n",
    "pyplot.tight_layout()\n",
    "pyplot.show()"
   ]
  },
  {
   "cell_type": "markdown",
   "metadata": {},
   "source": [
    "### Thoughts about model selection using evaluation metrics\n",
    "\n",
    "**Within the framework of solving a classification problem, when there are different approaches or models that model the target distribution, in order to compare them with each other, it is better to use AUC-like metrics, since they do not depend on the threshold, and in the case of such metrics, higher values always correspond to a better, in some sense, modeling of the target distribution. But the final business decision usually should be made with respect to \"hard\" e.g. precision/recall metrics, because in real-life scenarios we usually need \"hard\" labels and not probabilities.**"
   ]
  },
  {
   "cell_type": "markdown",
   "metadata": {},
   "source": [
    "<a id='regression_metrics'></a>\n",
    "## 2.3 Regression metrics\n",
    "\n",
    "A regression task, in machine learning, is a type of supervised learning problem where the goal is to predict a continuous numeric value or a real number. In regression tasks, the target variable is continuous, and the model's objective is to learn a mapping from input features to this continuous output.\n",
    "\n",
    "Let's take a look at some common metrics using NLP example [CommonLit - Evaluate Student Summaries](https://www.kaggle.com/competitions/commonlit-evaluate-student-summaries/overview):<br>\n",
    "The goal of this competition is to assess the quality of summaries written by students in grades 3-12. You'll build a model that evaluates how well a student represents the main idea and details of a source text, as well as the clarity, precision, and fluency of the language used in the summary. You'll have access to a collection of real student summaries to train your model.\n",
    "\n"
   ]
  },
  {
   "cell_type": "code",
   "execution_count": 15,
   "metadata": {},
   "outputs": [
    {
     "name": "stdout",
     "output_type": "stream",
     "text": [
      "commonlit-evaluate-student-summaries.zip: Skipping, found more recently modified local copy (use --force to force download)\n",
      "Archive:  commonlit-evaluate-student-summaries.zip\n",
      "  inflating: commonlit-evaluate-student-summaries/prompts_test.csv  \n",
      "  inflating: commonlit-evaluate-student-summaries/prompts_train.csv  \n",
      "  inflating: commonlit-evaluate-student-summaries/sample_submission.csv  \n",
      "  inflating: commonlit-evaluate-student-summaries/summaries_test.csv  \n",
      "  inflating: commonlit-evaluate-student-summaries/summaries_train.csv  \n"
     ]
    }
   ],
   "source": [
    "!kaggle competitions download -c commonlit-evaluate-student-summaries\n",
    "\n",
    "# Check if using Windows or Unix-based system\n",
    "if platform.system() == \"Windows\":\n",
    "    !powershell -command Expand-Archive commonlit-evaluate-student-summaries.zip -DestinationPath ..\\data\\commonlit-evaluate-student-summaries -Force\n",
    "else:\n",
    "    !unzip commonlit-evaluate-student-summaries.zip -d ../data/commonlit-evaluate-student-summaries"
   ]
  },
  {
   "cell_type": "code",
   "execution_count": 16,
   "metadata": {},
   "outputs": [
    {
     "data": {
      "text/html": [
       "<div>\n",
       "<style scoped>\n",
       "    .dataframe tbody tr th:only-of-type {\n",
       "        vertical-align: middle;\n",
       "    }\n",
       "\n",
       "    .dataframe tbody tr th {\n",
       "        vertical-align: top;\n",
       "    }\n",
       "\n",
       "    .dataframe thead th {\n",
       "        text-align: right;\n",
       "    }\n",
       "</style>\n",
       "<table border=\"1\" class=\"dataframe\">\n",
       "  <thead>\n",
       "    <tr style=\"text-align: right;\">\n",
       "      <th></th>\n",
       "      <th>prompt_id</th>\n",
       "      <th>prompt_question</th>\n",
       "      <th>prompt_title</th>\n",
       "      <th>prompt_text</th>\n",
       "    </tr>\n",
       "  </thead>\n",
       "  <tbody>\n",
       "    <tr>\n",
       "      <th>0</th>\n",
       "      <td>39c16e</td>\n",
       "      <td>Summarize at least 3 elements of an ideal trag...</td>\n",
       "      <td>On Tragedy</td>\n",
       "      <td>Chapter 13 \\r\\nAs the sequel to what has alrea...</td>\n",
       "    </tr>\n",
       "    <tr>\n",
       "      <th>1</th>\n",
       "      <td>3b9047</td>\n",
       "      <td>In complete sentences, summarize the structure...</td>\n",
       "      <td>Egyptian Social Structure</td>\n",
       "      <td>Egyptian society was structured like a pyramid...</td>\n",
       "    </tr>\n",
       "    <tr>\n",
       "      <th>2</th>\n",
       "      <td>814d6b</td>\n",
       "      <td>Summarize how the Third Wave developed over su...</td>\n",
       "      <td>The Third Wave</td>\n",
       "      <td>Background \\r\\nThe Third Wave experiment took ...</td>\n",
       "    </tr>\n",
       "    <tr>\n",
       "      <th>3</th>\n",
       "      <td>ebad26</td>\n",
       "      <td>Summarize the various ways the factory would u...</td>\n",
       "      <td>Excerpt from The Jungle</td>\n",
       "      <td>With one member trimming beef in a cannery, an...</td>\n",
       "    </tr>\n",
       "  </tbody>\n",
       "</table>\n",
       "</div>"
      ],
      "text/plain": [
       "  prompt_id                                    prompt_question  \\\n",
       "0    39c16e  Summarize at least 3 elements of an ideal trag...   \n",
       "1    3b9047  In complete sentences, summarize the structure...   \n",
       "2    814d6b  Summarize how the Third Wave developed over su...   \n",
       "3    ebad26  Summarize the various ways the factory would u...   \n",
       "\n",
       "                prompt_title  \\\n",
       "0                 On Tragedy   \n",
       "1  Egyptian Social Structure   \n",
       "2             The Third Wave   \n",
       "3    Excerpt from The Jungle   \n",
       "\n",
       "                                         prompt_text  \n",
       "0  Chapter 13 \\r\\nAs the sequel to what has alrea...  \n",
       "1  Egyptian society was structured like a pyramid...  \n",
       "2  Background \\r\\nThe Third Wave experiment took ...  \n",
       "3  With one member trimming beef in a cannery, an...  "
      ]
     },
     "execution_count": 16,
     "metadata": {},
     "output_type": "execute_result"
    }
   ],
   "source": [
    "df_prompts = pd.read_csv('../data/commonlit-evaluate-student-summaries/prompts_train.csv')\n",
    "df_summaries = pd.read_csv('../data/commonlit-evaluate-student-summaries/summaries_train.csv')\n",
    "df_prompts.head()"
   ]
  },
  {
   "cell_type": "code",
   "execution_count": 17,
   "metadata": {},
   "outputs": [
    {
     "data": {
      "text/html": [
       "<div>\n",
       "<style scoped>\n",
       "    .dataframe tbody tr th:only-of-type {\n",
       "        vertical-align: middle;\n",
       "    }\n",
       "\n",
       "    .dataframe tbody tr th {\n",
       "        vertical-align: top;\n",
       "    }\n",
       "\n",
       "    .dataframe thead th {\n",
       "        text-align: right;\n",
       "    }\n",
       "</style>\n",
       "<table border=\"1\" class=\"dataframe\">\n",
       "  <thead>\n",
       "    <tr style=\"text-align: right;\">\n",
       "      <th></th>\n",
       "      <th>student_id</th>\n",
       "      <th>prompt_id</th>\n",
       "      <th>text</th>\n",
       "      <th>content</th>\n",
       "      <th>wording</th>\n",
       "    </tr>\n",
       "  </thead>\n",
       "  <tbody>\n",
       "    <tr>\n",
       "      <th>38</th>\n",
       "      <td>014da834aab7</td>\n",
       "      <td>39c16e</td>\n",
       "      <td>A tragedy should feature a character who can b...</td>\n",
       "      <td>0.670351</td>\n",
       "      <td>1.551633</td>\n",
       "    </tr>\n",
       "    <tr>\n",
       "      <th>5377</th>\n",
       "      <td>be99c23d6b55</td>\n",
       "      <td>3b9047</td>\n",
       "      <td>The ancient Egyptian government was run by a P...</td>\n",
       "      <td>2.172932</td>\n",
       "      <td>0.239217</td>\n",
       "    </tr>\n",
       "    <tr>\n",
       "      <th>6635</th>\n",
       "      <td>eda635896743</td>\n",
       "      <td>814d6b</td>\n",
       "      <td>The Third Wave was a very sucessful experiment...</td>\n",
       "      <td>1.659032</td>\n",
       "      <td>2.345615</td>\n",
       "    </tr>\n",
       "    <tr>\n",
       "      <th>4835</th>\n",
       "      <td>ab6fed13c562</td>\n",
       "      <td>3b9047</td>\n",
       "      <td>The different social classes are involved in t...</td>\n",
       "      <td>-0.627647</td>\n",
       "      <td>-0.125597</td>\n",
       "    </tr>\n",
       "    <tr>\n",
       "      <th>3638</th>\n",
       "      <td>810812708c1d</td>\n",
       "      <td>ebad26</td>\n",
       "      <td>Whenever meat was so spoiled the workers would...</td>\n",
       "      <td>0.108585</td>\n",
       "      <td>-0.297646</td>\n",
       "    </tr>\n",
       "  </tbody>\n",
       "</table>\n",
       "</div>"
      ],
      "text/plain": [
       "        student_id prompt_id  \\\n",
       "38    014da834aab7    39c16e   \n",
       "5377  be99c23d6b55    3b9047   \n",
       "6635  eda635896743    814d6b   \n",
       "4835  ab6fed13c562    3b9047   \n",
       "3638  810812708c1d    ebad26   \n",
       "\n",
       "                                                   text   content   wording  \n",
       "38    A tragedy should feature a character who can b...  0.670351  1.551633  \n",
       "5377  The ancient Egyptian government was run by a P...  2.172932  0.239217  \n",
       "6635  The Third Wave was a very sucessful experiment...  1.659032  2.345615  \n",
       "4835  The different social classes are involved in t... -0.627647 -0.125597  \n",
       "3638  Whenever meat was so spoiled the workers would...  0.108585 -0.297646  "
      ]
     },
     "execution_count": 17,
     "metadata": {},
     "output_type": "execute_result"
    }
   ],
   "source": [
    "df_summaries.sample(5)"
   ]
  },
  {
   "cell_type": "markdown",
   "metadata": {},
   "source": [
    "![](https://www.googleapis.com/download/storage/v1/b/kaggle-forum-message-attachments/o/inbox%2F9174368%2F195e02a7cf40fbf40e1179bad1cdd017%2Fcontent_wording_graphic.png?generation=1689711455437198&alt=media)"
   ]
  },
  {
   "cell_type": "code",
   "execution_count": 18,
   "metadata": {},
   "outputs": [
    {
     "data": {
      "text/plain": [
       "<AxesSubplot:>"
      ]
     },
     "execution_count": 18,
     "metadata": {},
     "output_type": "execute_result"
    },
    {
     "data": {
      "image/png": "[encoded data removed]",
      "text/plain": [
       "<Figure size 432x288 with 1 Axes>"
      ]
     },
     "metadata": {
      "needs_background": "light"
     },
     "output_type": "display_data"
    }
   ],
   "source": [
    "df_summaries.content.hist()"
   ]
  },
  {
   "cell_type": "code",
   "execution_count": 19,
   "metadata": {},
   "outputs": [
    {
     "data": {
      "text/plain": [
       "<AxesSubplot:>"
      ]
     },
     "execution_count": 19,
     "metadata": {},
     "output_type": "execute_result"
    },
    {
     "data": {
      "image/png": "[encoded data removed]",
      "text/plain": [
       "<Figure size 432x288 with 1 Axes>"
      ]
     },
     "metadata": {
      "needs_background": "light"
     },
     "output_type": "display_data"
    }
   ],
   "source": [
    "df_summaries.wording.hist()"
   ]
  },
  {
   "cell_type": "code",
   "execution_count": 20,
   "metadata": {},
   "outputs": [],
   "source": [
    "#straightforward train/test split - this approach is actually SO WRONG here!!\n",
    "\n",
    "X_train, X_test, y_train, y_test = train_test_split(\n",
    "    df_summaries.text, df_summaries.wording, test_size=0.3, random_state=42\n",
    ")"
   ]
  },
  {
   "cell_type": "code",
   "execution_count": 21,
   "metadata": {},
   "outputs": [],
   "source": [
    "from sklearn.linear_model import Ridge\n",
    "\n",
    "#modeling and inference\n",
    "\n",
    "pipe_regression = Pipeline([\n",
    "    ('vectorizer', TfidfVectorizer(\n",
    "        analyzer='word',\n",
    "        stop_words='english',\n",
    "        ngram_range=(1, 3),\n",
    "        lowercase=True,\n",
    "        min_df=5,\n",
    "        max_features=30000\n",
    "    )),  \n",
    "    ('classifier', Ridge(alpha=1.0, random_state=42))\n",
    "])\n",
    "\n",
    "pipe_regression.fit(X_train, y_train)\n",
    "\n",
    "y_hat = pipe_regression.predict(X_test)"
   ]
  },
  {
   "cell_type": "markdown",
   "metadata": {},
   "source": [
    "**MSE (L2 Loss) and RMSE:** <br>\n",
    "MSE measures your mean square error from target:\n",
    "\n",
    "\n",
    "$$ MSE = {\\frac{1}{N} \\sum_{i=1}^{N}(y_{i}-\\hat{y_{i}})^2}$$\n",
    "\n",
    "$$ RMSE = {\\sqrt{MSE}}$$\n",
    "\n",
    "RMSE and MSE is similiar in terms of minimizers - value minimizes RMSE **if and only if** it minimizes MSE. This means that in terms of competitions we can optimize MSE instead of RMSE. In fact it is easier to work with MSE. But there is a little bit of difference between the two for gradient-based models. The gradient of RMSE with respect to i-th prediction is basically equal to gradient of MSE multiplied by some value. The value doesn't depend on the index I. It means that travelling along MSE gradient is equivalent to traveling along RMSE gradient but with a different flowing rate and the flowing rate depends on MSE score itself. So, it is kind of dynamic.So even though RMSE and MSE are really similar in terms of models scoring, they can be not immediately interchangeable for gradient based methods. We will probably need to adjust some parameters like the learning rate.\n",
    "\n",
    "##### Pros:\n",
    "    + Differentiable\n",
    "    + Could be a loss\n",
    "    + According to the Gauss-Markov theorem optimizing MSE results in BLUE (The best linear unbiased estimator) for linear models if the conditions of the theorem are fulfilled\n",
    "\n",
    "##### Cons:\n",
    "    - Sensitive for outliers: Optimizing MSE could produce a non-robust estimator\n",
    "    - Doesn't have reference values: without knowing the scale of the target variable it's hard to tell whether e.g. 0.5/5/50 values are good or not\n",
    "\n",
    "**R-squared** <br>\n",
    "To see model performance in terms of dummy baseline usually R-squared is used. Or Adjusted R-squared to penalize for model parameters/features\n",
    "\n",
    "$$ R^2 = 1 - {\\frac{MSE}{\\frac{1}{N} \\sum_{i=1}^{N}(y_{i}-\\bar{y_{i}})^2}}$$\n",
    "\n",
    "In a normal scenario R-squared should be between 0 and 1.\n",
    "\n",
    "##### Pros:\n",
    "    + Differentiable\n",
    "    + Could be a loss\n",
    "    + Has reference values: < 0 -> model performs worse than the \"blind guess\"; greater than 0 -> model performs better than the \"blind guess\"; ~1 - we have a perfect model\n",
    "\n",
    "##### Cons:\n",
    "    - Sensitive for outliers\n",
    "    \n",
    "#### Outliers case:\n",
    "![](https://machinelearningmastery.com/wp-content/uploads/2020/03/Comparison-of-Robust-Regression-Algorithms-Line-of-Best-Fit.png)\n",
    "\n",
    "**MAE (L1 Loss / Manhattan Distance):**\n",
    "\n",
    "$$ MAE = {\\frac{1}{N} \\sum_{i=1}^{N}|y_{i}-\\hat{y_{i}}|} $$\n",
    "\n",
    "##### Pros:\n",
    "    + Differentiable \"almost everywhere\". Although, it is not differentiable in 0, but you can simply overcome that by coding simple *if else* condition.\n",
    "    + Could be a loss\n",
    "    + Less sensitive to outliers, so produces more robust estimators\n",
    "\n",
    "##### Cons:\n",
    "    - Doesn't have reference values: without knowing the scale of the target variable it's hard to tell whether e.g. 0.5/5/50 values are good or not\n"
   ]
  },
  {
   "cell_type": "code",
   "execution_count": 22,
   "metadata": {},
   "outputs": [
    {
     "data": {
      "text/html": [
       "<div>\n",
       "<style scoped>\n",
       "    .dataframe tbody tr th:only-of-type {\n",
       "        vertical-align: middle;\n",
       "    }\n",
       "\n",
       "    .dataframe tbody tr th {\n",
       "        vertical-align: top;\n",
       "    }\n",
       "\n",
       "    .dataframe thead th {\n",
       "        text-align: right;\n",
       "    }\n",
       "</style>\n",
       "<table border=\"1\" class=\"dataframe\">\n",
       "  <thead>\n",
       "    <tr style=\"text-align: right;\">\n",
       "      <th></th>\n",
       "      <th>metric</th>\n",
       "      <th>value</th>\n",
       "    </tr>\n",
       "  </thead>\n",
       "  <tbody>\n",
       "    <tr>\n",
       "      <th>0</th>\n",
       "      <td>mean_squared_error</td>\n",
       "      <td>0.474720</td>\n",
       "    </tr>\n",
       "    <tr>\n",
       "      <th>1</th>\n",
       "      <td>mean_absolute_error</td>\n",
       "      <td>0.544471</td>\n",
       "    </tr>\n",
       "    <tr>\n",
       "      <th>2</th>\n",
       "      <td>r2_score</td>\n",
       "      <td>0.552307</td>\n",
       "    </tr>\n",
       "  </tbody>\n",
       "</table>\n",
       "</div>"
      ],
      "text/plain": [
       "                metric     value\n",
       "0   mean_squared_error  0.474720\n",
       "1  mean_absolute_error  0.544471\n",
       "2             r2_score  0.552307"
      ]
     },
     "execution_count": 22,
     "metadata": {},
     "output_type": "execute_result"
    }
   ],
   "source": [
    "from sklearn.metrics import mean_squared_error, mean_absolute_error, r2_score\n",
    "\n",
    "r_metrics = []\n",
    "for metric_fn in [mean_squared_error, mean_absolute_error, r2_score]:\n",
    "    r_metrics.append({'metric': metric_fn.__name__, 'value': metric_fn(y_test, y_hat)})\n",
    "pd.DataFrame(r_metrics)"
   ]
  },
  {
   "cell_type": "markdown",
   "metadata": {},
   "source": [
    "**Pearson Correlation** <br>\n",
    "\n",
    "The Pearson correlation coefficient, often denoted as \"r,\" is not typically used as a regression loss function in the traditional sense. Instead, it is a measure of the linear relationship or linear association between two continuous variables. It quantifies the strength and direction of the linear relationship between the ground truth target variable and predicted one. The Pearson correlation coefficient ranges from -1 to 1, with the following interpretations: <br>\n",
    "$$ Cov(Y,\\hat{Y}) ={\\frac{1}{N-1}} \\sum_{i=1}^{N}(y_{i} - \\bar{y_{i}})*(\\hat{y_{i}} - \\bar{\\hat{y_{i}}})$$\n",
    "\n",
    "$$PearsonR = {\\frac{Cov(Y,\\hat{Y})}{STD(Y)*STD(\\hat{Y})}}$$\n",
    "\n",
    "##### Pros:\n",
    "    + Differentiable\n",
    "    + Could be a loss. Although, you need to update standard deviation of y_hat\n",
    "    + Has reference values: [-1, 0] - negative linear correlation; [0, ~0.5] weak* linear correlation; [0.5-0.9] strong* linear correlation; [0.9-1] - almost perfect model;\n",
    "\n",
    "##### Cons:\n",
    "    - We can't say anything about absolute errors knowing only correlation coefficient\n",
    "    - Could produce a low values, although it could be a solid monotonous correlation between y and y_hat\n",
    "\n",
    "**Spearman Correlation** <br>\n",
    "\n",
    "The Spearman Correlation coefficient, is calculated as a Pearson correlation coefficient between ranks of target and predicted variables: <br>\n",
    "\n",
    "$$SpearmanR = PearsonR(rank(Y), rank(\\hat{Y}))$$\n",
    "\n",
    "##### Pros:\n",
    "    + Sensitive for monotonous dependencies\n",
    "    + Has reference values: [-1, 0] - negative monotonous correlation; [0, ~0.5] weak* monotonous correlation; [0.5-0.9] strong* monotonous correlation; [0.9-1] - almost perfect model;\n",
    "\n",
    "##### Cons:\n",
    "    - Non-differentiable\n",
    "    - We can't say anything about absolute errors knowing only correlation coefficient"
   ]
  },
  {
   "cell_type": "code",
   "execution_count": 23,
   "metadata": {},
   "outputs": [
    {
     "name": "stdout",
     "output_type": "stream",
     "text": [
      "\n",
      "    Pearson Correlation: 0.7455920992971997;\n",
      "\n",
      "    Spearman Correlation: 0.7181264430217358\n",
      "\n"
     ]
    }
   ],
   "source": [
    "import numpy as np\n",
    "from scipy.stats import spearmanr\n",
    "\n",
    "print(f\"\"\"\n",
    "    Pearson Correlation: {np.corrcoef(y_test, y_hat)[0, 1]};\\n\n",
    "    Spearman Correlation: {spearmanr(y_test, y_hat).correlation}\n",
    "\"\"\"\n",
    ")"
   ]
  },
  {
   "cell_type": "markdown",
   "metadata": {},
   "source": [
    "> **Explore**: check multivariate extensions (equations and implementations) for all common regression metrics (MAE, MSE, RMSE)"
   ]
  },
  {
   "cell_type": "markdown",
   "metadata": {},
   "source": [
    "<a id='embedding_metrics'></a>\n",
    "## 2.4 Embedding metrics\n",
    "\n",
    "### Embeddings concept:\n",
    "![](https://miro.medium.com/v2/resize:fit:1200/1*sAJdxEsDjsPMioHyzlN3_A.png)\n",
    "\n",
    "**Cosine similarity:** <br>\n",
    "\n",
    "Cosine similarity is a metric used to measure the similarity or cosine of the angle between two non-zero vectors in a multi-dimensional space. It quantifies how similar two vectors are in terms of their directions, regardless of their magnitudes. Cosine similarity is often employed in various fields, including information retrieval, NLP, recommendation systems, to compare and assess the similarity between data points. <br>\n",
    "\n",
    "Cosine similarity produces a value in the range of -1 to 1:\n",
    "- If the vectors are identical (i.e., they have the same direction), the cosine similarity is 1.\n",
    "- If the vectors are orthogonal (i.e., they are at a right angle to each other), the cosine similarity is 0, indicating no similarity.\n",
    "- If the vectors are pointing in exactly opposite directions, the cosine similarity is -1, indicating maximum dissimilarity.\n",
    "\n",
    "Key properties of cosine similarity:\n",
    "- Scale-Invariant: meaning that multiplying all elements in both vectors by a constant factor will not change the cosine similarity.\n",
    "- Angle Measurement: cosine similarity measures the cosine of the angle between vectors. As the angle decreases (i.e., vectors become more aligned), the cosine similarity value increases.\n",
    "- Normalized Data: cosine similarity is often used with normalized vectors (i.e., vectors with a magnitude of 1) for consistent comparisons.\n",
    "\n",
    "**L1(Manhattan)/L2(Eucledean):** <br>\n",
    "These metrics also could be used as embedding metrics, but they are completely opposite to a cosine similarity in terms of properties"
   ]
  },
  {
   "cell_type": "markdown",
   "metadata": {},
   "source": [
    "<a id='generative_metrics'></a>\n",
    "## 2.5 Generative NLP metrics\n",
    "\n",
    "Text generation is a challenging field. Both academia and the industry continue to struggle for relevant metrics for evaluation of the generative models’ qualities. Each generative task is unique, characterized by its distinct intricacies and idiosyncrasies. \n",
    "\n",
    "To check evaluations in NLG, Machine-generated texts are usually evaluated against a target text (ground truth value). This target text is what is expected of the model to ideally generate. Generated text refers to the machine produced texts (output of the model), and target or reference text refers to the original truth value text. \n",
    "\n",
    "**BLEU: Bilingual Evaluation Understudy Score**<br>\n",
    "BLEU is a precision focused metric that calculates n-gram overlap of the reference and generated texts. This n-gram overlap means the evaluation scheme is word-position independent apart from n-grams’ term associations. One thing to note in BLEU — there is a brevity penalty i.e. a penalty applied when the generated text is too small compared to the target text.\n",
    "\n",
    "BLEU's output is always a number between 0 and 1. This value indicates how similar the candidate text is to the reference texts, with values closer to 1 representing more similar texts. Few human translations will attain a score of 1, since this would indicate that the candidate is identical to one of the reference translations. For this reason, it is not necessary to attain a score of 1. Because there are more opportunities to match, adding additional reference translations will increase the BLEU score. \n",
    "\n",
    "You can check in detail the exact algorithm and equations for implementation [here](https://en.wikipedia.org/wiki/BLEU)."
   ]
  },
  {
   "cell_type": "code",
   "execution_count": 24,
   "metadata": {},
   "outputs": [
    {
     "name": "stdout",
     "output_type": "stream",
     "text": [
      "reference: ['the quick brown fox jumps over the lazy dog']\n",
      "candidate: the fast brown fox jumps over the lazy dog\n",
      "BLEU Score: 0.7506238537503395\n",
      "\n",
      "\n",
      "\n",
      "references: ['the quick brown fox jumps over the lazy dog', 'the fast brown fox jumps over the lazy dog']\n",
      "candidate: the fast brown fox jumps over the lazy dog\n",
      "BLEU Score: 1.0\n",
      "\n",
      "\n",
      "\n",
      "references: ['the quick brown fox jumps over the lazy dog']\n",
      "candidate: the quick brown fox jumps over the dog\n",
      "BLEU Score: 0.767279645960659\n",
      "\n",
      "\n",
      "\n",
      "references: ['the quick brown fox jumps over the lazy dog']\n",
      "candidate: fox jumps over the dog\n",
      "BLEU Score: 0.31772355751081427\n",
      "\n",
      "\n",
      "\n",
      "references: ['the quick brown fox jumps over the lazy dog']\n",
      "candidate: absolutely random sentence\n",
      "BLEU Score: 0\n",
      "\n",
      "\n",
      "\n"
     ]
    }
   ],
   "source": [
    "from nltk.translate.bleu_score import sentence_bleu\n",
    "\n",
    "# Reference and candidate sentences as lists of words\n",
    "reference = ['the quick brown fox jumps over the lazy dog']\n",
    "candidate = 'the fast brown fox jumps over the lazy dog'\n",
    "\n",
    "# Calculate BLEU score\n",
    "bleu_score = sentence_bleu([r.split() for r in reference], candidate.split())\n",
    "\n",
    "print(f'reference: {reference}')\n",
    "print(f'candidate: {candidate}')\n",
    "print(\"BLEU Score:\", bleu_score)\n",
    "print('\\n\\n')\n",
    "\n",
    "# Reference and candidate sentences as lists of words\n",
    "reference = ['the quick brown fox jumps over the lazy dog', 'the fast brown fox jumps over the lazy dog']\n",
    "candidate = 'the fast brown fox jumps over the lazy dog'\n",
    "\n",
    "# Calculate BLEU score\n",
    "bleu_score = sentence_bleu([r.split() for r in reference], candidate.split())\n",
    "\n",
    "print(f'references: {reference}')\n",
    "print(f'candidate: {candidate}')\n",
    "print(\"BLEU Score:\", bleu_score)\n",
    "print('\\n\\n')\n",
    "\n",
    "# Reference and candidate sentences as lists of words\n",
    "reference = ['the quick brown fox jumps over the lazy dog']\n",
    "candidate = 'the quick brown fox jumps over the dog'\n",
    "\n",
    "# Calculate BLEU score\n",
    "bleu_score = sentence_bleu([r.split() for r in reference], candidate.split())\n",
    "\n",
    "print(f'references: {reference}')\n",
    "print(f'candidate: {candidate}')\n",
    "print(\"BLEU Score:\", bleu_score)\n",
    "print('\\n\\n')\n",
    "\n",
    "# Reference and candidate sentences as lists of words\n",
    "reference = ['the quick brown fox jumps over the lazy dog']\n",
    "candidate = 'fox jumps over the dog'\n",
    "\n",
    "# Calculate BLEU score\n",
    "bleu_score = sentence_bleu([r.split() for r in reference], candidate.split())\n",
    "\n",
    "print(f'references: {reference}')\n",
    "print(f'candidate: {candidate}')\n",
    "print(\"BLEU Score:\", bleu_score)\n",
    "print('\\n\\n')\n",
    "\n",
    "# Reference and candidate sentences as lists of words\n",
    "reference = ['the quick brown fox jumps over the lazy dog']\n",
    "candidate = 'absolutely random sentence'\n",
    "\n",
    "# Calculate BLEU score\n",
    "bleu_score = sentence_bleu([r.split() for r in reference], candidate.split())\n",
    "\n",
    "print(f'references: {reference}')\n",
    "print(f'candidate: {candidate}')\n",
    "print(\"BLEU Score:\", bleu_score)\n",
    "print('\\n\\n')"
   ]
  },
  {
   "cell_type": "markdown",
   "metadata": {},
   "source": [
    "<a id='validation_strategies'></a>\n",
    "# 3. Validation Strategies\n",
    "\n",
    "<a id='overfitting'></a>\n",
    "## 3.1 Overfitting. Why do we need train/test concept? <br>\n",
    "\n",
    "We really don’t want to train and evaluate our model on the same dataset, since it would produce overfitting. In other words, we can’t tell whether the model simply memorized the training data or not, or whether it generalizes well to new, unseen data.\n",
    "\n",
    "Let's look at the problem in more detail using a simple toy example:"
   ]
  },
  {
   "cell_type": "code",
   "execution_count": 25,
   "metadata": {},
   "outputs": [],
   "source": [
    "import numpy as np\n",
    "np.random.seed(42)\n",
    "\n",
    "X_train = np.random.normal(0, 1, (500, 2))\n",
    "noise_train = np.random.normal(0, 1., 500)\n",
    "\n",
    "X_test = np.random.normal(0, 1, (100, 2))\n",
    "noise_test = np.random.normal(0, 1., 100)\n",
    "\n",
    "y_train = (np.sin(X_train) + np.cos(2*X_train)).sum(axis=1) + noise_train\n",
    "y_test = (np.sin(X_test) + np.cos(2*X_test)).sum(axis=1) + noise_test"
   ]
  },
  {
   "cell_type": "code",
   "execution_count": 26,
   "metadata": {},
   "outputs": [
    {
     "name": "stdout",
     "output_type": "stream",
     "text": [
      "MSE on train: 2.046936920069584\n",
      "MSE on test: 1.8647307030508082\n"
     ]
    }
   ],
   "source": [
    "lr = Ridge(alpha=1.0, random_state=42)\n",
    "lr.fit(X_train, y_train)\n",
    "\n",
    "y_train_preds = lr.predict(X_train)\n",
    "y_test_preds = lr.predict(X_test)\n",
    "\n",
    "print(f'MSE on train: {mean_squared_error(y_train, y_train_preds)}\\nMSE on test: {mean_squared_error(y_test, y_test_preds)}')"
   ]
  },
  {
   "cell_type": "markdown",
   "metadata": {},
   "source": [
    "Let's add some complexity (polynomial features) to the model and see what will happen with our metrics."
   ]
  },
  {
   "cell_type": "code",
   "execution_count": 27,
   "metadata": {},
   "outputs": [
    {
     "data": {
      "image/png": "[encoded data removed]",
      "text/plain": [
       "<Figure size 432x288 with 1 Axes>"
      ]
     },
     "metadata": {
      "needs_background": "light"
     },
     "output_type": "display_data"
    }
   ],
   "source": [
    "from matplotlib import pyplot as plt\n",
    "\n",
    "train_result = []\n",
    "test_result = []\n",
    "\n",
    "for pow_n in range(1, 10):\n",
    "    lr = Ridge(alpha=1.0, random_state=42)\n",
    "\n",
    "    X_train_poly = np.hstack([X_train**(p) for p in range(pow_n)])\n",
    "    X_test_poly = np.hstack([X_test**(p) for p in range(pow_n)])\n",
    "\n",
    "    lr.fit(X_train_poly, y_train)\n",
    "\n",
    "    y_train_preds = lr.predict(X_train_poly)\n",
    "    y_test_preds = lr.predict(X_test_poly)\n",
    "    \n",
    "    train_result.append(mean_squared_error(y_train, y_train_preds))\n",
    "    test_result.append(mean_squared_error(y_test, y_test_preds))\n",
    "    \n",
    "plt.plot(list(range(1, 10)), train_result, list(range(1, 10)), test_result)\n",
    "plt.show()"
   ]
  },
  {
   "cell_type": "markdown",
   "metadata": {},
   "source": [
    "Conclusion:\n",
    "- We almost always can reach optimal loss (in MSE case ~0) for the training set by adding nonlinear feature / stacking more layers to the model\n",
    "- We shouldn't stack layers and add features without proper control, because then we will get poor results in real-life testing / competition leaderboard\n",
    "- So we need to somehow model real testing data using the only training dataset available\n",
    "\n",
    "![](https://preview.redd.it/n9fgba8b0qr01.png?auto=webp&s=e86d2d3447c777d3222016e81a0adfaec1a95592)"
   ]
  },
  {
   "cell_type": "markdown",
   "metadata": {},
   "source": [
    "<a id='holdout'></a>\n",
    "## 3.2 Holdout / Stratified split / train-validation-test <br>\n",
    "\n",
    "The holdout method is the simplest model evaluation technique. We take our labeled dataset and split it randomly into two parts: A **training set** and a **test set**:\n",
    "![](https://sebastianraschka.com/images/blog/2016/model-evaluation-selection-part1/testing_01.png)\n",
    "Then, we fit a model to the training data and predict the labels of the test set:\n",
    "![](https://sebastianraschka.com/images/blog/2016/model-evaluation-selection-part1/testing_02.png)\n",
    "And the fraction of correct predictions constitutes our estimate of the prediction accuracy.\n",
    "![](https://sebastianraschka.com/images/blog/2016/model-evaluation-selection-part1/testing_03.png)\n",
    "\n",
    "##### Pros:\n",
    "    + Simple\n",
    "    + Fast\n",
    "\n",
    "##### Cons:\n",
    "    - Not so precise estimate of out-of-sample performance comparing to more advanced techniques\n",
    "    \n",
    "### Class Balance\n",
    "\n",
    "As it was said, you want your validation to mimic your test set as close as possible. And you can make a fair assumprion (that is not always true), that distribution of target on train and not seen data is the same. Then you have to use stratification. Stratification ensures stable distributions across split. That is more than just useful if:\n",
    "\n",
    "    + Dataset is small\n",
    "    + Dataset is unbalanced (average target close to 0 or to 1)\n",
    "    + You have multiclassification task\n",
    "    \n",
    "    \n",
    "### Model Checkpoint Selection\n",
    "\n",
    "If we consider gradient-based training of models, for example neural networks or gradient boosting, then as a result of each epoch there will be some new model weights. Thus, the model at different epochs will behave differently on previously unseen data, so it is logical for the best result to choose a checkpoint from the epoch at which the target metric has the best values on previously unseen data.\n",
    "\n",
    "However, by selecting the weights of the model in this way, we can also get some kind of overfit, since we choose these weights as the best according to the validation dataset, it is quite obvious that on average on any other previously unseen dataset the results of our model in terms of metrics will be worse.\n",
    "\n",
    "Thus, in order to correctly select a model checkpoint after optimization or implement early stopping and also correctly estimate the results of the model on previously unseen data, we can apply train/validation/test strategy.\n",
    "\n",
    "![](https://editor.analyticsvidhya.com/uploads/18265Screenshot-from-2020-10-06-16-35-50-768x432.png)"
   ]
  },
  {
   "cell_type": "code",
   "execution_count": 28,
   "metadata": {},
   "outputs": [
    {
     "data": {
      "text/plain": [
       "(0.43253893788703324, 0.42294220665499127)"
      ]
     },
     "execution_count": 28,
     "metadata": {},
     "output_type": "execute_result"
    }
   ],
   "source": [
    "#straightforward train/test split\n",
    "\n",
    "X_train, X_test, y_train, y_test = train_test_split(\n",
    "    df_twitter.text, df_twitter.target, test_size=0.3, random_state=42\n",
    ")\n",
    "y_train.mean(), y_test.mean()"
   ]
  },
  {
   "cell_type": "code",
   "execution_count": 29,
   "metadata": {},
   "outputs": [
    {
     "data": {
      "text/plain": [
       "(0.429724150872584, 0.4295096322241681)"
      ]
     },
     "execution_count": 29,
     "metadata": {},
     "output_type": "execute_result"
    }
   ],
   "source": [
    "#stratified train/test split\n",
    "\n",
    "X_train, X_test, y_train, y_test = train_test_split(\n",
    "    df_twitter.text, df_twitter.target, test_size=0.3, random_state=42, stratify=df_twitter.target\n",
    ")\n",
    "y_train.mean(), y_test.mean()"
   ]
  },
  {
   "cell_type": "markdown",
   "metadata": {},
   "source": [
    "<a id='kfold'></a>\n",
    "## 3.3 K-fold / Stratified K-fold / Repeated K-fold\n",
    "\n",
    "**K-fold Cross-validation** is probably the most common technique for model evaluation and model selection. \n",
    "- We split the dataset into *K* parts and iterate over a dataset set *K* times\n",
    "- In each round one part is used for validation, and the remaining *K-1* parts are merged into a training subset for model evaluation\n",
    "- We compute the cross-validation performance as the arithmetic mean over the *K* performance estimates from the validation sets.\n",
    "![](https://sebastianraschka.com/images/blog/2016/model-evaluation-selection-part3/kfold.png)\n",
    "\n",
    "\n",
    "**Stratified K-fold Cross-validation** - we use k-fold as described above, but we will use stratification by target on each split. <br>\n",
    "\n",
    "**Repeated K-fold Cross-validation** - we use k-fold as described above, but we will run the whole process n times with different randomizations durig split. This strategy could be useful if we have a small dataset available and the metric varies significantly from fold to fold.<br>\n",
    "\n",
    "##### Pros:\n",
    "    + Better estimate of out-of-sample performance than simple train/test split\n",
    "\n",
    "##### Cons:\n",
    "    - Runs \"K\" times slower than simple train/test split\n",
    "\n",
    "If we have **little data** and **enough time**, it's better to always do cross-validation for a more precise estimate of performance."
   ]
  },
  {
   "cell_type": "code",
   "execution_count": 30,
   "metadata": {},
   "outputs": [
    {
     "name": "stdout",
     "output_type": "stream",
     "text": [
      "Holdout result:\n"
     ]
    },
    {
     "data": {
      "text/plain": [
       "0.8605527274547953"
      ]
     },
     "execution_count": 30,
     "metadata": {},
     "output_type": "execute_result"
    }
   ],
   "source": [
    "#stratified train/test split\n",
    "\n",
    "X_train, X_test, y_train, y_test = train_test_split(\n",
    "    df_twitter.text, df_twitter.target, test_size=0.3, random_state=42, stratify=df_twitter.target\n",
    ")\n",
    "y_train.mean(), y_test.mean()\n",
    "\n",
    "\n",
    "print('Holdout result:')\n",
    "pipe_classification.fit(X_train, y_train)\n",
    "roc_auc_score(y_test, pipe_classification.predict_proba(X_test)[:, 1])"
   ]
  },
  {
   "cell_type": "code",
   "execution_count": 31,
   "metadata": {},
   "outputs": [
    {
     "name": "stdout",
     "output_type": "stream",
     "text": [
      "[0.86635822 0.85548835 0.8611068  0.84779505 0.84860123 0.86266664\n",
      " 0.85761553]\n",
      "Mean: 0.8571\n",
      "Std: 0.0065\n",
      "3 std range: [0.8376, 0.8765]\n"
     ]
    }
   ],
   "source": [
    "from sklearn.model_selection import StratifiedKFold, cross_val_score\n",
    "\n",
    "cv = StratifiedKFold(n_splits=7, shuffle=True, random_state=42)\n",
    "\n",
    "# Perform cross-validation and calculate AUC scores for each fold\n",
    "auc_scores = cross_val_score(pipe_classification, df_twitter.text, df_twitter.target, cv=cv, scoring='roc_auc')\n",
    "print(auc_scores)\n",
    "print(f'Mean: {round(auc_scores.mean(), 4)}')\n",
    "print(f'Std: {round(auc_scores.std(), 4)}')\n",
    "print(f'3 std range: [{round(auc_scores.mean() - 3*auc_scores.std(), 4)}, {round(auc_scores.mean() + 3*auc_scores.std(), 4)}]')"
   ]
  },
  {
   "cell_type": "markdown",
   "metadata": {},
   "source": [
    "<a id='timebased'></a>\n",
    "## Time-based validation / Time K-fold\n",
    "\n",
    "Doing **Time validation** in correct way is very important. Suppose you have a task to predict Wikipedia page viewers as in on of previous Kaggle competitions (https://www.kaggle.com/c/web-traffic-time-series-forecasting). What are possible ways to do a validation? Again, it is best to mimic split made by organizers and they split this by date. All before January, 1st, 2017 went to train, all after that date (2 months) - to test. The correct way to perform a split is with **sliding window**:\n",
    " \n",
    "\n",
    "![](http://eng.uber.com/wp-content/uploads/2018/01/image3-4.png)\n",
    "\n",
    "Another possible option is to add as much train data from the past as possible on each fold:\n",
    "![](https://miro.medium.com/v2/resize:fit:1204/1*qvdnPF8ETV9mFdMT0Y_BBA.png)\n",
    "\n",
    "In NLP, such a split is not very common, but in some cases it can be used if there is a clear bias in the texts that is caused by time. For example, the topic of news and articles in different social media websites changes over time, or over long periods in fiction books the vocabulary and grammar of the language itself changes."
   ]
  },
  {
   "cell_type": "markdown",
   "metadata": {},
   "source": [
    "<a id='groupkfold'></a>\n",
    "## 3.5 Group K-fold <br>\n",
    "\n",
    "- The dataset is divided into k folds, just like traditional k-fold cross-validation.\n",
    "- Instead of random assignment to folds, GroupKFold ensures that all data points with the same group label (or identifier) are placed in the same fold.\n",
    "- During each iteration of cross-validation, one of the k folds is used as the test set, while the remaining k-1 folds are used as the training set. Importantly, data points with the same group label are kept together in either the training set or the test set.\n",
    "- The cross-validation process is repeated k times, with each of the k folds serving as the test set exactly once.\n",
    "\n",
    "Group K-fold plays a very important role in NLP, there are several task examples:\n",
    "- Authorship Attribution: you may have a dataset of texts written by various authors. You want to evaluate a machine learning model's ability to predict the correct author of a text or to have ability to predict different text attributes or properties for previously unseen authors. To avoid data leakage, you can use GroupKFold with author IDs as the grouping variable. This ensures that all texts from the same author are in the same fold during cross-validation.\n",
    "- Sentiment Analysis: In sentiment analysis tasks, where you classify text based on sentiment (e.g., positive, negative, neutral), you might have reviews or comments grouped by products, movies, or topics. GroupKFold helps ensure that all reviews for a specific product or movie are together in one fold during cross-validation.\n",
    "- Topic Modeling: In topic modeling tasks, where you aim to discover latent topics within a collection of documents, you can use GroupKFold to group documents by source or domain, ensuring that all documents from the same source are in the same fold during cross-validation.\n",
    "\n",
    "<a id='strategychoose'></a>\n",
    "## Choosing the right strategy for real-life scenarios and competition LB consistency"
   ]
  },
  {
   "cell_type": "code",
   "execution_count": 32,
   "metadata": {},
   "outputs": [],
   "source": [
    "models = {\n",
    "    'baseline_lr': Pipeline([\n",
    "        ('vectorizer', TfidfVectorizer(\n",
    "            analyzer='word',\n",
    "            stop_words='english',\n",
    "            ngram_range=(1, 3),\n",
    "            lowercase=True,\n",
    "            min_df=5,\n",
    "            max_features=30000\n",
    "        )),  \n",
    "        ('classifier', LogisticRegression(C=1.0, random_state=42))\n",
    "    ]),\n",
    "    'baseline_svc': Pipeline([\n",
    "        ('vectorizer', TfidfVectorizer(\n",
    "            analyzer='word',\n",
    "            stop_words='english',\n",
    "            ngram_range=(1, 3),\n",
    "            lowercase=True,\n",
    "            min_df=5,\n",
    "            max_features=30000\n",
    "        )),  \n",
    "        ('classifier', SGDClassifier(loss='hinge', random_state=42))\n",
    "    ]),\n",
    "    'baseline_lr_huber': Pipeline([\n",
    "        ('vectorizer', TfidfVectorizer(\n",
    "            analyzer='word',\n",
    "            stop_words='english',\n",
    "            ngram_range=(1, 3),\n",
    "            lowercase=True,\n",
    "            min_df=5,\n",
    "            max_features=30000\n",
    "        )),  \n",
    "        ('classifier', SGDClassifier(loss='modified_huber', random_state=42))\n",
    "    ])\n",
    "}"
   ]
  },
  {
   "cell_type": "code",
   "execution_count": 33,
   "metadata": {},
   "outputs": [],
   "source": [
    "df_twitter_unseen_test = pd.read_csv('../data/nlp-getting-started/test.csv')"
   ]
  },
  {
   "cell_type": "markdown",
   "metadata": {},
   "source": [
    "According to what we know about the competition itself and the LB split - there is no time component in the LB split, it seems that there is also no group component (by location/by author, etc.) in the LB split, so it is quite safe for now to assume that the regular stratified split / stratified K-fold split is the best option to use for this case. So we will use StratifiedKFold with K=7.\n",
    "\n",
    "> **TODO**: Imagine that you are in production developing a similar system for Twitter for identifying real disasters, think about whether the split proposed by the organizers (random, possibly with stratification by target) is optimal for validation (assume that you have all the possible necessary data here)?\n",
    "\n",
    "There is also one significant nuance here - according to my experiments (LB probbing) and kaggle [discussions](https://www.kaggle.com/competitions/nlp-getting-started/discussion/123165) - **Mean F1** or F1 with macro averaging was actually used instead of a regular binary F1 score for LB metric calculation, although there is no direct mention of this fact in the [overview section](https://www.kaggle.com/competitions/nlp-getting-started/overview)."
   ]
  },
  {
   "cell_type": "code",
   "execution_count": 34,
   "metadata": {},
   "outputs": [
    {
     "data": {
      "text/html": [
       "<div>\n",
       "<style scoped>\n",
       "    .dataframe tbody tr th:only-of-type {\n",
       "        vertical-align: middle;\n",
       "    }\n",
       "\n",
       "    .dataframe tbody tr th {\n",
       "        vertical-align: top;\n",
       "    }\n",
       "\n",
       "    .dataframe thead th {\n",
       "        text-align: right;\n",
       "    }\n",
       "</style>\n",
       "<table border=\"1\" class=\"dataframe\">\n",
       "  <thead>\n",
       "    <tr style=\"text-align: right;\">\n",
       "      <th></th>\n",
       "      <th>experiment</th>\n",
       "      <th>f1_avg</th>\n",
       "      <th>f1_std</th>\n",
       "      <th>f1_min</th>\n",
       "      <th>f1_max</th>\n",
       "      <th>f1_lower_bound_estimation</th>\n",
       "      <th>f1_higher_bound_estimation</th>\n",
       "    </tr>\n",
       "  </thead>\n",
       "  <tbody>\n",
       "    <tr>\n",
       "      <th>2</th>\n",
       "      <td>baseline_lr_huber</td>\n",
       "      <td>0.7682</td>\n",
       "      <td>0.0092</td>\n",
       "      <td>0.7517</td>\n",
       "      <td>0.7806</td>\n",
       "      <td>0.7406</td>\n",
       "      <td>0.7958</td>\n",
       "    </tr>\n",
       "    <tr>\n",
       "      <th>1</th>\n",
       "      <td>baseline_svc</td>\n",
       "      <td>0.7838</td>\n",
       "      <td>0.0114</td>\n",
       "      <td>0.7691</td>\n",
       "      <td>0.8052</td>\n",
       "      <td>0.7496</td>\n",
       "      <td>0.8180</td>\n",
       "    </tr>\n",
       "    <tr>\n",
       "      <th>0</th>\n",
       "      <td>baseline_lr</td>\n",
       "      <td>0.7908</td>\n",
       "      <td>0.0102</td>\n",
       "      <td>0.7740</td>\n",
       "      <td>0.8064</td>\n",
       "      <td>0.7602</td>\n",
       "      <td>0.8214</td>\n",
       "    </tr>\n",
       "  </tbody>\n",
       "</table>\n",
       "</div>"
      ],
      "text/plain": [
       "          experiment  f1_avg  f1_std  f1_min  f1_max  \\\n",
       "2  baseline_lr_huber  0.7682  0.0092  0.7517  0.7806   \n",
       "1       baseline_svc  0.7838  0.0114  0.7691  0.8052   \n",
       "0        baseline_lr  0.7908  0.0102  0.7740  0.8064   \n",
       "\n",
       "   f1_lower_bound_estimation  f1_higher_bound_estimation  \n",
       "2                     0.7406                      0.7958  \n",
       "1                     0.7496                      0.8180  \n",
       "0                     0.7602                      0.8214  "
      ]
     },
     "execution_count": 34,
     "metadata": {},
     "output_type": "execute_result"
    }
   ],
   "source": [
    "from sklearn.model_selection import cross_val_predict\n",
    "\n",
    "results = []\n",
    "\n",
    "for model_name, model in models.items():\n",
    "    scores = []\n",
    "    cv = StratifiedKFold(n_splits=7, shuffle=True, random_state=42)\n",
    "    for train_ind, test_ind in cv.split(df_twitter.text, df_twitter.target):\n",
    "        X_train, X_test = df_twitter.text.iloc[train_ind], df_twitter.text.iloc[test_ind]\n",
    "        y_train, y_test = df_twitter.target.iloc[train_ind], df_twitter.target.iloc[test_ind]\n",
    "        model.fit(X_train, y_train)\n",
    "        y_hat = model.predict(X_test)\n",
    "        scores.append(\n",
    "            f1_score(\n",
    "                y_test, \n",
    "                y_hat, \n",
    "                average='macro'\n",
    "            )\n",
    "        )\n",
    "        \n",
    "    scores = np.array(scores)\n",
    "    avg_score = round(scores.mean(), 4)\n",
    "    std_score = round(scores.std(), 4)\n",
    "    min_score = round(scores.min(), 4)\n",
    "    max_score = round(scores.max(), 4)\n",
    "    score_lower_bound = round(avg_score - 3*std_score, 4)\n",
    "    score_higher_bound = round(avg_score + 3*std_score, 4)\n",
    "    results.append({\n",
    "        'experiment': model_name,\n",
    "        'f1_avg': avg_score,\n",
    "        'f1_std': std_score,\n",
    "        'f1_min': min_score,\n",
    "        'f1_max': max_score,\n",
    "        'f1_lower_bound_estimation': score_lower_bound,\n",
    "        'f1_higher_bound_estimation': score_higher_bound\n",
    "    })\n",
    "    model.fit(df_twitter.text, df_twitter.target)\n",
    "    df_twitter_unseen_test[f'prediction_{model_name}'] = model.predict(df_twitter_unseen_test.text)\n",
    "    \n",
    "results = pd.DataFrame(results).sort_values('f1_avg')\n",
    "results"
   ]
  },
  {
   "cell_type": "code",
   "execution_count": 35,
   "metadata": {},
   "outputs": [],
   "source": [
    "for model in models.keys():\n",
    "    df_twitter_unseen_test.rename(columns={f'prediction_{model}': 'target'})[['id', 'target']].to_csv(\n",
    "        f'../data/nlp-getting-started/{model}_submission.csv', index=False\n",
    "    )"
   ]
  },
  {
   "cell_type": "markdown",
   "metadata": {},
   "source": [
    "![](images/photo1696939101.jpeg)\n",
    "\n",
    "So, we have a perfect match in terms of absolute values of F1 metric - LB metric value is in range of $[min(F1), max(F1)]$, and we have a perfect correlation between the increase in the evaluation metric on the local validation $avg(F1)$ and on the public leaderboard (unseen test) - smaller increase on the local val results smaller increase on the LB and higher increase on the local val results higher increase on the LB. \n",
    "\n",
    "\n",
    "In different competition and real-life scenarios there could be cases in which you won't have an absolute values match for your metrics or there will be no correlation between local validation increase and LB increase or even both, but correlation of gains (better val -> better LB) is often preferable to exact match of absolute values for individual experiments."
   ]
  },
  {
   "cell_type": "markdown",
   "metadata": {},
   "source": [
    "<a id='validation_mismatch'></a>\n",
    "# 4. Local validation VS real-life / competition testing metrics mismatch <br>\n",
    "\n",
    "Sometimes there are situations in which your evaluation metrics in your local validation differ significantly from the actual metrics in the production or in the competition test dataset. \n",
    "\n",
    "There are several aspects of the problem:\n",
    "\n",
    "<a id='wrong_local_validation'></a>\n",
    "## 4.1 Wrong local validation strategy \n",
    "- There is a significant time component in your data and you don't use time-based split\n",
    "- The group-split strategy (by users/by locations, etc.) is needed and you missed it\n",
    "- A more advanced combination of time and group split is needed\n",
    "- If there is a huge gap between validation and real-life/lb, while train and val scores are similar - you certainly have a data leak. Carefuly review your EDA. Try to remove most predictive features and compare the results.\n",
    "- Consider different metrics, so maybe it will give you an idea of what is going on (roc-auc/pr-auc example)\n",
    "- Competition hosts didn't say about some aspects of split or metric calculation no matter by accident or on purpose, so you need to consider and try different options although these options may not directly correspond to what is written in the description section.\n",
    "\n",
    "**If you're a competition participant - try to reproduce the actual validation split and metric that was made by competition hosts at all costs. And it doesn’t matter whether the split/metric is relevant to the business task itself or even common sense - your goal here is to win the competition.** <br>\n",
    "\n",
    "\n",
    "**If you're solving a production task / you're a competition host - try to create validation split that is relevant to real life scenarios and evaluation metric that is relevant to business metrics at all costs. Your goal here is to build the solid and reliable solution with the expected performance in real life.**\n",
    "\n",
    "<a id='shifted_features'></a>\n",
    "## 4.2 Shifted features distributions\n",
    "\n",
    "Another common problem - natural features distributions shift.\n",
    "- The most common cases happen in analysis financial markets: the distribution of stock prices, trading volumes, or volatility can change due to market conditions or economic events.\n",
    "- Another popular case is recommender systems, because user preferences or behaviors in recommender systems may evolve, leading to shifts in the distribution of user interaction data.\n",
    "- There are also some cases in NLP, e.g. in sentiment analysis, language style, topics, or writing conventions may change over time, causing shifts in the distribution of text data.\n",
    "- And the last but not the least: such problems can be caused by errors and bugs in your data collection and processing pipelines and it could turn out that train, test and real-life online data are actually collected in a slightly different ways under the hood."
   ]
  },
  {
   "cell_type": "markdown",
   "metadata": {},
   "source": [
    "Let's replicate toy example with feature collection bug"
   ]
  },
  {
   "cell_type": "code",
   "execution_count": 36,
   "metadata": {},
   "outputs": [],
   "source": [
    "df_available_train, df_unseen_test = train_test_split(\n",
    "    df_twitter, stratify=df_twitter.target, test_size=0.3, random_state=42\n",
    ")\n",
    "\n",
    "X_train, X_val, y_train, y_val = train_test_split(\n",
    "    df_available_train.text, df_available_train.target, stratify=df_available_train.target, test_size=0.3, random_state=42\n",
    ")"
   ]
  },
  {
   "cell_type": "code",
   "execution_count": 37,
   "metadata": {},
   "outputs": [
    {
     "data": {
      "text/plain": [
       "0.8459589430271457"
      ]
     },
     "execution_count": 37,
     "metadata": {},
     "output_type": "execute_result"
    }
   ],
   "source": [
    "pipe_classification.fit(X_train, y_train)\n",
    "\n",
    "proba = pipe_classification.predict_proba(X_val)[:, 1]\n",
    "roc_auc_score(y_val, proba)"
   ]
  },
  {
   "cell_type": "code",
   "execution_count": 38,
   "metadata": {},
   "outputs": [
    {
     "data": {
      "text/plain": [
       "0.8525147409373648"
      ]
     },
     "execution_count": 38,
     "metadata": {},
     "output_type": "execute_result"
    }
   ],
   "source": [
    "proba = pipe_classification.predict_proba(df_unseen_test.text)[:, 1]\n",
    "roc_auc_score(df_unseen_test.target, proba)"
   ]
  },
  {
   "cell_type": "markdown",
   "metadata": {},
   "source": [
    "So, in a normal scenario there is no huge difference betweeen \"local\" and \"unseen data\" validation.\n",
    "\n",
    "Let's replicate bug in which we lose some parts of input text in the \"unseen data\".\n",
    "With this \"bug\" we have a ~5% drop in roc-auc metric"
   ]
  },
  {
   "cell_type": "code",
   "execution_count": 39,
   "metadata": {},
   "outputs": [
    {
     "data": {
      "text/plain": [
       "0.8011274069171511"
      ]
     },
     "execution_count": 39,
     "metadata": {},
     "output_type": "execute_result"
    }
   ],
   "source": [
    "import random\n",
    "\n",
    "def string_rand_filtering(text, ratio_drop=0.5):\n",
    "    words = text.split()\n",
    "    num_words_to_delete = int(ratio_drop * len(words))\n",
    "    words_to_delete = random.sample(words, num_words_to_delete)\n",
    "    modified_text = ' '.join(word for word in words if word not in words_to_delete)\n",
    "    return modified_text\n",
    "\n",
    "df_unseen_test_corrupted = df_unseen_test.copy()\n",
    "df_unseen_test_corrupted.text = df_unseen_test_corrupted.text.apply(string_rand_filtering)\n",
    "\n",
    "proba = pipe_classification.predict_proba(df_unseen_test_corrupted.text)[:, 1]\n",
    "roc_auc_score(df_unseen_test_corrupted.target, proba)"
   ]
  },
  {
   "cell_type": "markdown",
   "metadata": {},
   "source": [
    "Is there a way to detect that something is wrong with the test data in terms of features distribution in a semi-automated way? - **Yes!**\n",
    "\n",
    "<a id='adversarial_validation'></a>\n",
    "# 4.3 Adversarial validation\n",
    "\n",
    "The general idea is to check the degree of similarity between training and tests in terms of feature distribution: if they are difficult to distinguish, the distribution is probably similar and the usual validation techniques should work.\n",
    "If it does not seem to be the case, so we can suspect they are quite different. This intuition can be quantified by combining train and test sets, assigning 0/1 labels (0 — train, 1-test), and evaluating a binary classification task. For adversarial validation, we want to create a model that predicts which rows are in the training dataset, and which are in the test set. We, therefore, create a new target column in which the test samples are labeled 1 and the train samples with 0. <br>\n",
    "\n",
    "**Note:** The Performance of this model will be indicator of how big the problem is. In order to make it work we need to use the model of the same complexity for both the main problem and adversarial validation problem."
   ]
  },
  {
   "cell_type": "code",
   "execution_count": 40,
   "metadata": {},
   "outputs": [
    {
     "data": {
      "text/plain": [
       "0.5035948562742225"
      ]
     },
     "execution_count": 40,
     "metadata": {},
     "output_type": "execute_result"
    }
   ],
   "source": [
    "df_adversarial = pd.concat([df_available_train, df_unseen_test]).reset_index()\n",
    "df_adversarial.target = len(df_available_train)*[0] + len(df_unseen_test)*[1]\n",
    "\n",
    "X_train_adv, X_val_adv, y_train_adv, y_val_adv = train_test_split(\n",
    "    df_adversarial.text, df_adversarial.target, stratify=df_adversarial.target, test_size=0.3, random_state=42\n",
    ")\n",
    "\n",
    "pipe_classification.fit(X_train_adv, y_train_adv)\n",
    "\n",
    "proba = pipe_classification.predict_proba(X_val_adv)[:, 1]\n",
    "roc_auc_score(y_val_adv, proba)"
   ]
  },
  {
   "cell_type": "markdown",
   "metadata": {},
   "source": [
    "Adversarial validation for the initial complete test dataset - ROCAUC=0.5 means that it's impossible to tell whether this particular sample is from the train set or from the unseen test, so we don't have any significant features distributions shift."
   ]
  },
  {
   "cell_type": "code",
   "execution_count": 41,
   "metadata": {},
   "outputs": [
    {
     "data": {
      "text/plain": [
       "0.6779994796017583"
      ]
     },
     "execution_count": 41,
     "metadata": {},
     "output_type": "execute_result"
    }
   ],
   "source": [
    "df_adversarial = pd.concat([df_available_train, df_unseen_test_corrupted]).reset_index()\n",
    "df_adversarial.target = len(df_available_train)*[0] + len(df_unseen_test_corrupted)*[1]\n",
    "\n",
    "X_train_adv, X_val_adv, y_train_adv, y_val_adv = train_test_split(\n",
    "    df_adversarial.text, df_adversarial.target, stratify=df_adversarial.target, test_size=0.3, random_state=42\n",
    ")\n",
    "\n",
    "pipe_classification.fit(X_train_adv, y_train_adv)\n",
    "\n",
    "proba = pipe_classification.predict_proba(X_val_adv)[:, 1]\n",
    "roc_auc_score(y_val_adv, proba)"
   ]
  },
  {
   "cell_type": "markdown",
   "metadata": {},
   "source": [
    "Adversarial validation for the corrupted test dataset - ROCAUC=0.68 means that in many cases we can tell whether this particular sample is from the train set or from the unseen test, so we obviously have a features distributions shift."
   ]
  },
  {
   "cell_type": "markdown",
   "metadata": {},
   "source": [
    "<a id='Homework'></a>\n",
    "# Homework\n",
    "\n",
    "**Theory** (5 points):\n",
    "\n",
    ">Follow **Explore** and **TODO** sections.  \n",
    ">Answer theory questions in the Google Form.\n",
    ">List of questions:\n",
    "> - A model has high accuracy (e.g. 95%) but low precision (e.g. 10%) and recall (e.g. 10%) on the positive class in a binary classification problem. What could be happening and should we describe this kind of performance as \"rather good, because the accuracy is high\" or \"rather bad, because the precision/recall/f1 is low\"?\n",
    "> - Describe cases (or provide examples) in which in a multiclass classification problem the values of F1 macro will be greater than F1 micro and vice versa? What do you think happens more often in practice and why?\n",
    "> - Imagine that you are in production developing a similar system for Twitter for identifying real disasters, think about whether the split proposed in the kaggle competition (random, possibly with stratification by target) is optimal for a production model validation (assume that you have all the possible necessary data here) and if you think it could be not optimal - describe your ideas?\n",
    "> - For the task of recognizing disasters from tweets and quickly reacting to them by the relevant government authorities, describe cases or pipelines for processing suspected disasters for which a precision-optimized model would be more useful, and for which a recall-optimized one?\n",
    "> - For a task similar to the one proposed above (commonlit-evaluate-student-summaries) regression for both targets with the same input tables structure (assume that the uniqueness/non-uniqueness of ids fields corresponds to the proposed here problem statement), propose and describe validation strategies in such cases (in writing):<br>\n",
    "> A) Case in which we want to evaluate other students on the same questions (prompt text + prompt question); <br>\n",
    "> B) Case in which we want to evaluate the same students on different (unseen) questions (prompt text + prompt question); <br>\n",
    "> C) Case in which we want to evaluate other (unseen) students on different (unseen) questions (prompt text + prompt question)\n",
    "\n",
    "**Practice** (10 points):\n",
    " \n",
    "> 1. Check local validation vs public leaderboard metrics consistency for your models for [Natural Language Processing with Disaster Tweets](https://www.kaggle.com/competitions/nlp-getting-started/overview) and implement adversarial validation (train vs public test) to be shure that there is no features shift in the test dataset.<br>\n",
    "> 2. For the [CommonLit - Evaluate Student Summaries](https://www.kaggle.com/competitions/commonlit-evaluate-student-summaries/) task and dataset your aim is to configure a proper validation. Modeling itself is not the case here, what is more important here is the implementation of the validation mechanics. Try the following:\n",
    "> - Read some public [discussions](https://www.kaggle.com/competitions/commonlit-evaluate-student-summaries/discussion?sort=published) that are relevant to the validation topic.\n",
    "> - Try regular K-fold cross-validation (optionally stratified by prompt_id) and check whether your local validation matches the LB in terms of correlations of metrics increases between experiments and in terms of absolute values match.\n",
    "> - Try Group K-fold cross-validation (groupped by prompt_id) and check whether your local validation matches the LB in terms of correlations of metrics increases between experiments and in terms of absolute values match.\n",
    "> - Describe your thoughts about local validation vs LB metrics correlation in your practice notebook and if there is no correlation, what could be the reasons and what can be done? If you were solving such a problem in production, what split would you use and why?"
   ]
  }
 ],
 "metadata": {
  "kernelspec": {
   "display_name": "Python 3 (ipykernel)",
   "language": "python",
   "name": "python3"
  },
  "language_info": {
   "codemirror_mode": {
    "name": "ipython",
    "version": 3
   },
   "file_extension": ".py",
   "mimetype": "text/x-python",
   "name": "python",
   "nbconvert_exporter": "python",
   "pygments_lexer": "ipython3",
   "version": "3.9.13"
  }
 },
 "nbformat": 4,
 "nbformat_minor": 4
}
