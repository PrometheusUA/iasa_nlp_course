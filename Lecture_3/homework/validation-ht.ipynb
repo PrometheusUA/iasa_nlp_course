{
 "cells": [
  {
   "cell_type": "markdown",
   "id": "de82f84e-dfb0-45f2-9711-4d059dfa50ed",
   "metadata": {},
   "source": [
    "# Andrii Shevtsov homework 3, IASA NLP\n",
    "\n",
    "## Imports and constants"
   ]
  },
  {
   "cell_type": "code",
   "execution_count": 22,
   "id": "49a98add-b0b3-479a-8ca9-614dccb43330",
   "metadata": {},
   "outputs": [
    {
     "name": "stdout",
     "output_type": "stream",
     "text": [
      "Requirement already satisfied: optuna in c:\\users\\andrii\\anaconda3\\envs\\iasa_nlp_env\\lib\\site-packages (3.3.0)\n",
      "Requirement already satisfied: numpy in c:\\users\\andrii\\anaconda3\\envs\\iasa_nlp_env\\lib\\site-packages (from optuna) (1.22.4)\n",
      "Requirement already satisfied: tqdm in c:\\users\\andrii\\anaconda3\\envs\\iasa_nlp_env\\lib\\site-packages (from optuna) (4.64.0)\n",
      "Requirement already satisfied: colorlog in c:\\users\\andrii\\anaconda3\\envs\\iasa_nlp_env\\lib\\site-packages (from optuna) (6.7.0)\n",
      "Requirement already satisfied: sqlalchemy>=1.3.0 in c:\\users\\andrii\\anaconda3\\envs\\iasa_nlp_env\\lib\\site-packages (from optuna) (2.0.21)\n",
      "Requirement already satisfied: packaging>=20.0 in c:\\users\\andrii\\anaconda3\\envs\\iasa_nlp_env\\lib\\site-packages (from optuna) (23.1)\n",
      "Requirement already satisfied: PyYAML in c:\\users\\andrii\\anaconda3\\envs\\iasa_nlp_env\\lib\\site-packages (from optuna) (5.4.1)\n",
      "Requirement already satisfied: cmaes>=0.10.0 in c:\\users\\andrii\\anaconda3\\envs\\iasa_nlp_env\\lib\\site-packages (from optuna) (0.10.0)\n",
      "Requirement already satisfied: alembic>=1.5.0 in c:\\users\\andrii\\anaconda3\\envs\\iasa_nlp_env\\lib\\site-packages (from optuna) (1.12.0)\n",
      "Requirement already satisfied: Mako in c:\\users\\andrii\\anaconda3\\envs\\iasa_nlp_env\\lib\\site-packages (from alembic>=1.5.0->optuna) (1.2.4)\n",
      "Requirement already satisfied: typing-extensions>=4 in c:\\users\\andrii\\anaconda3\\envs\\iasa_nlp_env\\lib\\site-packages (from alembic>=1.5.0->optuna) (4.8.0)\n",
      "Requirement already satisfied: greenlet!=0.4.17 in c:\\users\\andrii\\anaconda3\\envs\\iasa_nlp_env\\lib\\site-packages (from sqlalchemy>=1.3.0->optuna) (2.0.2)\n",
      "Requirement already satisfied: colorama in c:\\users\\andrii\\anaconda3\\envs\\iasa_nlp_env\\lib\\site-packages (from colorlog->optuna) (0.4.6)\n",
      "Requirement already satisfied: MarkupSafe>=0.9.2 in c:\\users\\andrii\\anaconda3\\envs\\iasa_nlp_env\\lib\\site-packages (from Mako->alembic>=1.5.0->optuna) (2.1.3)\n"
     ]
    }
   ],
   "source": [
    "!pip install optuna"
   ]
  },
  {
   "cell_type": "code",
   "execution_count": 1,
   "id": "21ce3bbe-c207-4adb-848b-2e2efc6d5c68",
   "metadata": {
    "tags": []
   },
   "outputs": [],
   "source": [
    "import re\n",
    "\n",
    "import gensim\n",
    "import nltk\n",
    "import numpy as np\n",
    "import pandas as pd\n",
    "import matplotlib.pyplot as plt\n",
    "import string\n",
    "import optuna\n",
    "\n",
    "from sklearn.model_selection import train_test_split\n",
    "from sklearn.feature_extraction.text import TfidfVectorizer, CountVectorizer\n",
    "from sklearn.linear_model import LogisticRegression\n",
    "from sklearn.pipeline import Pipeline\n",
    "from sklearn.svm import LinearSVC\n",
    "from sklearn.tree import DecisionTreeClassifier\n",
    "from sklearn.metrics import f1_score, make_scorer, roc_auc_score, mean_squared_error\n",
    "from sklearn.model_selection import KFold, StratifiedKFold, cross_val_score\n",
    "from nltk.stem import PorterStemmer\n",
    "from nltk.corpus import stopwords\n",
    "from nltk import tokenize\n",
    "from wordcloud import STOPWORDS\n",
    "from sklearn.feature_extraction.text import TfidfVectorizer, CountVectorizer\n",
    "from sklearn.linear_model import Ridge, Lasso\n",
    "from sklearn.preprocessing import RobustScaler\n",
    "from lightgbm import LGBMRegressor\n",
    "from sklearn.neural_network import MLPRegressor\n",
    "from sentence_transformers import SentenceTransformer\n",
    "from sklearn.metrics.pairwise import cosine_similarity\n",
    "from scipy import sparse\n",
    "from scipy.stats import pearsonr, spearmanr, ttest_ind, levene"
   ]
  },
  {
   "cell_type": "code",
   "execution_count": 47,
   "id": "49c0429f-22b4-44c1-8e4c-6e2f4dc73a21",
   "metadata": {},
   "outputs": [],
   "source": [
    "import warnings\n",
    "warnings.filterwarnings(\"ignore\")"
   ]
  },
  {
   "cell_type": "code",
   "execution_count": 2,
   "id": "4a0dc5ad-1a85-4ebe-8b3e-6f5d260553ec",
   "metadata": {
    "tags": []
   },
   "outputs": [],
   "source": [
    "DISASTERS_TRAIN_FILE = '../../data/nlp_getting_started/train.csv'\n",
    "DISASTERS_TEST_FILE = '../../data/nlp_getting_started/test.csv'\n",
    "\n",
    "SUMMARIES_TRAIN_FILE = '../../data/commonlit_evaluate_student_summaries/summaries_train.csv'\n",
    "SUMMARIES_TEST_FILE = '../../data/commonlit_evaluate_student_summaries/summaries_test.csv'\n",
    "PROMPTS_TRAIN_FILE = '../../data/commonlit_evaluate_student_summaries/prompts_train.csv'\n",
    "PROMPTS_TEST_FILE = '../../data/commonlit_evaluate_student_summaries/prompts_test.csv'"
   ]
  },
  {
   "cell_type": "markdown",
   "id": "27b7236a-7518-433b-bceb-1bf9a8571f40",
   "metadata": {
    "tags": []
   },
   "source": [
    "## Natural Language Processing with Disaster Tweets"
   ]
  },
  {
   "cell_type": "markdown",
   "id": "a749ffec-9d87-411d-bc9d-441bd662606c",
   "metadata": {},
   "source": [
    "### Validation consistency\n",
    "\n",
    "In the original problem, there is a simple random train/test split, so we will also make some random ungrouped splits and see the tresults."
   ]
  },
  {
   "cell_type": "code",
   "execution_count": 13,
   "id": "ad4f2ff8-0a04-4a78-a6d9-c7dc5b6541e3",
   "metadata": {
    "tags": []
   },
   "outputs": [
    {
     "data": {
      "text/html": [
       "<div>\n",
       "<style scoped>\n",
       "    .dataframe tbody tr th:only-of-type {\n",
       "        vertical-align: middle;\n",
       "    }\n",
       "\n",
       "    .dataframe tbody tr th {\n",
       "        vertical-align: top;\n",
       "    }\n",
       "\n",
       "    .dataframe thead th {\n",
       "        text-align: right;\n",
       "    }\n",
       "</style>\n",
       "<table border=\"1\" class=\"dataframe\">\n",
       "  <thead>\n",
       "    <tr style=\"text-align: right;\">\n",
       "      <th></th>\n",
       "      <th>keyword</th>\n",
       "      <th>location</th>\n",
       "      <th>text</th>\n",
       "      <th>target</th>\n",
       "    </tr>\n",
       "    <tr>\n",
       "      <th>id</th>\n",
       "      <th></th>\n",
       "      <th></th>\n",
       "      <th></th>\n",
       "      <th></th>\n",
       "    </tr>\n",
       "  </thead>\n",
       "  <tbody>\n",
       "    <tr>\n",
       "      <th>1</th>\n",
       "      <td>NaN</td>\n",
       "      <td>NaN</td>\n",
       "      <td>Our Deeds are the Reason of this #earthquake M...</td>\n",
       "      <td>1</td>\n",
       "    </tr>\n",
       "    <tr>\n",
       "      <th>4</th>\n",
       "      <td>NaN</td>\n",
       "      <td>NaN</td>\n",
       "      <td>Forest fire near La Ronge Sask. Canada</td>\n",
       "      <td>1</td>\n",
       "    </tr>\n",
       "    <tr>\n",
       "      <th>5</th>\n",
       "      <td>NaN</td>\n",
       "      <td>NaN</td>\n",
       "      <td>All residents asked to 'shelter in place' are ...</td>\n",
       "      <td>1</td>\n",
       "    </tr>\n",
       "    <tr>\n",
       "      <th>6</th>\n",
       "      <td>NaN</td>\n",
       "      <td>NaN</td>\n",
       "      <td>13,000 people receive #wildfires evacuation or...</td>\n",
       "      <td>1</td>\n",
       "    </tr>\n",
       "    <tr>\n",
       "      <th>7</th>\n",
       "      <td>NaN</td>\n",
       "      <td>NaN</td>\n",
       "      <td>Just got sent this photo from Ruby #Alaska as ...</td>\n",
       "      <td>1</td>\n",
       "    </tr>\n",
       "  </tbody>\n",
       "</table>\n",
       "</div>"
      ],
      "text/plain": [
       "   keyword location                                               text  target\n",
       "id                                                                            \n",
       "1      NaN      NaN  Our Deeds are the Reason of this #earthquake M...       1\n",
       "4      NaN      NaN             Forest fire near La Ronge Sask. Canada       1\n",
       "5      NaN      NaN  All residents asked to 'shelter in place' are ...       1\n",
       "6      NaN      NaN  13,000 people receive #wildfires evacuation or...       1\n",
       "7      NaN      NaN  Just got sent this photo from Ruby #Alaska as ...       1"
      ]
     },
     "execution_count": 13,
     "metadata": {},
     "output_type": "execute_result"
    }
   ],
   "source": [
    "df_twitter_train = pd.read_csv(DISASTERS_TRAIN_FILE, index_col='id')\n",
    "df_twitter_test = pd.read_csv(DISASTERS_TEST_FILE, index_col='id')\n",
    "\n",
    "df_twitter_train.head()"
   ]
  },
  {
   "cell_type": "code",
   "execution_count": 26,
   "id": "bfb85e4c-bfb7-49d2-9d30-ccb69618d069",
   "metadata": {
    "tags": []
   },
   "outputs": [
    {
     "name": "stderr",
     "output_type": "stream",
     "text": [
      "[nltk_data] Downloading package stopwords to\n",
      "[nltk_data]     C:\\Users\\Andrii\\AppData\\Roaming\\nltk_data...\n",
      "[nltk_data]   Package stopwords is already up-to-date!\n"
     ]
    }
   ],
   "source": [
    "nltk.download('stopwords')\n",
    "\n",
    "stop_words = stopwords.words('english')\n",
    "stop_words.extend(['from', 'subject', 're', 'edu', 'use', 'good', 'bad', 'people']) #stopwords extended a bit\n",
    "\n",
    "def preprocess(text, join_back=True, stemmer = PorterStemmer()):\n",
    "    result = []\n",
    "    for token in gensim.utils.simple_preprocess(text):\n",
    "        if (\n",
    "            token not in gensim.parsing.preprocessing.STOPWORDS and \n",
    "            token not in stop_words\n",
    "        ):\n",
    "            result.append(token)\n",
    "    \n",
    "    result = [stemmer.stem(word) for word in result]\n",
    "    if join_back:\n",
    "        result = \" \".join(result)\n",
    "    \n",
    "    return result"
   ]
  },
  {
   "cell_type": "code",
   "execution_count": 46,
   "id": "8d8df533-7a30-408c-9306-f9b13493cdb0",
   "metadata": {
    "tags": []
   },
   "outputs": [
    {
     "data": {
      "text/html": [
       "<div>\n",
       "<style scoped>\n",
       "    .dataframe tbody tr th:only-of-type {\n",
       "        vertical-align: middle;\n",
       "    }\n",
       "\n",
       "    .dataframe tbody tr th {\n",
       "        vertical-align: top;\n",
       "    }\n",
       "\n",
       "    .dataframe thead th {\n",
       "        text-align: right;\n",
       "    }\n",
       "</style>\n",
       "<table border=\"1\" class=\"dataframe\">\n",
       "  <thead>\n",
       "    <tr style=\"text-align: right;\">\n",
       "      <th></th>\n",
       "      <th>keyword</th>\n",
       "      <th>location</th>\n",
       "      <th>text</th>\n",
       "      <th>target</th>\n",
       "      <th>text_clean</th>\n",
       "      <th>text_full</th>\n",
       "    </tr>\n",
       "    <tr>\n",
       "      <th>id</th>\n",
       "      <th></th>\n",
       "      <th></th>\n",
       "      <th></th>\n",
       "      <th></th>\n",
       "      <th></th>\n",
       "      <th></th>\n",
       "    </tr>\n",
       "  </thead>\n",
       "  <tbody>\n",
       "    <tr>\n",
       "      <th>1</th>\n",
       "      <td>NaN</td>\n",
       "      <td>NaN</td>\n",
       "      <td>Our Deeds are the Reason of this #earthquake M...</td>\n",
       "      <td>1</td>\n",
       "      <td>deed reason earthquak allah forgiv</td>\n",
       "      <td>Our Deeds are the Reason of this #earthquake M...</td>\n",
       "    </tr>\n",
       "    <tr>\n",
       "      <th>4</th>\n",
       "      <td>NaN</td>\n",
       "      <td>NaN</td>\n",
       "      <td>Forest fire near La Ronge Sask. Canada</td>\n",
       "      <td>1</td>\n",
       "      <td>forest near la rong sask canada</td>\n",
       "      <td>Forest fire near La Ronge Sask. Canada</td>\n",
       "    </tr>\n",
       "    <tr>\n",
       "      <th>5</th>\n",
       "      <td>NaN</td>\n",
       "      <td>NaN</td>\n",
       "      <td>All residents asked to 'shelter in place' are ...</td>\n",
       "      <td>1</td>\n",
       "      <td>resid ask shelter place notifi offic evacu she...</td>\n",
       "      <td>All residents asked to 'shelter in place' are ...</td>\n",
       "    </tr>\n",
       "    <tr>\n",
       "      <th>6</th>\n",
       "      <td>NaN</td>\n",
       "      <td>NaN</td>\n",
       "      <td>13,000 people receive #wildfires evacuation or...</td>\n",
       "      <td>1</td>\n",
       "      <td>receiv wildfir evacu order california</td>\n",
       "      <td>13,000 people receive #wildfires evacuation or...</td>\n",
       "    </tr>\n",
       "    <tr>\n",
       "      <th>7</th>\n",
       "      <td>NaN</td>\n",
       "      <td>NaN</td>\n",
       "      <td>Just got sent this photo from Ruby #Alaska as ...</td>\n",
       "      <td>1</td>\n",
       "      <td>got sent photo rubi alaska smoke wildfir pour ...</td>\n",
       "      <td>Just got sent this photo from Ruby #Alaska as ...</td>\n",
       "    </tr>\n",
       "  </tbody>\n",
       "</table>\n",
       "</div>"
      ],
      "text/plain": [
       "   keyword location                                               text  \\\n",
       "id                                                                       \n",
       "1      NaN      NaN  Our Deeds are the Reason of this #earthquake M...   \n",
       "4      NaN      NaN             Forest fire near La Ronge Sask. Canada   \n",
       "5      NaN      NaN  All residents asked to 'shelter in place' are ...   \n",
       "6      NaN      NaN  13,000 people receive #wildfires evacuation or...   \n",
       "7      NaN      NaN  Just got sent this photo from Ruby #Alaska as ...   \n",
       "\n",
       "    target                                         text_clean  \\\n",
       "id                                                              \n",
       "1        1                 deed reason earthquak allah forgiv   \n",
       "4        1                    forest near la rong sask canada   \n",
       "5        1  resid ask shelter place notifi offic evacu she...   \n",
       "6        1              receiv wildfir evacu order california   \n",
       "7        1  got sent photo rubi alaska smoke wildfir pour ...   \n",
       "\n",
       "                                            text_full  \n",
       "id                                                     \n",
       "1   Our Deeds are the Reason of this #earthquake M...  \n",
       "4            Forest fire near La Ronge Sask. Canada    \n",
       "5   All residents asked to 'shelter in place' are ...  \n",
       "6   13,000 people receive #wildfires evacuation or...  \n",
       "7   Just got sent this photo from Ruby #Alaska as ...  "
      ]
     },
     "execution_count": 46,
     "metadata": {},
     "output_type": "execute_result"
    }
   ],
   "source": [
    "create_full_text = lambda row: row['text'] + ' ' + (str(row['keyword']) if not pd.isnull(row['keyword']) else '') + ' ' + (str(row['location']) if not pd.isnull(row['location']) else '')\n",
    "\n",
    "df_twitter_train['text_full'] = df_twitter_train.apply(create_full_text, axis=1)\n",
    "df_twitter_test['text_full'] = df_twitter_test.apply(create_full_text, axis=1)\n",
    "\n",
    "df_twitter_train['text_clean'] = df_twitter_train['text_full'].apply(preprocess)\n",
    "df_twitter_test['text_clean'] = df_twitter_test['text_full'].apply(preprocess)\n",
    "\n",
    "df_twitter_train.head()"
   ]
  },
  {
   "cell_type": "code",
   "execution_count": 80,
   "id": "a337d945-5e56-4473-83c9-cb90c1b6ddf0",
   "metadata": {
    "tags": []
   },
   "outputs": [],
   "source": [
    "classifiers = {\n",
    "    \"logistic_regression\": Pipeline([\n",
    "    ('vectorizer', TfidfVectorizer(\n",
    "        analyzer='word',\n",
    "        stop_words='english',\n",
    "        ngram_range=(1, 3),\n",
    "        lowercase=True,\n",
    "        min_df=5,\n",
    "        max_features=30000\n",
    "    )),  \n",
    "    ('classifier', LogisticRegression())\n",
    "]),\n",
    "    \"support_vector_machine\": Pipeline([\n",
    "    ('vectorizer', TfidfVectorizer(\n",
    "        analyzer='word',\n",
    "        stop_words='english',\n",
    "        ngram_range=(1, 3),\n",
    "        lowercase=True,\n",
    "        min_df=5,\n",
    "        max_features=30000\n",
    "    )),  \n",
    "    ('classifier', LinearSVC(dual=\"auto\"))\n",
    "]),\n",
    "    \"decision_tree\": Pipeline([\n",
    "    ('vectorizer', TfidfVectorizer(\n",
    "        analyzer='word',\n",
    "        stop_words='english',\n",
    "        ngram_range=(1, 3),\n",
    "        lowercase=True,\n",
    "        min_df=5,\n",
    "        max_features=30000\n",
    "    )),  \n",
    "    ('classifier', DecisionTreeClassifier())\n",
    "])\n",
    "              }"
   ]
  },
  {
   "cell_type": "markdown",
   "id": "8183d50a-3117-4c89-b524-a837463f2b62",
   "metadata": {},
   "source": [
    "Let's compare three methods: holdout set, k-fold and stratified K-fold.\n",
    "\n",
    "#### Holdout set"
   ]
  },
  {
   "cell_type": "code",
   "execution_count": 81,
   "id": "6704c7a5-720f-4ce7-b66c-1715c4e7043b",
   "metadata": {
    "tags": []
   },
   "outputs": [],
   "source": [
    "X_train, y_train = df_twitter_train['text_clean'], df_twitter_train['target']\n",
    "X_test = df_twitter_test['text_clean']\n",
    "\n",
    "X_train, X_val, y_train, y_val = train_test_split(X_train, y_train, test_size=0.2)"
   ]
  },
  {
   "cell_type": "code",
   "execution_count": 87,
   "id": "017e91e5-33cc-49ff-afd3-32eb4a1e55a5",
   "metadata": {
    "tags": []
   },
   "outputs": [
    {
     "name": "stdout",
     "output_type": "stream",
     "text": [
      "Holdout set, classifier logistic_regression:\n",
      "\tTrain F1 = 0.8152\n",
      "\tVal F1  = 0.7481\n",
      "Holdout set, classifier support_vector_machine:\n",
      "\tTrain F1 = 0.8875\n",
      "\tVal F1  = 0.7377\n",
      "Holdout set, classifier decision_tree:\n",
      "\tTrain F1 = 0.9896\n",
      "\tVal F1  = 0.6796\n"
     ]
    }
   ],
   "source": [
    "for pipe_name, pipe in classifiers.items():\n",
    "    pipe.fit(X_train, y_train)\n",
    "    train_score = f1_score(y_train, pipe.predict(X_train))\n",
    "    val_score = f1_score(y_val, pipe.predict(X_val))\n",
    "    \n",
    "    y_test_pred = pipe.predict(X_test)\n",
    "    df_submission = df_twitter_test.copy()\n",
    "    df_submission['target'] = y_test_pred\n",
    "    df_submission.loc[:, ['target']].to_csv(f'./submissions/submission_{pipe_name}_holdout.csv')\n",
    "    \n",
    "    print(f\"Holdout set, classifier {pipe_name}:\\n\\tTrain F1 = {train_score:.4f}\\n\\tVal F1  = {val_score:.4f}\")"
   ]
  },
  {
   "cell_type": "markdown",
   "id": "df609fbb-c0e6-4634-ae3f-47d7ac7322d6",
   "metadata": {},
   "source": [
    "#### 5-fold CV"
   ]
  },
  {
   "cell_type": "code",
   "execution_count": 104,
   "id": "4474c176-b728-44d5-8b17-dab03aa1d8b6",
   "metadata": {
    "tags": []
   },
   "outputs": [],
   "source": [
    "cv = KFold(n_splits=5, shuffle=True)"
   ]
  },
  {
   "cell_type": "code",
   "execution_count": 105,
   "id": "7c6dff91-491b-4528-adcc-4ca522f4c126",
   "metadata": {
    "tags": []
   },
   "outputs": [
    {
     "name": "stdout",
     "output_type": "stream",
     "text": [
      "K Fold, classifier logistic_regression:\n",
      "\tMean val F1  = 0.7478\n",
      "K Fold, classifier support_vector_machine:\n",
      "\tMean val F1  = 0.7328\n",
      "K Fold, classifier decision_tree:\n",
      "\tMean val F1  = 0.6542\n"
     ]
    }
   ],
   "source": [
    "for pipe_name, pipe in classifiers.items():\n",
    "    val_scores = cross_val_score(pipe, df_twitter_train['text_clean'], df_twitter_train['target'], cv=cv, scoring='f1')\n",
    "    \n",
    "    pipe.fit(df_twitter_train['text_clean'], df_twitter_train['target'])\n",
    "    \n",
    "    y_test_pred = pipe.predict(X_test)\n",
    "    df_submission = df_twitter_test.copy()\n",
    "    df_submission['target'] = y_test_pred\n",
    "    df_submission.loc[:, ['target']].to_csv(f'./submissions/submission_{pipe_name}_kfold.csv')\n",
    "\n",
    "    print(f\"K Fold, classifier {pipe_name}:\\n\\tMean val F1  = {(val_scores).mean():.4f}\")"
   ]
  },
  {
   "cell_type": "markdown",
   "id": "4ffbca69-4dea-4aa2-a1ed-83de2e7f48a3",
   "metadata": {
    "tags": []
   },
   "source": [
    "#### Stratified 5-fold CV\n",
    "\n",
    "We don't save submissions here, because they are the same as for the simple KFold"
   ]
  },
  {
   "cell_type": "code",
   "execution_count": 106,
   "id": "787c6fb6-fe3a-420b-a985-909ab7f408a9",
   "metadata": {
    "tags": []
   },
   "outputs": [],
   "source": [
    "cv_strat = StratifiedKFold(n_splits=5, shuffle=True)"
   ]
  },
  {
   "cell_type": "code",
   "execution_count": 107,
   "id": "42f84c2a-9d67-4d9a-86f6-3bca0f7954e5",
   "metadata": {
    "tags": []
   },
   "outputs": [
    {
     "name": "stdout",
     "output_type": "stream",
     "text": [
      "Stratified K Fold, classifier logistic_regression:\n",
      "\tMean val F1  = 0.7411\n",
      "Stratified K Fold, classifier support_vector_machine:\n",
      "\tMean val F1  = 0.7407\n",
      "Stratified K Fold, classifier decision_tree:\n",
      "\tMean val F1  = 0.6578\n"
     ]
    }
   ],
   "source": [
    "for pipe_name, pipe in classifiers.items():\n",
    "    val_scores = cross_val_score(pipe, df_twitter_train['text_clean'], df_twitter_train['target'], cv=cv_strat, scoring='f1')\n",
    "    print(f\"Stratified K Fold, classifier {pipe_name}:\\n\\tMean val F1  = {(val_scores).mean():.4f}\")"
   ]
  },
  {
   "cell_type": "markdown",
   "id": "d0957715-df23-44fe-a6c5-475296d184fd",
   "metadata": {},
   "source": [
    "#### Results\n",
    "\n",
    "Scores look like the following:\n",
    "\n",
    "![Scores for these submissions](./images/submissions_disaster_tweets.png)\n",
    "\n",
    "Let's draw a plot of evaluation / leaderboard score: "
   ]
  },
  {
   "cell_type": "code",
   "execution_count": 4,
   "id": "85ff6437-f145-49ba-babf-47e89846cdac",
   "metadata": {
    "tags": []
   },
   "outputs": [
    {
     "data": {
      "image/png": "[encoded data removed]",
      "text/plain": [
       "<Figure size 640x480 with 1 Axes>"
      ]
     },
     "metadata": {},
     "output_type": "display_data"
    }
   ],
   "source": [
    "plt.scatter([0.7481, 0.7377, 0.6796], [0.78302, 0.77474, 0.70977], label=\"Holdout test results\")\n",
    "plt.scatter([0.7478, 0.7328, 0.6542], [0.78516, 0.7775, 0.70671], label=\"5-fold test results\")\n",
    "plt.scatter([0.7411, 0.7407, 0.6578], [0.78516, 0.7775, 0.70671], label=\"Stratified 5-fold test results\")\n",
    "\n",
    "\n",
    "plt.xlabel(\"Evaluation score\")\n",
    "plt.ylabel(\"Leaderboard score\")\n",
    "plt.title(\"Leaderboard/evaluation F1 scores\")\n",
    "\n",
    "plt.axline((0.6509, 0.6509), (0.78516, 0.78516), linestyle=\"--\", linewidth=1, label=\"Diagonal line (leaderboard score = eval score)\")\n",
    "\n",
    "plt.legend()\n",
    "\n",
    "plt.show()"
   ]
  },
  {
   "cell_type": "markdown",
   "id": "26013e8e-420b-4297-9aa2-0b6ab166a622",
   "metadata": {},
   "source": [
    "Evaluation score definitely correlates with its leaderboard mate, but it is definitely a little bit lower for all the pipelines and evaluations.\n",
    "\n",
    "Probably it is the case because actually competition uses the macro F1, not simply F1 for the positive label.\n",
    "\n",
    "Let's try it:"
   ]
  },
  {
   "cell_type": "code",
   "execution_count": 98,
   "id": "2e8d6220-a166-4e9f-904b-d5c6f5b90fd2",
   "metadata": {
    "tags": []
   },
   "outputs": [
    {
     "name": "stdout",
     "output_type": "stream",
     "text": [
      "Holdout set, classifier logistic_regression:\n",
      "\tTrain F1 = 0.8456\n",
      "\tVal F1  = 0.7910\n",
      "Holdout set, classifier support_vector_machine:\n",
      "\tTrain F1 = 0.9039\n",
      "\tVal F1  = 0.7789\n",
      "Holdout set, classifier decision_tree:\n",
      "\tTrain F1 = 0.9909\n",
      "\tVal F1  = 0.7162\n"
     ]
    }
   ],
   "source": [
    "for pipe_name, pipe in classifiers.items():\n",
    "    pipe.fit(X_train, y_train)\n",
    "    train_score = f1_score(y_train, pipe.predict(X_train), average='macro')\n",
    "    val_score = f1_score(y_val, pipe.predict(X_val), average='macro')\n",
    "    \n",
    "    print(f\"Holdout set, classifier {pipe_name}:\\n\\tTrain F1 = {train_score:.4f}\\n\\tVal F1  = {val_score:.4f}\")"
   ]
  },
  {
   "cell_type": "code",
   "execution_count": 111,
   "id": "3eedb804-f44c-4694-b03e-b88ac0e5bf67",
   "metadata": {
    "tags": []
   },
   "outputs": [
    {
     "name": "stdout",
     "output_type": "stream",
     "text": [
      "K Fold, classifier logistic_regression:\n",
      "\tMean val macro F1  = 0.7814\n",
      "K Fold, classifier support_vector_machine:\n",
      "\tMean val macro F1  = 0.7787\n",
      "K Fold, classifier decision_tree:\n",
      "\tMean val macro F1  = 0.7057\n"
     ]
    }
   ],
   "source": [
    "for pipe_name, pipe in classifiers.items():\n",
    "    val_scores = cross_val_score(pipe, df_twitter_train['text_clean'], df_twitter_train['target'], cv=cv, \n",
    "                                 scoring=make_scorer(f1_score, average='macro'))\n",
    "    print(f\"K Fold, classifier {pipe_name}:\\n\\tMean val macro F1  = {(val_scores).mean():.4f}\")"
   ]
  },
  {
   "cell_type": "code",
   "execution_count": 112,
   "id": "f7c3031e-d0c1-43ad-a107-48259497f000",
   "metadata": {
    "tags": []
   },
   "outputs": [
    {
     "name": "stdout",
     "output_type": "stream",
     "text": [
      "Stratified K Fold, classifier logistic_regression:\n",
      "\tMean val F1  = 0.7832\n",
      "Stratified K Fold, classifier support_vector_machine:\n",
      "\tMean val F1  = 0.7728\n",
      "Stratified K Fold, classifier decision_tree:\n",
      "\tMean val F1  = 0.6999\n"
     ]
    }
   ],
   "source": [
    "for pipe_name, pipe in classifiers.items():\n",
    "    val_scores = cross_val_score(pipe, df_twitter_train['text_clean'], df_twitter_train['target'], cv=cv_strat, \n",
    "                                 scoring=make_scorer(f1_score, average='macro'))\n",
    "    print(f\"Stratified K Fold, classifier {pipe_name}:\\n\\tMean val F1  = {(val_scores).mean():.4f}\")"
   ]
  },
  {
   "cell_type": "code",
   "execution_count": 3,
   "id": "6d2c5598-df76-4fd6-a7cb-fd32bbfc084b",
   "metadata": {
    "tags": []
   },
   "outputs": [
    {
     "data": {
      "image/png": "[encoded data removed]",
      "text/plain": [
       "<Figure size 640x480 with 1 Axes>"
      ]
     },
     "metadata": {},
     "output_type": "display_data"
    }
   ],
   "source": [
    "plt.scatter([0.7910, 0.7789, 0.7175], [0.78302, 0.77474, 0.70977], label=\"Holdout test results\")\n",
    "plt.scatter([0.7814, 0.7787, 0.7057], [0.78516, 0.7775, 0.70671], label=\"5-fold test results\")\n",
    "plt.scatter([0.7832, 0.7728, 0.6999], [0.78516, 0.7775, 0.70671], label=\"Stratified 5-fold test results\")\n",
    "\n",
    "\n",
    "plt.xlabel(\"Evaluation score\")\n",
    "plt.ylabel(\"Leaderboard score\")\n",
    "plt.title(\"Leaderboard/evaluation macro F1 scores\")\n",
    "\n",
    "plt.axline((0.6509, 0.6509), (0.78516, 0.78516), linestyle=\"--\", linewidth=1, label=\"Diagonal line (leaderboard score = eval score)\")\n",
    "\n",
    "plt.legend()\n",
    "\n",
    "plt.show()"
   ]
  },
  {
   "cell_type": "markdown",
   "id": "7ed4855e-a487-4c72-acb2-f6282897256f",
   "metadata": {},
   "source": [
    "Here, we can clearly see that k fold is the best one predictive for such random initialization. But, actually, all methods are pretty accurate on the task and evaluation correlates with the leaderboard."
   ]
  },
  {
   "cell_type": "markdown",
   "id": "d8d7e077-b82c-47b8-bb32-59e4f4da13f5",
   "metadata": {},
   "source": [
    "### Adversarial validation"
   ]
  },
  {
   "cell_type": "code",
   "execution_count": 120,
   "id": "eef559bc-805a-4d34-ba54-40d462e801cf",
   "metadata": {
    "tags": []
   },
   "outputs": [
    {
     "name": "stdout",
     "output_type": "stream",
     "text": [
      "Classifier logistic_regression:\n",
      "\tTrain macro F1 = 0.4653\n",
      "\tVal macro F1  = 0.4251\n",
      "\tVal ROC AUC = 0.5032025531940566\n",
      "Classifier support_vector_machine:\n",
      "\tTrain macro F1 = 0.4653\n",
      "\tVal macro F1  = 0.4251\n",
      "\tVal ROC AUC = 0.5032025531940566\n",
      "Classifier decision_tree:\n",
      "\tTrain macro F1 = 0.4653\n",
      "\tVal macro F1  = 0.4251\n",
      "\tVal ROC AUC = 0.5032025531940566\n"
     ]
    }
   ],
   "source": [
    "df_adversarial = pd.concat([df_twitter_train, df_twitter_test]).reset_index()\n",
    "df_adversarial.loc[:, 'target'] = len(df_twitter_train)*[0] + len(df_twitter_test)*[1]\n",
    "\n",
    "X_train_adv, X_val_adv, y_train_adv, y_val_adv = train_test_split(\n",
    "    df_adversarial['text_clean'], df_adversarial['target'], stratify=df_adversarial['target'], test_size=0.2\n",
    ")\n",
    "\n",
    "for pipe_name, pipe in classifiers.items():\n",
    "    pipe.fit(X_train_adv, y_train_adv)\n",
    "    \n",
    "    y_train_pred = pipe_classification.predict(X_train_adv)\n",
    "    y_val_pred = pipe_classification.predict(X_val_adv)\n",
    "    \n",
    "    train_score = f1_score(y_train_adv, y_train_pred, average='macro')\n",
    "    val_score = f1_score(y_val_adv, y_val_pred, average='macro')\n",
    "    val_roc_auc = roc_auc_score(y_val_adv, pipe_classification.predict_proba(X_val_adv)[:, 1])\n",
    "    \n",
    "    print(f\"Classifier {pipe_name}:\\n\\tTrain macro F1 = {train_score:.4f}\\n\\tVal macro F1  = {val_score:.4f}\")\n",
    "    print(f\"\\tVal ROC AUC = {val_roc_auc}\")"
   ]
  },
  {
   "cell_type": "code",
   "execution_count": 116,
   "id": "2158d9c1-0463-4e75-9a0d-a89dd6ec51c3",
   "metadata": {
    "tags": []
   },
   "outputs": [
    {
     "name": "stdout",
     "output_type": "stream",
     "text": [
      "Percent of test: 0.3000183891136447\n"
     ]
    }
   ],
   "source": [
    "print(\"Percent of test:\", len(df_twitter_test)/len(df_adversarial))"
   ]
  },
  {
   "cell_type": "markdown",
   "id": "b1630399-f3e8-4c1a-ba54-09d7e165b2a9",
   "metadata": {},
   "source": [
    "Confusion matrix for such a classifier, if it can't find any leaks, should look like:\n",
    "\n",
    "|                   | Test     | Train     |\n",
    "| ----------------: | :------: | :-------: |\n",
    "| Test              | 0.3 * 0.3 = 0.09 | 0.3 * 0.7 = 0.21 |\n",
    "| Train             | 0.7 * 0.3 = 0.21 | 0.7 * 0.7 = 0.49 |\n",
    "\n",
    "For the test class, F1 should be 2\\*0.09/(2\\*0.09 + 0.21 + 0.21) = 0.3\n",
    "\n",
    "For the train class, F1 should be 2\\*0.49/(2\\*0.49 + 0.21 + 0.21) = 0.7\n",
    "\n",
    "So, for completely independent classes macro F1 should be (0.3 + 0.7) / 2 = 0.5\n",
    "\n",
    "Macro F1 is smaller in our case, so there are clearly no leaks.\n",
    "\n",
    "ROC AUC score also shows that we have completely randomized predictions."
   ]
  },
  {
   "cell_type": "markdown",
   "id": "49d36f75-e19d-486d-9c77-67393dab1682",
   "metadata": {},
   "source": [
    "## CommonLit - Evaluate Student Summaries"
   ]
  },
  {
   "cell_type": "markdown",
   "id": "95852ce7-6659-481b-a3c0-84360dfca80b",
   "metadata": {
    "tags": []
   },
   "source": [
    "### Preparation\n",
    "\n",
    "It is heavily based on the previous home task, but there are some changes and simplifications"
   ]
  },
  {
   "cell_type": "code",
   "execution_count": 3,
   "id": "e19fdbc4-c0d6-46af-a0b9-a7632b9dc59b",
   "metadata": {},
   "outputs": [],
   "source": [
    "summaries_train_df = pd.read_csv(SUMMARIES_TRAIN_FILE)\n",
    "summaries_test_df = pd.read_csv(SUMMARIES_TEST_FILE)\n",
    "prompts_train_df = pd.read_csv(PROMPTS_TRAIN_FILE)\n",
    "prompts_test_df = pd.read_csv(PROMPTS_TEST_FILE)"
   ]
  },
  {
   "cell_type": "code",
   "execution_count": 4,
   "id": "8430f939-a5b8-4f84-b039-1057c1aadc2d",
   "metadata": {},
   "outputs": [
    {
     "data": {
      "text/html": [
       "<div>\n",
       "<style scoped>\n",
       "    .dataframe tbody tr th:only-of-type {\n",
       "        vertical-align: middle;\n",
       "    }\n",
       "\n",
       "    .dataframe tbody tr th {\n",
       "        vertical-align: top;\n",
       "    }\n",
       "\n",
       "    .dataframe thead th {\n",
       "        text-align: right;\n",
       "    }\n",
       "</style>\n",
       "<table border=\"1\" class=\"dataframe\">\n",
       "  <thead>\n",
       "    <tr style=\"text-align: right;\">\n",
       "      <th></th>\n",
       "      <th>student_id</th>\n",
       "      <th>prompt_id</th>\n",
       "      <th>text</th>\n",
       "      <th>content</th>\n",
       "      <th>wording</th>\n",
       "    </tr>\n",
       "  </thead>\n",
       "  <tbody>\n",
       "    <tr>\n",
       "      <th>0</th>\n",
       "      <td>000e8c3c7ddb</td>\n",
       "      <td>814d6b</td>\n",
       "      <td>The third wave was an experimentto see how peo...</td>\n",
       "      <td>0.205683</td>\n",
       "      <td>0.380538</td>\n",
       "    </tr>\n",
       "    <tr>\n",
       "      <th>1</th>\n",
       "      <td>0020ae56ffbf</td>\n",
       "      <td>ebad26</td>\n",
       "      <td>They would rub it up with soda to make the sme...</td>\n",
       "      <td>-0.548304</td>\n",
       "      <td>0.506755</td>\n",
       "    </tr>\n",
       "    <tr>\n",
       "      <th>2</th>\n",
       "      <td>004e978e639e</td>\n",
       "      <td>3b9047</td>\n",
       "      <td>In Egypt, there were many occupations and soci...</td>\n",
       "      <td>3.128928</td>\n",
       "      <td>4.231226</td>\n",
       "    </tr>\n",
       "    <tr>\n",
       "      <th>3</th>\n",
       "      <td>005ab0199905</td>\n",
       "      <td>3b9047</td>\n",
       "      <td>The highest class was Pharaohs these people we...</td>\n",
       "      <td>-0.210614</td>\n",
       "      <td>-0.471415</td>\n",
       "    </tr>\n",
       "    <tr>\n",
       "      <th>4</th>\n",
       "      <td>0070c9e7af47</td>\n",
       "      <td>814d6b</td>\n",
       "      <td>The Third Wave developed  rapidly because the ...</td>\n",
       "      <td>3.272894</td>\n",
       "      <td>3.219757</td>\n",
       "    </tr>\n",
       "  </tbody>\n",
       "</table>\n",
       "</div>"
      ],
      "text/plain": [
       "     student_id prompt_id                                               text  \\\n",
       "0  000e8c3c7ddb    814d6b  The third wave was an experimentto see how peo...   \n",
       "1  0020ae56ffbf    ebad26  They would rub it up with soda to make the sme...   \n",
       "2  004e978e639e    3b9047  In Egypt, there were many occupations and soci...   \n",
       "3  005ab0199905    3b9047  The highest class was Pharaohs these people we...   \n",
       "4  0070c9e7af47    814d6b  The Third Wave developed  rapidly because the ...   \n",
       "\n",
       "    content   wording  \n",
       "0  0.205683  0.380538  \n",
       "1 -0.548304  0.506755  \n",
       "2  3.128928  4.231226  \n",
       "3 -0.210614 -0.471415  \n",
       "4  3.272894  3.219757  "
      ]
     },
     "execution_count": 4,
     "metadata": {},
     "output_type": "execute_result"
    }
   ],
   "source": [
    "summaries_train_df.head()"
   ]
  },
  {
   "cell_type": "code",
   "execution_count": 5,
   "id": "404b197a-bfff-40e7-bc97-b482ace66ec1",
   "metadata": {},
   "outputs": [],
   "source": [
    "stop_words = list(STOPWORDS)\n",
    "stop_words.extend(['from', 'subject', 're', 'edu', 'use', 'good', 'bad', 'people']) #stopwords extended a bit\n",
    "def preprocess_hard_base(text, join_back=True):\n",
    "    result = []\n",
    "    for token in gensim.utils.simple_preprocess(text):\n",
    "        # Stop Words Cleaning\n",
    "        if (\n",
    "            token not in gensim.parsing.preprocessing.STOPWORDS and \n",
    "            token not in stop_words\n",
    "        ):\n",
    "            result.append(token)\n",
    "    if join_back:\n",
    "        result = \" \".join(result)\n",
    "    return result"
   ]
  },
  {
   "cell_type": "code",
   "execution_count": 6,
   "id": "3b191655-ec69-4dbb-b48d-ccd91696d6fd",
   "metadata": {},
   "outputs": [],
   "source": [
    "def preprocess_hard_stemming(text, join_back=True, stemmer = PorterStemmer()):\n",
    "    tokens = preprocess_hard_base(text, join_back=False)\n",
    "    \n",
    "    result = [stemmer.stem(word) for word in tokens]\n",
    "    if join_back:\n",
    "        result = \" \".join(result)\n",
    "    \n",
    "    return result"
   ]
  },
  {
   "cell_type": "code",
   "execution_count": 7,
   "id": "e929d6a1-a5e0-4797-89aa-3e505e146985",
   "metadata": {},
   "outputs": [],
   "source": [
    "def collapse_dots(text):\n",
    "    # Collapse sequential dots\n",
    "    input = re.sub(\"\\.+\", \".\", text)\n",
    "    # Collapse dots separated by whitespaces\n",
    "    all_collapsed = False\n",
    "    while not all_collapsed:\n",
    "        output = re.sub(r\"\\.(( )*)\\.\", \".\", text)\n",
    "        all_collapsed = input == output\n",
    "        input = output\n",
    "    return output\n",
    "\n",
    "# Check how it will influence different ML models\n",
    "def process_soft(text):\n",
    "    if isinstance(text, str):\n",
    "        text = \" \".join(tokenize.sent_tokenize(text))\n",
    "        text = re.sub(r\"http\\S+\", \"\", text)\n",
    "        text = re.sub(r\"\\n+\", \". \", text)\n",
    "        for symb in [\"!\", \",\", \":\", \";\", \"?\"]:\n",
    "            text = re.sub(rf\"\\{symb}\\.\", symb, text)\n",
    "        text = re.sub(\"[^а-яА-Яa-zA-Z0-9!\\\"#$%&'()*+,-./:;<=>?@[\\\\]^_`{|}~ё]+\", \" \", text)\n",
    "        text = re.sub(r\"#\\S+\", \"\", text)\n",
    "        text = collapse_dots(text)\n",
    "        text = text.strip()\n",
    "    return text"
   ]
  },
  {
   "cell_type": "code",
   "execution_count": 11,
   "id": "aba11d6c-422e-49c1-a481-8a2338569f9d",
   "metadata": {},
   "outputs": [
    {
     "data": {
      "text/html": [
       "<div>\n",
       "<style scoped>\n",
       "    .dataframe tbody tr th:only-of-type {\n",
       "        vertical-align: middle;\n",
       "    }\n",
       "\n",
       "    .dataframe tbody tr th {\n",
       "        vertical-align: top;\n",
       "    }\n",
       "\n",
       "    .dataframe thead th {\n",
       "        text-align: right;\n",
       "    }\n",
       "</style>\n",
       "<table border=\"1\" class=\"dataframe\">\n",
       "  <thead>\n",
       "    <tr style=\"text-align: right;\">\n",
       "      <th></th>\n",
       "      <th>prompt_id</th>\n",
       "      <th>prompt_question</th>\n",
       "      <th>prompt_title</th>\n",
       "      <th>prompt_text</th>\n",
       "      <th>prompt_question_hard_preprocessed_stemmed</th>\n",
       "      <th>prompt_title_hard_preprocessed_stemmed</th>\n",
       "      <th>prompt_text_hard_preprocessed_stemmed</th>\n",
       "      <th>prompt_question_soft_preprocessed</th>\n",
       "      <th>prompt_title_soft_preprocessed</th>\n",
       "      <th>prompt_text_soft_preprocessed</th>\n",
       "    </tr>\n",
       "  </thead>\n",
       "  <tbody>\n",
       "    <tr>\n",
       "      <th>0</th>\n",
       "      <td>39c16e</td>\n",
       "      <td>Summarize at least 3 elements of an ideal trag...</td>\n",
       "      <td>On Tragedy</td>\n",
       "      <td>Chapter 13 \\r\\nAs the sequel to what has alrea...</td>\n",
       "      <td>summar element ideal tragedi describ aristotl</td>\n",
       "      <td>tragedi</td>\n",
       "      <td>chapter sequel said proceed consid poet aim av...</td>\n",
       "      <td>Summarize at least 3 elements of an ideal trag...</td>\n",
       "      <td>On Tragedy</td>\n",
       "      <td>Chapter 13 . As the sequel to what has already...</td>\n",
       "    </tr>\n",
       "    <tr>\n",
       "      <th>1</th>\n",
       "      <td>3b9047</td>\n",
       "      <td>In complete sentences, summarize the structure...</td>\n",
       "      <td>Egyptian Social Structure</td>\n",
       "      <td>Egyptian society was structured like a pyramid...</td>\n",
       "      <td>complet sentenc summar structur ancient egypti...</td>\n",
       "      <td>egyptian social structur</td>\n",
       "      <td>egyptian societi structur pyramid god ra osiri...</td>\n",
       "      <td>In complete sentences, summarize the structure...</td>\n",
       "      <td>Egyptian Social Structure</td>\n",
       "      <td>Egyptian society was structured like a pyramid...</td>\n",
       "    </tr>\n",
       "    <tr>\n",
       "      <th>2</th>\n",
       "      <td>814d6b</td>\n",
       "      <td>Summarize how the Third Wave developed over su...</td>\n",
       "      <td>The Third Wave</td>\n",
       "      <td>Background \\r\\nThe Third Wave experiment took ...</td>\n",
       "      <td>summar wave develop short period time experi end</td>\n",
       "      <td>wave</td>\n",
       "      <td>background wave experi took place cubberley hi...</td>\n",
       "      <td>Summarize how the Third Wave developed over su...</td>\n",
       "      <td>The Third Wave</td>\n",
       "      <td>Background . The Third Wave experiment took pl...</td>\n",
       "    </tr>\n",
       "    <tr>\n",
       "      <th>3</th>\n",
       "      <td>ebad26</td>\n",
       "      <td>Summarize the various ways the factory would u...</td>\n",
       "      <td>Excerpt from The Jungle</td>\n",
       "      <td>With one member trimming beef in a cannery, an...</td>\n",
       "      <td>summar way factori cover spoil meat cite evid ...</td>\n",
       "      <td>excerpt jungl</td>\n",
       "      <td>member trim beef canneri work sausag factori f...</td>\n",
       "      <td>Summarize the various ways the factory would u...</td>\n",
       "      <td>Excerpt from The Jungle</td>\n",
       "      <td>With one member trimming beef in a cannery, an...</td>\n",
       "    </tr>\n",
       "  </tbody>\n",
       "</table>\n",
       "</div>"
      ],
      "text/plain": [
       "  prompt_id                                    prompt_question  \\\n",
       "0    39c16e  Summarize at least 3 elements of an ideal trag...   \n",
       "1    3b9047  In complete sentences, summarize the structure...   \n",
       "2    814d6b  Summarize how the Third Wave developed over su...   \n",
       "3    ebad26  Summarize the various ways the factory would u...   \n",
       "\n",
       "                prompt_title  \\\n",
       "0                 On Tragedy   \n",
       "1  Egyptian Social Structure   \n",
       "2             The Third Wave   \n",
       "3    Excerpt from The Jungle   \n",
       "\n",
       "                                         prompt_text  \\\n",
       "0  Chapter 13 \\r\\nAs the sequel to what has alrea...   \n",
       "1  Egyptian society was structured like a pyramid...   \n",
       "2  Background \\r\\nThe Third Wave experiment took ...   \n",
       "3  With one member trimming beef in a cannery, an...   \n",
       "\n",
       "           prompt_question_hard_preprocessed_stemmed  \\\n",
       "0      summar element ideal tragedi describ aristotl   \n",
       "1  complet sentenc summar structur ancient egypti...   \n",
       "2   summar wave develop short period time experi end   \n",
       "3  summar way factori cover spoil meat cite evid ...   \n",
       "\n",
       "  prompt_title_hard_preprocessed_stemmed  \\\n",
       "0                                tragedi   \n",
       "1               egyptian social structur   \n",
       "2                                   wave   \n",
       "3                          excerpt jungl   \n",
       "\n",
       "               prompt_text_hard_preprocessed_stemmed  \\\n",
       "0  chapter sequel said proceed consid poet aim av...   \n",
       "1  egyptian societi structur pyramid god ra osiri...   \n",
       "2  background wave experi took place cubberley hi...   \n",
       "3  member trim beef canneri work sausag factori f...   \n",
       "\n",
       "                   prompt_question_soft_preprocessed  \\\n",
       "0  Summarize at least 3 elements of an ideal trag...   \n",
       "1  In complete sentences, summarize the structure...   \n",
       "2  Summarize how the Third Wave developed over su...   \n",
       "3  Summarize the various ways the factory would u...   \n",
       "\n",
       "  prompt_title_soft_preprocessed  \\\n",
       "0                     On Tragedy   \n",
       "1      Egyptian Social Structure   \n",
       "2                 The Third Wave   \n",
       "3        Excerpt from The Jungle   \n",
       "\n",
       "                       prompt_text_soft_preprocessed  \n",
       "0  Chapter 13 . As the sequel to what has already...  \n",
       "1  Egyptian society was structured like a pyramid...  \n",
       "2  Background . The Third Wave experiment took pl...  \n",
       "3  With one member trimming beef in a cannery, an...  "
      ]
     },
     "execution_count": 11,
     "metadata": {},
     "output_type": "execute_result"
    }
   ],
   "source": [
    "prompts_train_df['prompt_question_hard_preprocessed_stemmed'] = prompts_train_df['prompt_question'].apply(preprocess_hard_stemming)\n",
    "prompts_train_df['prompt_title_hard_preprocessed_stemmed'] = prompts_train_df['prompt_title'].apply(preprocess_hard_stemming)\n",
    "prompts_train_df['prompt_text_hard_preprocessed_stemmed'] = prompts_train_df['prompt_text'].apply(preprocess_hard_stemming)\n",
    "\n",
    "prompts_train_df['prompt_question_soft_preprocessed'] = prompts_train_df['prompt_question'].apply(process_soft)\n",
    "prompts_train_df['prompt_title_soft_preprocessed'] = prompts_train_df['prompt_title'].apply(process_soft)\n",
    "prompts_train_df['prompt_text_soft_preprocessed'] = prompts_train_df['prompt_text'].apply(process_soft)\n",
    "\n",
    "prompts_train_df"
   ]
  },
  {
   "cell_type": "code",
   "execution_count": 15,
   "id": "0c265c2a-6620-4712-81c4-ed94074b4a51",
   "metadata": {},
   "outputs": [
    {
     "data": {
      "text/html": [
       "<div>\n",
       "<style scoped>\n",
       "    .dataframe tbody tr th:only-of-type {\n",
       "        vertical-align: middle;\n",
       "    }\n",
       "\n",
       "    .dataframe tbody tr th {\n",
       "        vertical-align: top;\n",
       "    }\n",
       "\n",
       "    .dataframe thead th {\n",
       "        text-align: right;\n",
       "    }\n",
       "</style>\n",
       "<table border=\"1\" class=\"dataframe\">\n",
       "  <thead>\n",
       "    <tr style=\"text-align: right;\">\n",
       "      <th></th>\n",
       "      <th>student_id</th>\n",
       "      <th>prompt_id</th>\n",
       "      <th>text</th>\n",
       "      <th>content</th>\n",
       "      <th>wording</th>\n",
       "      <th>text_hard_preprocessed_stemmed</th>\n",
       "      <th>text_hard_preprocessed_stemmed_word_cnt</th>\n",
       "      <th>text_hard_preprocessed_stemmed_length</th>\n",
       "      <th>text_soft_preprocessed</th>\n",
       "    </tr>\n",
       "  </thead>\n",
       "  <tbody>\n",
       "    <tr>\n",
       "      <th>0</th>\n",
       "      <td>000e8c3c7ddb</td>\n",
       "      <td>814d6b</td>\n",
       "      <td>The third wave was an experimentto see how peo...</td>\n",
       "      <td>0.205683</td>\n",
       "      <td>0.380538</td>\n",
       "      <td>wave experimentto react new leader govern gain...</td>\n",
       "      <td>28</td>\n",
       "      <td>173</td>\n",
       "      <td>The third wave was an experimentto see how peo...</td>\n",
       "    </tr>\n",
       "    <tr>\n",
       "      <th>1</th>\n",
       "      <td>0020ae56ffbf</td>\n",
       "      <td>ebad26</td>\n",
       "      <td>They would rub it up with soda to make the sme...</td>\n",
       "      <td>-0.548304</td>\n",
       "      <td>0.506755</td>\n",
       "      <td>rub soda smell away wouldnt smell meat toss fl...</td>\n",
       "      <td>14</td>\n",
       "      <td>80</td>\n",
       "      <td>They would rub it up with soda to make the sme...</td>\n",
       "    </tr>\n",
       "    <tr>\n",
       "      <th>2</th>\n",
       "      <td>004e978e639e</td>\n",
       "      <td>3b9047</td>\n",
       "      <td>In Egypt, there were many occupations and soci...</td>\n",
       "      <td>3.128928</td>\n",
       "      <td>4.231226</td>\n",
       "      <td>egypt occup social class involv day day live i...</td>\n",
       "      <td>98</td>\n",
       "      <td>623</td>\n",
       "      <td>In Egypt, there were many occupations and soci...</td>\n",
       "    </tr>\n",
       "    <tr>\n",
       "      <th>3</th>\n",
       "      <td>005ab0199905</td>\n",
       "      <td>3b9047</td>\n",
       "      <td>The highest class was Pharaohs these people we...</td>\n",
       "      <td>-0.210614</td>\n",
       "      <td>-0.471415</td>\n",
       "      <td>highest class pharaoh god nd highest class gon...</td>\n",
       "      <td>14</td>\n",
       "      <td>89</td>\n",
       "      <td>The highest class was Pharaohs these people we...</td>\n",
       "    </tr>\n",
       "    <tr>\n",
       "      <th>4</th>\n",
       "      <td>0070c9e7af47</td>\n",
       "      <td>814d6b</td>\n",
       "      <td>The Third Wave developed  rapidly because the ...</td>\n",
       "      <td>3.272894</td>\n",
       "      <td>3.219757</td>\n",
       "      <td>wave develop rapidli student genuinli believ b...</td>\n",
       "      <td>88</td>\n",
       "      <td>586</td>\n",
       "      <td>The Third Wave developed rapidly because the s...</td>\n",
       "    </tr>\n",
       "    <tr>\n",
       "      <th>...</th>\n",
       "      <td>...</td>\n",
       "      <td>...</td>\n",
       "      <td>...</td>\n",
       "      <td>...</td>\n",
       "      <td>...</td>\n",
       "      <td>...</td>\n",
       "      <td>...</td>\n",
       "      <td>...</td>\n",
       "      <td>...</td>\n",
       "    </tr>\n",
       "    <tr>\n",
       "      <th>7160</th>\n",
       "      <td>ff7c7e70df07</td>\n",
       "      <td>ebad26</td>\n",
       "      <td>They used all sorts of chemical concoctions to...</td>\n",
       "      <td>0.205683</td>\n",
       "      <td>0.380538</td>\n",
       "      <td>sort chemic concoct meat fine shown quot mirac...</td>\n",
       "      <td>25</td>\n",
       "      <td>149</td>\n",
       "      <td>They used all sorts of chemical concoctions to...</td>\n",
       "    </tr>\n",
       "    <tr>\n",
       "      <th>7161</th>\n",
       "      <td>ffc34d056498</td>\n",
       "      <td>3b9047</td>\n",
       "      <td>The lowest classes are slaves and farmers slav...</td>\n",
       "      <td>-0.308448</td>\n",
       "      <td>0.048171</td>\n",
       "      <td>lowest class slave farmer slave taken war farm...</td>\n",
       "      <td>23</td>\n",
       "      <td>153</td>\n",
       "      <td>The lowest classes are slaves and farmers slav...</td>\n",
       "    </tr>\n",
       "    <tr>\n",
       "      <th>7162</th>\n",
       "      <td>ffd1576d2e1b</td>\n",
       "      <td>3b9047</td>\n",
       "      <td>they sorta made people start workin...</td>\n",
       "      <td>-1.408180</td>\n",
       "      <td>-0.493603</td>\n",
       "      <td>sorta start work structour they barley got pai...</td>\n",
       "      <td>25</td>\n",
       "      <td>149</td>\n",
       "      <td>they sorta made people start working on the st...</td>\n",
       "    </tr>\n",
       "    <tr>\n",
       "      <th>7163</th>\n",
       "      <td>ffe4a98093b2</td>\n",
       "      <td>39c16e</td>\n",
       "      <td>An ideal tragety has three elements that make ...</td>\n",
       "      <td>-0.393310</td>\n",
       "      <td>0.627128</td>\n",
       "      <td>ideal trageti element ideal start great traged...</td>\n",
       "      <td>26</td>\n",
       "      <td>155</td>\n",
       "      <td>An ideal tragety has three elements that make ...</td>\n",
       "    </tr>\n",
       "    <tr>\n",
       "      <th>7164</th>\n",
       "      <td>fffbccfd8a08</td>\n",
       "      <td>ebad26</td>\n",
       "      <td>The meat would smell sour but the would \"rub i...</td>\n",
       "      <td>1.771596</td>\n",
       "      <td>0.547742</td>\n",
       "      <td>meat smell sour rub soda away smell sell rot m...</td>\n",
       "      <td>42</td>\n",
       "      <td>235</td>\n",
       "      <td>The meat would smell sour but the would \"rub i...</td>\n",
       "    </tr>\n",
       "  </tbody>\n",
       "</table>\n",
       "<p>7165 rows × 9 columns</p>\n",
       "</div>"
      ],
      "text/plain": [
       "        student_id prompt_id  \\\n",
       "0     000e8c3c7ddb    814d6b   \n",
       "1     0020ae56ffbf    ebad26   \n",
       "2     004e978e639e    3b9047   \n",
       "3     005ab0199905    3b9047   \n",
       "4     0070c9e7af47    814d6b   \n",
       "...            ...       ...   \n",
       "7160  ff7c7e70df07    ebad26   \n",
       "7161  ffc34d056498    3b9047   \n",
       "7162  ffd1576d2e1b    3b9047   \n",
       "7163  ffe4a98093b2    39c16e   \n",
       "7164  fffbccfd8a08    ebad26   \n",
       "\n",
       "                                                   text   content   wording  \\\n",
       "0     The third wave was an experimentto see how peo...  0.205683  0.380538   \n",
       "1     They would rub it up with soda to make the sme... -0.548304  0.506755   \n",
       "2     In Egypt, there were many occupations and soci...  3.128928  4.231226   \n",
       "3     The highest class was Pharaohs these people we... -0.210614 -0.471415   \n",
       "4     The Third Wave developed  rapidly because the ...  3.272894  3.219757   \n",
       "...                                                 ...       ...       ...   \n",
       "7160  They used all sorts of chemical concoctions to...  0.205683  0.380538   \n",
       "7161  The lowest classes are slaves and farmers slav... -0.308448  0.048171   \n",
       "7162             they sorta made people start workin... -1.408180 -0.493603   \n",
       "7163  An ideal tragety has three elements that make ... -0.393310  0.627128   \n",
       "7164  The meat would smell sour but the would \"rub i...  1.771596  0.547742   \n",
       "\n",
       "                         text_hard_preprocessed_stemmed  \\\n",
       "0     wave experimentto react new leader govern gain...   \n",
       "1     rub soda smell away wouldnt smell meat toss fl...   \n",
       "2     egypt occup social class involv day day live i...   \n",
       "3     highest class pharaoh god nd highest class gon...   \n",
       "4     wave develop rapidli student genuinli believ b...   \n",
       "...                                                 ...   \n",
       "7160  sort chemic concoct meat fine shown quot mirac...   \n",
       "7161  lowest class slave farmer slave taken war farm...   \n",
       "7162  sorta start work structour they barley got pai...   \n",
       "7163  ideal trageti element ideal start great traged...   \n",
       "7164  meat smell sour rub soda away smell sell rot m...   \n",
       "\n",
       "      text_hard_preprocessed_stemmed_word_cnt  \\\n",
       "0                                          28   \n",
       "1                                          14   \n",
       "2                                          98   \n",
       "3                                          14   \n",
       "4                                          88   \n",
       "...                                       ...   \n",
       "7160                                       25   \n",
       "7161                                       23   \n",
       "7162                                       25   \n",
       "7163                                       26   \n",
       "7164                                       42   \n",
       "\n",
       "      text_hard_preprocessed_stemmed_length  \\\n",
       "0                                       173   \n",
       "1                                        80   \n",
       "2                                       623   \n",
       "3                                        89   \n",
       "4                                       586   \n",
       "...                                     ...   \n",
       "7160                                    149   \n",
       "7161                                    153   \n",
       "7162                                    149   \n",
       "7163                                    155   \n",
       "7164                                    235   \n",
       "\n",
       "                                 text_soft_preprocessed  \n",
       "0     The third wave was an experimentto see how peo...  \n",
       "1     They would rub it up with soda to make the sme...  \n",
       "2     In Egypt, there were many occupations and soci...  \n",
       "3     The highest class was Pharaohs these people we...  \n",
       "4     The Third Wave developed rapidly because the s...  \n",
       "...                                                 ...  \n",
       "7160  They used all sorts of chemical concoctions to...  \n",
       "7161  The lowest classes are slaves and farmers slav...  \n",
       "7162  they sorta made people start working on the st...  \n",
       "7163  An ideal tragety has three elements that make ...  \n",
       "7164  The meat would smell sour but the would \"rub i...  \n",
       "\n",
       "[7165 rows x 9 columns]"
      ]
     },
     "execution_count": 15,
     "metadata": {},
     "output_type": "execute_result"
    }
   ],
   "source": [
    "summaries_train_df['text_hard_preprocessed_stemmed'] = summaries_train_df['text'].apply(preprocess_hard_stemming)\n",
    "summaries_train_df['text_soft_preprocessed'] = summaries_train_df['text'].apply(process_soft)\n",
    "\n",
    "summaries_test_df['text_hard_preprocessed_stemmed'] = summaries_test_df['text'].apply(preprocess_hard_stemming)\n",
    "summaries_test_df['text_soft_preprocessed'] = summaries_test_df['text'].apply(process_soft)\n",
    "\n",
    "summaries_train_df"
   ]
  },
  {
   "cell_type": "code",
   "execution_count": 13,
   "id": "0af7a4a8-0586-4d04-98a9-8df93bf5ac75",
   "metadata": {},
   "outputs": [],
   "source": [
    "# Count the stop words in the text.\n",
    "def count_stopwords(text: str) -> int:\n",
    "    words = text.split()\n",
    "    stopwords_count = sum(1 for word in words if word.lower() in stop_words)\n",
    "    return stopwords_count\n",
    "\n",
    "# Count the punctuations in the text.\n",
    "# punctuation_set -> !\"#$%&'()*+, -./:;<=>?@[\\]^_`{|}~\n",
    "def count_punctuation(text: str) -> int:\n",
    "    punctuation_set = set(string.punctuation)\n",
    "    punctuation_count = sum(1 for char in text if char in punctuation_set)\n",
    "    return punctuation_count\n",
    "\n",
    "# Count the digits in the text.\n",
    "def count_numbers(text: str) -> int:\n",
    "    numbers = re.findall(r'\\d+', text)\n",
    "    numbers_count = len(numbers)\n",
    "    return numbers_count\n",
    "\n",
    "# This function applies all the above preprocessing functions on a text feature.\n",
    "def streamlit_feature_engineer(dataframe: pd.DataFrame, feature: str = 'text', preprocessed_hard: bool = False) -> pd.DataFrame:\n",
    "    dataframe[f'{feature}_word_cnt'] = dataframe[feature].apply(lambda x: len(x.split(' ')))\n",
    "    dataframe[f'{feature}_length'] = dataframe[feature].apply(lambda x: len(x))\n",
    "    if not preprocessed_hard:\n",
    "        dataframe[f'{feature}_stopword_cnt'] = dataframe[feature].apply(lambda x: count_stopwords(x))\n",
    "        dataframe[f'{feature}_punct_cnt'] = dataframe[feature].apply(lambda x: count_punctuation(x))\n",
    "        dataframe[f'{feature}_number_cnt'] = dataframe[feature].apply(lambda x: count_numbers(x))\n",
    "    return dataframe"
   ]
  },
  {
   "cell_type": "code",
   "execution_count": 18,
   "id": "5614e93d-71e0-4524-a25d-699ba4e5b782",
   "metadata": {},
   "outputs": [],
   "source": [
    "summaries_train_df = streamlit_feature_engineer(summaries_train_df, feature = \"text_hard_preprocessed_stemmed\", preprocessed_hard=True)\n",
    "summaries_train_df = streamlit_feature_engineer(summaries_train_df, feature = \"text_soft_preprocessed\")\n",
    "\n",
    "summaries_test_df = streamlit_feature_engineer(summaries_test_df, feature = \"text_hard_preprocessed_stemmed\", preprocessed_hard=True)\n",
    "summaries_test_df = streamlit_feature_engineer(summaries_test_df, feature = \"text_soft_preprocessed\")"
   ]
  },
  {
   "cell_type": "code",
   "execution_count": 19,
   "id": "1d72fab8-5ab0-432c-8894-b879db0b74a5",
   "metadata": {},
   "outputs": [
    {
     "data": {
      "text/html": [
       "<div>\n",
       "<style scoped>\n",
       "    .dataframe tbody tr th:only-of-type {\n",
       "        vertical-align: middle;\n",
       "    }\n",
       "\n",
       "    .dataframe tbody tr th {\n",
       "        vertical-align: top;\n",
       "    }\n",
       "\n",
       "    .dataframe thead th {\n",
       "        text-align: right;\n",
       "    }\n",
       "</style>\n",
       "<table border=\"1\" class=\"dataframe\">\n",
       "  <thead>\n",
       "    <tr style=\"text-align: right;\">\n",
       "      <th></th>\n",
       "      <th>student_id</th>\n",
       "      <th>prompt_id</th>\n",
       "      <th>text</th>\n",
       "      <th>content</th>\n",
       "      <th>wording</th>\n",
       "      <th>text_hard_preprocessed_stemmed</th>\n",
       "      <th>text_hard_preprocessed_stemmed_word_cnt</th>\n",
       "      <th>text_hard_preprocessed_stemmed_length</th>\n",
       "      <th>text_soft_preprocessed</th>\n",
       "      <th>text_soft_preprocessed_word_cnt</th>\n",
       "      <th>text_soft_preprocessed_length</th>\n",
       "      <th>text_soft_preprocessed_stopword_cnt</th>\n",
       "      <th>text_soft_preprocessed_punct_cnt</th>\n",
       "      <th>text_soft_preprocessed_number_cnt</th>\n",
       "    </tr>\n",
       "  </thead>\n",
       "  <tbody>\n",
       "    <tr>\n",
       "      <th>0</th>\n",
       "      <td>000e8c3c7ddb</td>\n",
       "      <td>814d6b</td>\n",
       "      <td>The third wave was an experimentto see how peo...</td>\n",
       "      <td>0.205683</td>\n",
       "      <td>0.380538</td>\n",
       "      <td>wave experimentto react new leader govern gain...</td>\n",
       "      <td>28</td>\n",
       "      <td>173</td>\n",
       "      <td>The third wave was an experimentto see how peo...</td>\n",
       "      <td>61</td>\n",
       "      <td>346</td>\n",
       "      <td>28</td>\n",
       "      <td>3</td>\n",
       "      <td>0</td>\n",
       "    </tr>\n",
       "    <tr>\n",
       "      <th>1</th>\n",
       "      <td>0020ae56ffbf</td>\n",
       "      <td>ebad26</td>\n",
       "      <td>They would rub it up with soda to make the sme...</td>\n",
       "      <td>-0.548304</td>\n",
       "      <td>0.506755</td>\n",
       "      <td>rub soda smell away wouldnt smell meat toss fl...</td>\n",
       "      <td>14</td>\n",
       "      <td>80</td>\n",
       "      <td>They would rub it up with soda to make the sme...</td>\n",
       "      <td>52</td>\n",
       "      <td>244</td>\n",
       "      <td>34</td>\n",
       "      <td>2</td>\n",
       "      <td>0</td>\n",
       "    </tr>\n",
       "    <tr>\n",
       "      <th>2</th>\n",
       "      <td>004e978e639e</td>\n",
       "      <td>3b9047</td>\n",
       "      <td>In Egypt, there were many occupations and soci...</td>\n",
       "      <td>3.128928</td>\n",
       "      <td>4.231226</td>\n",
       "      <td>egypt occup social class involv day day live i...</td>\n",
       "      <td>98</td>\n",
       "      <td>623</td>\n",
       "      <td>In Egypt, there were many occupations and soci...</td>\n",
       "      <td>235</td>\n",
       "      <td>1370</td>\n",
       "      <td>116</td>\n",
       "      <td>38</td>\n",
       "      <td>0</td>\n",
       "    </tr>\n",
       "    <tr>\n",
       "      <th>3</th>\n",
       "      <td>005ab0199905</td>\n",
       "      <td>3b9047</td>\n",
       "      <td>The highest class was Pharaohs these people we...</td>\n",
       "      <td>-0.210614</td>\n",
       "      <td>-0.471415</td>\n",
       "      <td>highest class pharaoh god nd highest class gon...</td>\n",
       "      <td>14</td>\n",
       "      <td>89</td>\n",
       "      <td>The highest class was Pharaohs these people we...</td>\n",
       "      <td>25</td>\n",
       "      <td>157</td>\n",
       "      <td>12</td>\n",
       "      <td>6</td>\n",
       "      <td>2</td>\n",
       "    </tr>\n",
       "    <tr>\n",
       "      <th>4</th>\n",
       "      <td>0070c9e7af47</td>\n",
       "      <td>814d6b</td>\n",
       "      <td>The Third Wave developed  rapidly because the ...</td>\n",
       "      <td>3.272894</td>\n",
       "      <td>3.219757</td>\n",
       "      <td>wave develop rapidli student genuinli believ b...</td>\n",
       "      <td>88</td>\n",
       "      <td>586</td>\n",
       "      <td>The Third Wave developed rapidly because the s...</td>\n",
       "      <td>203</td>\n",
       "      <td>1222</td>\n",
       "      <td>98</td>\n",
       "      <td>30</td>\n",
       "      <td>3</td>\n",
       "    </tr>\n",
       "  </tbody>\n",
       "</table>\n",
       "</div>"
      ],
      "text/plain": [
       "     student_id prompt_id                                               text  \\\n",
       "0  000e8c3c7ddb    814d6b  The third wave was an experimentto see how peo...   \n",
       "1  0020ae56ffbf    ebad26  They would rub it up with soda to make the sme...   \n",
       "2  004e978e639e    3b9047  In Egypt, there were many occupations and soci...   \n",
       "3  005ab0199905    3b9047  The highest class was Pharaohs these people we...   \n",
       "4  0070c9e7af47    814d6b  The Third Wave developed  rapidly because the ...   \n",
       "\n",
       "    content   wording                     text_hard_preprocessed_stemmed  \\\n",
       "0  0.205683  0.380538  wave experimentto react new leader govern gain...   \n",
       "1 -0.548304  0.506755  rub soda smell away wouldnt smell meat toss fl...   \n",
       "2  3.128928  4.231226  egypt occup social class involv day day live i...   \n",
       "3 -0.210614 -0.471415  highest class pharaoh god nd highest class gon...   \n",
       "4  3.272894  3.219757  wave develop rapidli student genuinli believ b...   \n",
       "\n",
       "   text_hard_preprocessed_stemmed_word_cnt  \\\n",
       "0                                       28   \n",
       "1                                       14   \n",
       "2                                       98   \n",
       "3                                       14   \n",
       "4                                       88   \n",
       "\n",
       "   text_hard_preprocessed_stemmed_length  \\\n",
       "0                                    173   \n",
       "1                                     80   \n",
       "2                                    623   \n",
       "3                                     89   \n",
       "4                                    586   \n",
       "\n",
       "                              text_soft_preprocessed  \\\n",
       "0  The third wave was an experimentto see how peo...   \n",
       "1  They would rub it up with soda to make the sme...   \n",
       "2  In Egypt, there were many occupations and soci...   \n",
       "3  The highest class was Pharaohs these people we...   \n",
       "4  The Third Wave developed rapidly because the s...   \n",
       "\n",
       "   text_soft_preprocessed_word_cnt  text_soft_preprocessed_length  \\\n",
       "0                               61                            346   \n",
       "1                               52                            244   \n",
       "2                              235                           1370   \n",
       "3                               25                            157   \n",
       "4                              203                           1222   \n",
       "\n",
       "   text_soft_preprocessed_stopword_cnt  text_soft_preprocessed_punct_cnt  \\\n",
       "0                                   28                                 3   \n",
       "1                                   34                                 2   \n",
       "2                                  116                                38   \n",
       "3                                   12                                 6   \n",
       "4                                   98                                30   \n",
       "\n",
       "   text_soft_preprocessed_number_cnt  \n",
       "0                                  0  \n",
       "1                                  0  \n",
       "2                                  0  \n",
       "3                                  2  \n",
       "4                                  3  "
      ]
     },
     "execution_count": 19,
     "metadata": {},
     "output_type": "execute_result"
    }
   ],
   "source": [
    "summaries_train_df.head()"
   ]
  },
  {
   "cell_type": "code",
   "execution_count": 20,
   "id": "73874ee3-4944-4c1b-9146-37c83bebd6f2",
   "metadata": {},
   "outputs": [
    {
     "data": {
      "text/html": [
       "<div>\n",
       "<style scoped>\n",
       "    .dataframe tbody tr th:only-of-type {\n",
       "        vertical-align: middle;\n",
       "    }\n",
       "\n",
       "    .dataframe tbody tr th {\n",
       "        vertical-align: top;\n",
       "    }\n",
       "\n",
       "    .dataframe thead th {\n",
       "        text-align: right;\n",
       "    }\n",
       "</style>\n",
       "<table border=\"1\" class=\"dataframe\">\n",
       "  <thead>\n",
       "    <tr style=\"text-align: right;\">\n",
       "      <th></th>\n",
       "      <th>student_id</th>\n",
       "      <th>prompt_id</th>\n",
       "      <th>text</th>\n",
       "      <th>text_hard_preprocessed_stemmed</th>\n",
       "      <th>text_soft_preprocessed</th>\n",
       "      <th>text_hard_preprocessed_stemmed_word_cnt</th>\n",
       "      <th>text_hard_preprocessed_stemmed_length</th>\n",
       "      <th>text_soft_preprocessed_word_cnt</th>\n",
       "      <th>text_soft_preprocessed_length</th>\n",
       "      <th>text_soft_preprocessed_stopword_cnt</th>\n",
       "      <th>text_soft_preprocessed_punct_cnt</th>\n",
       "      <th>text_soft_preprocessed_number_cnt</th>\n",
       "      <th>prompt_i</th>\n",
       "    </tr>\n",
       "  </thead>\n",
       "  <tbody>\n",
       "    <tr>\n",
       "      <th>0</th>\n",
       "      <td>000000ffffff</td>\n",
       "      <td>abc123</td>\n",
       "      <td>Example text 1</td>\n",
       "      <td>exampl text</td>\n",
       "      <td>Example text 1</td>\n",
       "      <td>2</td>\n",
       "      <td>11</td>\n",
       "      <td>3</td>\n",
       "      <td>14</td>\n",
       "      <td>0</td>\n",
       "      <td>0</td>\n",
       "      <td>1</td>\n",
       "      <td>0</td>\n",
       "    </tr>\n",
       "    <tr>\n",
       "      <th>1</th>\n",
       "      <td>111111eeeeee</td>\n",
       "      <td>def789</td>\n",
       "      <td>Example text 2</td>\n",
       "      <td>exampl text</td>\n",
       "      <td>Example text 2</td>\n",
       "      <td>2</td>\n",
       "      <td>11</td>\n",
       "      <td>3</td>\n",
       "      <td>14</td>\n",
       "      <td>0</td>\n",
       "      <td>0</td>\n",
       "      <td>1</td>\n",
       "      <td>1</td>\n",
       "    </tr>\n",
       "    <tr>\n",
       "      <th>2</th>\n",
       "      <td>222222cccccc</td>\n",
       "      <td>abc123</td>\n",
       "      <td>Example text 3</td>\n",
       "      <td>exampl text</td>\n",
       "      <td>Example text 3</td>\n",
       "      <td>2</td>\n",
       "      <td>11</td>\n",
       "      <td>3</td>\n",
       "      <td>14</td>\n",
       "      <td>0</td>\n",
       "      <td>0</td>\n",
       "      <td>1</td>\n",
       "      <td>0</td>\n",
       "    </tr>\n",
       "    <tr>\n",
       "      <th>3</th>\n",
       "      <td>333333dddddd</td>\n",
       "      <td>def789</td>\n",
       "      <td>Example text 4</td>\n",
       "      <td>exampl text</td>\n",
       "      <td>Example text 4</td>\n",
       "      <td>2</td>\n",
       "      <td>11</td>\n",
       "      <td>3</td>\n",
       "      <td>14</td>\n",
       "      <td>0</td>\n",
       "      <td>0</td>\n",
       "      <td>1</td>\n",
       "      <td>1</td>\n",
       "    </tr>\n",
       "  </tbody>\n",
       "</table>\n",
       "</div>"
      ],
      "text/plain": [
       "     student_id prompt_id            text text_hard_preprocessed_stemmed  \\\n",
       "0  000000ffffff    abc123  Example text 1                    exampl text   \n",
       "1  111111eeeeee    def789  Example text 2                    exampl text   \n",
       "2  222222cccccc    abc123  Example text 3                    exampl text   \n",
       "3  333333dddddd    def789  Example text 4                    exampl text   \n",
       "\n",
       "  text_soft_preprocessed  text_hard_preprocessed_stemmed_word_cnt  \\\n",
       "0         Example text 1                                        2   \n",
       "1         Example text 2                                        2   \n",
       "2         Example text 3                                        2   \n",
       "3         Example text 4                                        2   \n",
       "\n",
       "   text_hard_preprocessed_stemmed_length  text_soft_preprocessed_word_cnt  \\\n",
       "0                                     11                                3   \n",
       "1                                     11                                3   \n",
       "2                                     11                                3   \n",
       "3                                     11                                3   \n",
       "\n",
       "   text_soft_preprocessed_length  text_soft_preprocessed_stopword_cnt  \\\n",
       "0                             14                                    0   \n",
       "1                             14                                    0   \n",
       "2                             14                                    0   \n",
       "3                             14                                    0   \n",
       "\n",
       "   text_soft_preprocessed_punct_cnt  text_soft_preprocessed_number_cnt  \\\n",
       "0                                 0                                  1   \n",
       "1                                 0                                  1   \n",
       "2                                 0                                  1   \n",
       "3                                 0                                  1   \n",
       "\n",
       "   prompt_i  \n",
       "0         0  \n",
       "1         1  \n",
       "2         0  \n",
       "3         1  "
      ]
     },
     "execution_count": 20,
     "metadata": {},
     "output_type": "execute_result"
    }
   ],
   "source": [
    "prompts_ids_to_is = {prompt_id: i for i, prompt_id in zip(prompts_train_df.index, prompts_train_df['prompt_id'])}\n",
    "summaries_train_df['prompt_i'] = summaries_train_df['prompt_id'].apply(lambda prompt_id: prompts_ids_to_is[prompt_id])\n",
    "prompts_ids_to_is_test = {prompt_id: i for i, prompt_id in zip(prompts_test_df.index, prompts_test_df['prompt_id'])}\n",
    "summaries_test_df['prompt_i'] = summaries_test_df['prompt_id'].apply(lambda prompt_id: prompts_ids_to_is_test[prompt_id])\n",
    "summaries_test_df.head()"
   ]
  },
  {
   "cell_type": "code",
   "execution_count": 21,
   "id": "47246eab-d0c9-42b1-946a-8c2443658d4c",
   "metadata": {},
   "outputs": [],
   "source": [
    "# Wrapper class to match sklearn's interface\n",
    "class SentenceTransformerVectorizer:\n",
    "    def __init__(self, model='all-MiniLM-L6-v2', device=\"cuda\"):\n",
    "        self.sent_tr = SentenceTransformer(model,device=device)\n",
    "\n",
    "    def fit(self, texts):\n",
    "        return self\n",
    "    \n",
    "    def transform(self, texts):\n",
    "        encoded_texts = self.sent_tr.encode(texts.to_numpy())\n",
    "        return sparse.csr_matrix(encoded_texts)\n"
   ]
  },
  {
   "cell_type": "code",
   "execution_count": 37,
   "id": "db12de9a-4986-4221-91d3-74821731d624",
   "metadata": {},
   "outputs": [],
   "source": [
    "content_feature_variations = {\n",
    "    'features': ['text_soft_preprocessed', 'text_soft_preprocessed_word_cnt', 'text_soft_preprocessed_length', 'text_soft_preprocessed_stopword_cnt', 'text_soft_preprocessed_punct_cnt', 'text_soft_preprocessed_number_cnt'],\n",
    "    'features_to_scale': ['text_soft_preprocessed_word_cnt', 'text_soft_preprocessed_length', 'text_soft_preprocessed_stopword_cnt', 'text_soft_preprocessed_punct_cnt', 'text_soft_preprocessed_number_cnt'],\n",
    "    'vectorizer': SentenceTransformerVectorizer(),\n",
    "    'vectorizer_feature': \"text_soft_preprocessed\",\n",
    "    'prompt_processed_features': {\n",
    "          'prompt_question': 'prompt_question_soft_preprocessed',\n",
    "          'prompt_title': 'prompt_title_soft_preprocessed',\n",
    "          'prompt_text': 'prompt_text_soft_preprocessed'\n",
    "      },\n",
    "}\n",
    "\n",
    "wording_feature_variations = {\n",
    "    'features': ['text_hard_preprocessed_stemmed', 'text_hard_preprocessed_stemmed_word_cnt', 'text_hard_preprocessed_stemmed_length', 'text_soft_preprocessed_stopword_cnt', 'text_soft_preprocessed_punct_cnt', 'text_soft_preprocessed_number_cnt'],\n",
    "    'features_to_scale': ['text_hard_preprocessed_stemmed_word_cnt', 'text_hard_preprocessed_stemmed_length', 'text_soft_preprocessed_stopword_cnt', 'text_soft_preprocessed_punct_cnt', 'text_soft_preprocessed_number_cnt'],\n",
    "    'vectorizer': CountVectorizer(\n",
    "        analyzer='word',\n",
    "        stop_words='english',\n",
    "        ngram_range=(1, 3),\n",
    "        lowercase=True,\n",
    "        min_df=1,\n",
    "        max_features=30000\n",
    "    ),\n",
    "    'vectorizer_feature': \"text_hard_preprocessed_stemmed\",\n",
    "    'prompt_processed_features': {\n",
    "          'prompt_question': 'prompt_question_hard_preprocessed_stemmed',\n",
    "          'prompt_title': 'prompt_title_hard_preprocessed_stemmed',\n",
    "          'prompt_text': 'prompt_text_hard_preprocessed_stemmed'\n",
    "      },\n",
    "}"
   ]
  },
  {
   "cell_type": "markdown",
   "id": "130f6f7a-83af-47cf-9a4e-87c02c9372d6",
   "metadata": {},
   "source": [
    "### Regular K-fold"
   ]
  },
  {
   "cell_type": "code",
   "execution_count": 69,
   "id": "7c0d63a6-1017-46f6-8881-6d8862f0c9b8",
   "metadata": {},
   "outputs": [],
   "source": [
    "def random_fold_evaluation(\n",
    "     model,\n",
    "     features: list,\n",
    "      features_to_scale: list,\n",
    "      target : str=\"wording\", \n",
    "      vectorizer=TfidfVectorizer(\n",
    "            analyzer='word',\n",
    "            stop_words='english',\n",
    "            ngram_range=(1, 3),\n",
    "            lowercase=True,\n",
    "            min_df=1,\n",
    "            max_features=30000\n",
    "        ),\n",
    "      vectorizer_feature: str = \"text\",\n",
    "      prompt_processed_features: dict = {\n",
    "          'prompt_question': 'prompt_question',\n",
    "          'prompt_title': 'prompt_title',\n",
    "          'prompt_text': 'prompt_text'\n",
    "      },\n",
    "    folds_count = 5,\n",
    "     verbose=False):\n",
    "    \n",
    "    train_metrics=[]\n",
    "    val_metrics=[]\n",
    "    \n",
    "    kf = KFold(n_splits=folds_count)\n",
    "    \n",
    "    X, y = summaries_train_df.loc[:, [*features, 'prompt_i']], summaries_train_df.loc[:, target]\n",
    "    \n",
    "    for i, (train_index, val_index) in enumerate(kf.split(X, y)):\n",
    "        X_train, y_train = X.loc[train_index], y.loc[train_index]\n",
    "        X_val, y_val = X.loc[val_index], y.loc[val_index]\n",
    "        \n",
    "        vectorizer = vectorizer.fit(X_train[vectorizer_feature])\n",
    "        train_summaries_vectors = vectorizer.transform(X_train[vectorizer_feature])\n",
    "        val_summaries_vectors = vectorizer.transform(X_val[vectorizer_feature])\n",
    "        \n",
    "        prompts_texts_vectors = vectorizer.transform(prompts_train_df[prompt_processed_features['prompt_text']])\n",
    "        prompts_titles_vectors = vectorizer.transform(prompts_train_df[prompt_processed_features['prompt_title']])\n",
    "        prompts_questions_vectors = vectorizer.transform(prompts_train_df[prompt_processed_features['prompt_question']])\n",
    "    \n",
    "        scaler = RobustScaler().fit(X_train[features_to_scale])\n",
    "        X_train[features_to_scale] = scaler.transform(X_train[features_to_scale])\n",
    "        X_val[features_to_scale] = scaler.transform(X_val[features_to_scale])\n",
    "\n",
    "        y_scaler = RobustScaler().fit(y_train.to_numpy().reshape(-1, 1))\n",
    "        y_train_scaled = y_scaler.transform(y_train.to_numpy().reshape(-1, 1))\n",
    "\n",
    "        train_summaries_vectors_dense = train_summaries_vectors.todense()\n",
    "        val_summaries_vectors_dense = val_summaries_vectors.todense()\n",
    "        \n",
    "        cosine_scores_train_prompts_texts = np.zeros((len(y_train), 1))\n",
    "        cosine_scores_train_prompts_titles = np.zeros((len(y_train), 1))\n",
    "        cosine_scores_train_prompts_questions = np.zeros((len(y_train), 1))\n",
    "        \n",
    "        for i, (summary_vector, prompt_text_vector, prompt_title_vector, prompt_question_vector) in enumerate(zip(train_summaries_vectors_dense, prompts_texts_vectors[X_train['prompt_i']].todense(), prompts_titles_vectors[X_train['prompt_i']].todense(), prompts_questions_vectors[X_train['prompt_i']].todense())):\n",
    "            cosine_scores_train_prompts_texts[i, 0] = cosine_similarity(np.asarray(prompt_text_vector), np.asarray(summary_vector))\n",
    "            cosine_scores_train_prompts_titles[i, 0] = cosine_similarity(np.asarray(prompt_title_vector), np.asarray(summary_vector))\n",
    "            cosine_scores_train_prompts_questions[i, 0] = cosine_similarity(np.asarray(prompt_question_vector), np.asarray(summary_vector))\n",
    "\n",
    "        cosine_scores_val_prompts_texts = np.zeros((len(y_val), 1))\n",
    "        cosine_scores_val_prompts_titles = np.zeros((len(y_val), 1))\n",
    "        cosine_scores_val_prompts_questions = np.zeros((len(y_val), 1))\n",
    "        \n",
    "        for i, (summary_vector, prompt_text_vector, prompt_title_vector, prompt_question_vector) in enumerate(zip(val_summaries_vectors_dense, prompts_texts_vectors[X_val['prompt_i']].todense(), prompts_titles_vectors[X_val['prompt_i']].todense(), prompts_questions_vectors[X_val['prompt_i']].todense())):\n",
    "            cosine_scores_val_prompts_texts[i, 0] = cosine_similarity(np.asarray(prompt_text_vector), np.asarray(summary_vector))\n",
    "            cosine_scores_val_prompts_titles[i, 0] = cosine_similarity(np.asarray(prompt_title_vector), np.asarray(summary_vector))\n",
    "            cosine_scores_val_prompts_questions[i, 0] = cosine_similarity(np.asarray(prompt_question_vector), np.asarray(summary_vector))\n",
    "        \n",
    "        X_train = sparse.hstack((\n",
    "            train_summaries_vectors,\n",
    "            sparse.coo_matrix(cosine_scores_train_prompts_texts),\n",
    "            sparse.coo_matrix(cosine_scores_train_prompts_titles),\n",
    "            sparse.coo_matrix(cosine_scores_train_prompts_questions),\n",
    "            sparse.coo_matrix(X_train[features_to_scale].to_numpy()),\n",
    "        ))\n",
    "        X_val = sparse.hstack((\n",
    "            val_summaries_vectors,\n",
    "            sparse.coo_matrix(cosine_scores_val_prompts_texts),\n",
    "            sparse.coo_matrix(cosine_scores_val_prompts_titles),\n",
    "            sparse.coo_matrix(cosine_scores_val_prompts_questions),\n",
    "            sparse.coo_matrix(X_val[features_to_scale].to_numpy()),\n",
    "        ))\n",
    "        \n",
    "        model.fit(X_train, y_train_scaled.ravel())\n",
    "        y_train_pred_scaled = model.predict(X_train)\n",
    "        y_val_pred_scaled = model.predict(X_val)\n",
    "\n",
    "        y_train_pred = y_scaler.inverse_transform(y_train_pred_scaled.reshape(-1, 1))\n",
    "        y_val_pred = y_scaler.inverse_transform(y_val_pred_scaled.reshape(-1, 1))\n",
    "\n",
    "        train_mse = mean_squared_error(y_train_pred, y_train)\n",
    "        val_mse = mean_squared_error(y_val_pred, y_val)\n",
    "        if verbose:\n",
    "            print(f\"Train MSE for {target}: {train_mse_content:.3f}, Val MSE for {target}: {val_mse_content:.3f}\")\n",
    "\n",
    "        train_metrics.append(train_mse)\n",
    "        val_metrics.append(val_mse)\n",
    "                    \n",
    "    return np.mean(train_metrics), np.mean(val_metrics)"
   ]
  },
  {
   "cell_type": "markdown",
   "id": "838eb7f0-2f6c-4946-a889-b193b4e9324f",
   "metadata": {},
   "source": [
    "#### LightGBM"
   ]
  },
  {
   "cell_type": "code",
   "execution_count": 70,
   "id": "2e4ec92c-db2e-41da-a8ab-ed632222aeca",
   "metadata": {},
   "outputs": [],
   "source": [
    "def lgm_objective_fold(trial, feature_variations = wording_feature_variations, target=\"wording\"):\n",
    "    params = {\n",
    "        \"metric\": \"rmse\",\n",
    "        \"boosting_type\": \"gbdt\",\n",
    "        \"lambda_l1\": trial.suggest_float(\"lambda_l1\", 1e-8, 10.0, log=True),\n",
    "        \"lambda_l2\": trial.suggest_float(\"lambda_l2\", 1e-8, 10.0, log=True),\n",
    "        \"learning_rate\": trial.suggest_float(\"learning_rate\", 1e-5, 10.0, log=True),\n",
    "        \"num_leaves\": trial.suggest_int(\"num_leaves\", 2, 256),\n",
    "        \"max_depth\": trial.suggest_int(\"max_depth\", 1, 4),\n",
    "        \"n_estimators\": trial.suggest_int(\"n_estimators\", 10, 200), \n",
    "        \"feature_fraction\": trial.suggest_float(\"feature_fraction\", 0.4, 1.0),\n",
    "        \"bagging_fraction\": trial.suggest_float(\"bagging_fraction\", 0.4, 1.0),\n",
    "        \"bagging_freq\": trial.suggest_int(\"bagging_freq_1\", 1, 20),\n",
    "        \"min_child_samples\": trial.suggest_int(\"min_child_samples\", 5, 100),\n",
    "    }\n",
    "    \n",
    "    model = LGBMRegressor(**params, verbose = -1)\n",
    "    \n",
    "    train_metric, val_metric = random_fold_evaluation(model, **feature_variations, target=target)\n",
    "    \n",
    "    return val_metric"
   ]
  },
  {
   "cell_type": "code",
   "execution_count": 71,
   "id": "b41621fc-59ea-4d48-ba7c-32cdf24ba10d",
   "metadata": {},
   "outputs": [
    {
     "name": "stderr",
     "output_type": "stream",
     "text": [
      "[I 2023-10-16 06:37:24,620] A new study created in memory with name: no-name-c3426ca2-1fdf-48ec-8321-d035265145eb\n",
      "[I 2023-10-16 06:39:29,512] Trial 0 finished with value: 0.45703223665770887 and parameters: {'lambda_l1': 4.725204040339904e-05, 'lambda_l2': 2.434204950434883e-06, 'learning_rate': 0.14247163625267356, 'num_leaves': 78, 'max_depth': 2, 'n_estimators': 61, 'feature_fraction': 0.7584917281426824, 'bagging_fraction': 0.527226760884985, 'bagging_freq_1': 10, 'min_child_samples': 55}. Best is trial 0 with value: 0.45703223665770887.\n",
      "[I 2023-10-16 06:41:39,007] Trial 1 finished with value: 0.621051559972341 and parameters: {'lambda_l1': 3.914719157416683e-05, 'lambda_l2': 4.372603343032518, 'learning_rate': 0.020272489340698988, 'num_leaves': 107, 'max_depth': 3, 'n_estimators': 63, 'feature_fraction': 0.78809011596614, 'bagging_fraction': 0.538735892239326, 'bagging_freq_1': 13, 'min_child_samples': 44}. Best is trial 0 with value: 0.45703223665770887.\n",
      "[I 2023-10-16 06:43:46,549] Trial 2 finished with value: 1.0720753797928577 and parameters: {'lambda_l1': 0.00025247146150750814, 'lambda_l2': 5.977143821054589, 'learning_rate': 1.7687449027366635e-05, 'num_leaves': 212, 'max_depth': 1, 'n_estimators': 157, 'feature_fraction': 0.6587202380524355, 'bagging_fraction': 0.7288752821802031, 'bagging_freq_1': 11, 'min_child_samples': 70}. Best is trial 0 with value: 0.45703223665770887.\n",
      "[I 2023-10-16 06:45:55,719] Trial 3 finished with value: 0.6927042128042279 and parameters: {'lambda_l1': 0.00032692198163278475, 'lambda_l2': 0.05968484329071936, 'learning_rate': 0.013771053622791445, 'num_leaves': 47, 'max_depth': 1, 'n_estimators': 157, 'feature_fraction': 0.5506092815754826, 'bagging_fraction': 0.4928001083450594, 'bagging_freq_1': 9, 'min_child_samples': 40}. Best is trial 0 with value: 0.45703223665770887.\n",
      "[I 2023-10-16 06:48:04,945] Trial 4 finished with value: 1.0705602299077686 and parameters: {'lambda_l1': 1.3421579674641132e-05, 'lambda_l2': 0.01511742315150343, 'learning_rate': 2.638456564873136e-05, 'num_leaves': 125, 'max_depth': 3, 'n_estimators': 137, 'feature_fraction': 0.8446874476460535, 'bagging_fraction': 0.8313636404004979, 'bagging_freq_1': 3, 'min_child_samples': 37}. Best is trial 0 with value: 0.45703223665770887.\n"
     ]
    },
    {
     "name": "stdout",
     "output_type": "stream",
     "text": [
      "Number of finished trials: 5\n",
      "Best trial: {'lambda_l1': 4.725204040339904e-05, 'lambda_l2': 2.434204950434883e-06, 'learning_rate': 0.14247163625267356, 'num_leaves': 78, 'max_depth': 2, 'n_estimators': 61, 'feature_fraction': 0.7584917281426824, 'bagging_fraction': 0.527226760884985, 'bagging_freq_1': 10, 'min_child_samples': 55}\n"
     ]
    }
   ],
   "source": [
    "# Wording\n",
    "lgbm_wording_study_fold = optuna.create_study(direction='minimize')\n",
    "lgbm_wording_study_fold.optimize(lgm_objective_fold, n_trials=5)\n",
    "print('Number of finished trials:', len(lgbm_wording_study_fold.trials))\n",
    "print('Best trial:', lgbm_wording_study_fold.best_trial.params)"
   ]
  },
  {
   "cell_type": "code",
   "execution_count": 72,
   "id": "8193f478-2707-4300-babf-2d719bba37b1",
   "metadata": {},
   "outputs": [
    {
     "name": "stderr",
     "output_type": "stream",
     "text": [
      "[I 2023-10-16 06:48:04,967] A new study created in memory with name: no-name-1c266a1c-6c7b-42ce-be20-1b73bc09d14d\n",
      "[I 2023-10-16 06:50:03,823] Trial 0 finished with value: 0.2579085521171631 and parameters: {'lambda_l1': 4.170870480169853, 'lambda_l2': 0.00010418285866552916, 'learning_rate': 1.4076764194927671, 'num_leaves': 59, 'max_depth': 1, 'n_estimators': 132, 'feature_fraction': 0.9877350079097673, 'bagging_fraction': 0.9834806502735696, 'bagging_freq_1': 8, 'min_child_samples': 31}. Best is trial 0 with value: 0.2579085521171631.\n",
      "[I 2023-10-16 06:52:02,400] Trial 1 finished with value: 1.5456674645615862e+78 and parameters: {'lambda_l1': 4.7697445076426575e-06, 'lambda_l2': 0.006071604605529987, 'learning_rate': 9.485606462446004, 'num_leaves': 232, 'max_depth': 1, 'n_estimators': 139, 'feature_fraction': 0.709507952950596, 'bagging_fraction': 0.7022988954120291, 'bagging_freq_1': 9, 'min_child_samples': 6}. Best is trial 0 with value: 0.2579085521171631.\n",
      "[I 2023-10-16 06:54:09,908] Trial 2 finished with value: 0.9256237041290578 and parameters: {'lambda_l1': 0.039395234928320554, 'lambda_l2': 0.0002014745669411316, 'learning_rate': 0.0006144003317858784, 'num_leaves': 176, 'max_depth': 4, 'n_estimators': 189, 'feature_fraction': 0.5080955493131601, 'bagging_fraction': 0.5786162138667625, 'bagging_freq_1': 13, 'min_child_samples': 29}. Best is trial 0 with value: 0.2579085521171631.\n",
      "[I 2023-10-16 06:56:15,304] Trial 3 finished with value: 0.947673000519508 and parameters: {'lambda_l1': 5.495307265183574, 'lambda_l2': 0.05770996598887485, 'learning_rate': 0.0006049415474772169, 'num_leaves': 39, 'max_depth': 4, 'n_estimators': 179, 'feature_fraction': 0.410011076017254, 'bagging_fraction': 0.6693334274931533, 'bagging_freq_1': 13, 'min_child_samples': 87}. Best is trial 0 with value: 0.2579085521171631.\n",
      "[I 2023-10-16 06:58:19,168] Trial 4 finished with value: 0.31534256379826237 and parameters: {'lambda_l1': 9.279434258138681e-05, 'lambda_l2': 0.8279699412020808, 'learning_rate': 1.5229516117623165, 'num_leaves': 166, 'max_depth': 2, 'n_estimators': 31, 'feature_fraction': 0.6188471760131371, 'bagging_fraction': 0.9508585576132941, 'bagging_freq_1': 15, 'min_child_samples': 53}. Best is trial 0 with value: 0.2579085521171631.\n"
     ]
    },
    {
     "name": "stdout",
     "output_type": "stream",
     "text": [
      "Number of finished trials: 5\n",
      "Best trial: {'lambda_l1': 4.170870480169853, 'lambda_l2': 0.00010418285866552916, 'learning_rate': 1.4076764194927671, 'num_leaves': 59, 'max_depth': 1, 'n_estimators': 132, 'feature_fraction': 0.9877350079097673, 'bagging_fraction': 0.9834806502735696, 'bagging_freq_1': 8, 'min_child_samples': 31}\n"
     ]
    }
   ],
   "source": [
    "# Content\n",
    "lgbm_content_study_fold = optuna.create_study(direction='minimize')\n",
    "lgbm_content_study_fold.optimize(lambda trial: lgm_objective_fold(trial, content_feature_variations, \"content\"), n_trials=5)\n",
    "print('Number of finished trials:', len(lgbm_content_study_fold.trials))\n",
    "print('Best trial:', lgbm_content_study_fold.best_trial.params)"
   ]
  },
  {
   "cell_type": "markdown",
   "id": "eee89c90-52e1-4375-9b41-bd2f6477c0a3",
   "metadata": {},
   "source": [
    "MCRMSE = `0.5919`"
   ]
  },
  {
   "cell_type": "markdown",
   "id": "2c47ec1b-30d4-4a59-92a8-56d8b806bdc6",
   "metadata": {},
   "source": [
    "#### Ridge regression"
   ]
  },
  {
   "cell_type": "code",
   "execution_count": 73,
   "id": "f7ee980d-9f4a-4cd4-a6d1-d66bb3f378e4",
   "metadata": {},
   "outputs": [],
   "source": [
    "def ridge_objective_fold(trial, feature_variations = wording_feature_variations, target=\"wording\"):\n",
    "    params = {\n",
    "        \"alpha\": trial.suggest_float(\"alpha\", 1e-3, 1000.0, log=True),\n",
    "    }\n",
    "    \n",
    "    model = Ridge(**params)\n",
    "    \n",
    "    train_metric, val_metric = random_fold_evaluation(model, **feature_variations, target=target)\n",
    "    \n",
    "    return val_metric"
   ]
  },
  {
   "cell_type": "code",
   "execution_count": 74,
   "id": "3668f5ba-32c7-455c-99c7-de25620f6aac",
   "metadata": {},
   "outputs": [
    {
     "name": "stderr",
     "output_type": "stream",
     "text": [
      "[I 2023-10-16 06:58:19,207] A new study created in memory with name: no-name-b94c22a1-9fd7-4296-be1f-c2c687aea9c7\n",
      "[I 2023-10-16 07:00:22,090] Trial 0 finished with value: 0.47769453624990305 and parameters: {'alpha': 802.5790413692537}. Best is trial 0 with value: 0.47769453624990305.\n",
      "[I 2023-10-16 07:02:24,637] Trial 1 finished with value: 0.5369581511605057 and parameters: {'alpha': 9.701532396679852}. Best is trial 0 with value: 0.47769453624990305.\n",
      "[I 2023-10-16 07:04:26,783] Trial 2 finished with value: 0.4559443587889199 and parameters: {'alpha': 113.50783534235677}. Best is trial 2 with value: 0.4559443587889199.\n",
      "[I 2023-10-16 07:06:29,222] Trial 3 finished with value: 0.47273223304687856 and parameters: {'alpha': 43.91604251452559}. Best is trial 2 with value: 0.4559443587889199.\n",
      "[I 2023-10-16 07:08:58,971] Trial 4 finished with value: 0.8894073439544836 and parameters: {'alpha': 0.0036483327601756384}. Best is trial 2 with value: 0.4559443587889199.\n"
     ]
    },
    {
     "name": "stdout",
     "output_type": "stream",
     "text": [
      "Number of finished trials: 5\n",
      "Best trial: {'alpha': 113.50783534235677}\n"
     ]
    }
   ],
   "source": [
    "# Wording\n",
    "ridge_wording_study_fold = optuna.create_study(direction='minimize')\n",
    "ridge_wording_study_fold.optimize(ridge_objective_fold, n_trials=5)\n",
    "print('Number of finished trials:', len(ridge_wording_study_fold.trials))\n",
    "print('Best trial:', ridge_wording_study_fold.best_trial.params)"
   ]
  },
  {
   "cell_type": "code",
   "execution_count": 75,
   "id": "92ea9afd-066b-415a-ab36-7612fc2bfae6",
   "metadata": {},
   "outputs": [
    {
     "name": "stderr",
     "output_type": "stream",
     "text": [
      "[I 2023-10-16 07:08:58,985] A new study created in memory with name: no-name-80423a56-1e08-44f2-a120-96a38ffe8a7d\n",
      "[I 2023-10-16 07:11:01,533] Trial 0 finished with value: 0.26126233117592484 and parameters: {'alpha': 0.038920574931548726}. Best is trial 0 with value: 0.26126233117592484.\n",
      "[I 2023-10-16 07:13:04,238] Trial 1 finished with value: 0.28148404829045387 and parameters: {'alpha': 5.035630099788604}. Best is trial 0 with value: 0.26126233117592484.\n",
      "[I 2023-10-16 07:15:08,436] Trial 2 finished with value: 0.2622166469230834 and parameters: {'alpha': 0.009534330641864241}. Best is trial 0 with value: 0.26126233117592484.\n",
      "[I 2023-10-16 07:17:13,124] Trial 3 finished with value: 0.262582678071172 and parameters: {'alpha': 0.0029479017180962597}. Best is trial 0 with value: 0.26126233117592484.\n",
      "[I 2023-10-16 07:19:16,484] Trial 4 finished with value: 0.3522431624695699 and parameters: {'alpha': 136.91578958256372}. Best is trial 0 with value: 0.26126233117592484.\n"
     ]
    },
    {
     "name": "stdout",
     "output_type": "stream",
     "text": [
      "Number of finished trials: 5\n",
      "Best trial: {'alpha': 0.038920574931548726}\n"
     ]
    }
   ],
   "source": [
    "# Content\n",
    "ridge_content_study_fold = optuna.create_study(direction='minimize')\n",
    "ridge_content_study_fold.optimize(lambda trial: ridge_objective_fold(trial, content_feature_variations, \"content\"), n_trials=5)\n",
    "print('Number of finished trials:', len(ridge_content_study_fold.trials))\n",
    "print('Best trial:', ridge_content_study_fold.best_trial.params)"
   ]
  },
  {
   "cell_type": "markdown",
   "id": "b6d1cb7b-502b-4b0d-8ebe-853c8f05fba2",
   "metadata": {},
   "source": [
    "MCRMSE = `0.59318`"
   ]
  },
  {
   "cell_type": "markdown",
   "id": "c231066d-70fe-45e6-92d3-a41d954fa1a8",
   "metadata": {},
   "source": [
    "#### Lasso regression"
   ]
  },
  {
   "cell_type": "code",
   "execution_count": 76,
   "id": "68a73332-f99e-400d-9b5a-fe375b58646d",
   "metadata": {},
   "outputs": [],
   "source": [
    "def lasso_objective_fold(trial, feature_variations = wording_feature_variations, target=\"wording\"):\n",
    "    params = {\n",
    "        \"alpha\": trial.suggest_float(\"alpha\", 1e-3, 1000.0, log=True),\n",
    "    }\n",
    "    \n",
    "    model = Lasso(**params)\n",
    "    \n",
    "    train_metric, val_metric = random_fold_evaluation(model, **feature_variations, target=target)\n",
    "    \n",
    "    return val_metric"
   ]
  },
  {
   "cell_type": "code",
   "execution_count": 77,
   "id": "10a7a98e-aa8c-44b4-b3a2-f6e135840146",
   "metadata": {},
   "outputs": [
    {
     "name": "stderr",
     "output_type": "stream",
     "text": [
      "[I 2023-10-16 07:19:16,518] A new study created in memory with name: no-name-2bc09c58-3e6b-4fd1-8200-cdf8700490e8\n",
      "[I 2023-10-16 07:21:28,284] Trial 0 finished with value: 1.073541075010532 and parameters: {'alpha': 1.2705974666796342}. Best is trial 0 with value: 1.073541075010532.\n",
      "[I 2023-10-16 07:23:36,993] Trial 1 finished with value: 1.073541075010532 and parameters: {'alpha': 121.5552267852384}. Best is trial 0 with value: 1.073541075010532.\n",
      "[I 2023-10-16 07:28:27,739] Trial 2 finished with value: 0.5129377078866517 and parameters: {'alpha': 0.002495035367456284}. Best is trial 2 with value: 0.5129377078866517.\n",
      "[I 2023-10-16 07:31:37,503] Trial 3 finished with value: 0.6034375124162524 and parameters: {'alpha': 0.01009705473589958}. Best is trial 2 with value: 0.5129377078866517.\n",
      "[I 2023-10-16 07:33:47,757] Trial 4 finished with value: 1.073541075010532 and parameters: {'alpha': 4.694272515100093}. Best is trial 2 with value: 0.5129377078866517.\n"
     ]
    },
    {
     "name": "stdout",
     "output_type": "stream",
     "text": [
      "Number of finished trials: 5\n",
      "Best trial: {'alpha': 0.002495035367456284}\n"
     ]
    }
   ],
   "source": [
    "# Wording\n",
    "lasso_wording_study_fold = optuna.create_study(direction='minimize')\n",
    "lasso_wording_study_fold.optimize(lasso_objective_fold, n_trials=5)\n",
    "print('Number of finished trials:', len(lasso_wording_study_fold.trials))\n",
    "print('Best trial:', lasso_wording_study_fold.best_trial.params)"
   ]
  },
  {
   "cell_type": "code",
   "execution_count": 78,
   "id": "cfa2e3bb-10be-41c3-9a5b-63ddff7fe122",
   "metadata": {},
   "outputs": [
    {
     "name": "stderr",
     "output_type": "stream",
     "text": [
      "[I 2023-10-16 07:33:47,774] A new study created in memory with name: no-name-bea3f84d-349a-44a7-b0ef-195539f84785\n",
      "[I 2023-10-16 07:35:46,517] Trial 0 finished with value: 0.41146023560437006 and parameters: {'alpha': 0.0985390177356231}. Best is trial 0 with value: 0.41146023560437006.\n",
      "[I 2023-10-16 07:37:43,940] Trial 1 finished with value: 1.0892360861142023 and parameters: {'alpha': 23.585317338528068}. Best is trial 0 with value: 0.41146023560437006.\n",
      "[I 2023-10-16 07:39:41,449] Trial 2 finished with value: 1.0892360861142023 and parameters: {'alpha': 708.1693024190464}. Best is trial 0 with value: 0.41146023560437006.\n",
      "[I 2023-10-16 07:41:47,033] Trial 3 finished with value: 0.36457814159766105 and parameters: {'alpha': 0.0028217603487821186}. Best is trial 3 with value: 0.36457814159766105.\n",
      "[I 2023-10-16 07:43:44,554] Trial 4 finished with value: 1.0892360861142023 and parameters: {'alpha': 3.7769818423650907}. Best is trial 3 with value: 0.36457814159766105.\n"
     ]
    },
    {
     "name": "stdout",
     "output_type": "stream",
     "text": [
      "Number of finished trials: 5\n",
      "Best trial: {'alpha': 0.0028217603487821186}\n"
     ]
    }
   ],
   "source": [
    "# Content\n",
    "lasso_content_study_fold = optuna.create_study(direction='minimize')\n",
    "lasso_content_study_fold.optimize(lambda trial: lasso_objective_fold(trial, content_feature_variations, \"content\"), n_trials=5)\n",
    "print('Number of finished trials:', len(lasso_content_study_fold.trials))\n",
    "print('Best trial:', lasso_content_study_fold.best_trial.params)"
   ]
  },
  {
   "cell_type": "markdown",
   "id": "420d459a-9920-4558-aeea-36e0685c0d98",
   "metadata": {},
   "source": [
    "MCRMSE = `0.65999`"
   ]
  },
  {
   "cell_type": "markdown",
   "id": "75fff754-5886-441b-b5d1-24962e403eac",
   "metadata": {},
   "source": [
    "#### Sklearn's MLP"
   ]
  },
  {
   "cell_type": "code",
   "execution_count": 79,
   "id": "16569c48-6ff6-4376-82cc-349405d1e31e",
   "metadata": {},
   "outputs": [],
   "source": [
    "def mlp_objective_fold(trial, feature_variations = wording_feature_variations, target=\"wording\"):\n",
    "    params = {\n",
    "        \"hidden_layer_sizes\": trial.suggest_categorical(\"hidden_layer_sizes\", [(100,), (256, 64, 8), (256, 64)]),\n",
    "        \"activation\": trial.suggest_categorical(\"activation\", [\"relu\", \"tanh\"]),\n",
    "        \"learning_rate_init\": trial.suggest_float(\"learning_rate_init\", 1e-5, 1e-2, log=True)\n",
    "    }\n",
    "    \n",
    "    model = MLPRegressor(**params)\n",
    "    \n",
    "    train_metric, val_metric = random_fold_evaluation(model, **feature_variations, target=target)\n",
    "    \n",
    "    return val_metric"
   ]
  },
  {
   "cell_type": "code",
   "execution_count": 80,
   "id": "1505042c-c670-45e7-ac22-28d2f674bd9c",
   "metadata": {},
   "outputs": [
    {
     "name": "stderr",
     "output_type": "stream",
     "text": [
      "[I 2023-10-16 07:43:44,593] A new study created in memory with name: no-name-06841860-2c24-4675-9fec-d3a612dad5ed\n",
      "[I 2023-10-16 07:54:59,969] Trial 0 finished with value: 0.43465932480868996 and parameters: {'hidden_layer_sizes': (100,), 'activation': 'relu', 'learning_rate_init': 0.0012824511994693733}. Best is trial 0 with value: 0.43465932480868996.\n",
      "[I 2023-10-16 08:19:54,919] Trial 1 finished with value: 0.6111227853676003 and parameters: {'hidden_layer_sizes': (100,), 'activation': 'tanh', 'learning_rate_init': 3.0480252858616325e-05}. Best is trial 0 with value: 0.43465932480868996.\n",
      "[I 2023-10-16 08:46:58,225] Trial 2 finished with value: 0.47217399516594644 and parameters: {'hidden_layer_sizes': (256, 64, 8), 'activation': 'tanh', 'learning_rate_init': 0.005867255979651244}. Best is trial 0 with value: 0.43465932480868996.\n",
      "[I 2023-10-16 09:11:28,778] Trial 3 finished with value: 0.42173957610082774 and parameters: {'hidden_layer_sizes': (256, 64), 'activation': 'relu', 'learning_rate_init': 0.0004175918569647665}. Best is trial 3 with value: 0.42173957610082774.\n",
      "[I 2023-10-16 09:31:46,899] Trial 4 finished with value: 0.438264532873621 and parameters: {'hidden_layer_sizes': (256, 64), 'activation': 'relu', 'learning_rate_init': 0.0072619325829305715}. Best is trial 3 with value: 0.42173957610082774.\n"
     ]
    },
    {
     "name": "stdout",
     "output_type": "stream",
     "text": [
      "Number of finished trials: 5\n",
      "Best trial: {'hidden_layer_sizes': (256, 64), 'activation': 'relu', 'learning_rate_init': 0.0004175918569647665}\n"
     ]
    }
   ],
   "source": [
    "# Wording\n",
    "mlp_wording_study_fold = optuna.create_study(direction='minimize')\n",
    "mlp_wording_study_fold.optimize(mlp_objective_fold, n_trials=5)\n",
    "print('Number of finished trials:', len(mlp_wording_study_fold.trials))\n",
    "print('Best trial:', mlp_wording_study_fold.best_trial.params)"
   ]
  },
  {
   "cell_type": "code",
   "execution_count": 81,
   "id": "f4a01eed-2565-4607-b2e6-494198aa275b",
   "metadata": {},
   "outputs": [
    {
     "name": "stderr",
     "output_type": "stream",
     "text": [
      "[I 2023-10-16 09:31:46,912] A new study created in memory with name: no-name-f9788e7d-de59-4b35-9593-84c2167737cc\n",
      "[I 2023-10-16 09:37:01,080] Trial 0 finished with value: 0.26244194277520927 and parameters: {'hidden_layer_sizes': (256, 64), 'activation': 'relu', 'learning_rate_init': 0.008359140581607662}. Best is trial 0 with value: 0.26244194277520927.\n",
      "[I 2023-10-16 09:42:24,774] Trial 1 finished with value: 0.25966072328477774 and parameters: {'hidden_layer_sizes': (256, 64, 8), 'activation': 'relu', 'learning_rate_init': 0.002199670112966859}. Best is trial 1 with value: 0.25966072328477774.\n",
      "[I 2023-10-16 09:47:57,639] Trial 2 finished with value: 0.2361114485612124 and parameters: {'hidden_layer_sizes': (100,), 'activation': 'tanh', 'learning_rate_init': 0.0033922978954002807}. Best is trial 2 with value: 0.2361114485612124.\n",
      "[I 2023-10-16 09:58:21,059] Trial 3 finished with value: 0.24727711744435488 and parameters: {'hidden_layer_sizes': (256, 64, 8), 'activation': 'tanh', 'learning_rate_init': 0.00038026836693992046}. Best is trial 2 with value: 0.2361114485612124.\n",
      "[I 2023-10-16 10:09:04,447] Trial 4 finished with value: 0.21261753881085727 and parameters: {'hidden_layer_sizes': (256, 64), 'activation': 'relu', 'learning_rate_init': 6.32937069777149e-05}. Best is trial 4 with value: 0.21261753881085727.\n"
     ]
    },
    {
     "name": "stdout",
     "output_type": "stream",
     "text": [
      "Number of finished trials: 5\n",
      "Best trial: {'hidden_layer_sizes': (256, 64), 'activation': 'relu', 'learning_rate_init': 6.32937069777149e-05}\n"
     ]
    }
   ],
   "source": [
    "# Content\n",
    "mlp_content_study_fold = optuna.create_study(direction='minimize')\n",
    "mlp_content_study_fold.optimize(lambda trial: mlp_objective_fold(trial, content_feature_variations, \"content\"), n_trials=5)\n",
    "print('Number of finished trials:', len(mlp_content_study_fold.trials))\n",
    "print('Best trial:', mlp_content_study_fold.best_trial.params)"
   ]
  },
  {
   "cell_type": "markdown",
   "id": "a1a46cee-9450-4b73-83d5-d6251d478513",
   "metadata": {},
   "source": [
    "MCRMSE = `0.555252`"
   ]
  },
  {
   "cell_type": "markdown",
   "id": "d8dbc82f-c3a1-437e-a0bb-bc5e2eecd20a",
   "metadata": {},
   "source": [
    "### Group K-fold"
   ]
  },
  {
   "cell_type": "code",
   "execution_count": 38,
   "id": "83a9222f-2f6d-457b-a672-9eb827b01f4b",
   "metadata": {},
   "outputs": [],
   "source": [
    "def group_evaluation(\n",
    "     model,\n",
    "     features: list,\n",
    "      features_to_scale: list,\n",
    "      target : str=\"wording\", \n",
    "      vectorizer=TfidfVectorizer(\n",
    "            analyzer='word',\n",
    "            stop_words='english',\n",
    "            ngram_range=(1, 3),\n",
    "            lowercase=True,\n",
    "            min_df=1,\n",
    "            max_features=30000\n",
    "        ),\n",
    "      vectorizer_feature: str = \"text\",\n",
    "      prompt_processed_features: dict = {\n",
    "          'prompt_question': 'prompt_question',\n",
    "          'prompt_title': 'prompt_title',\n",
    "          'prompt_text': 'prompt_text'\n",
    "      },\n",
    "     verbose=False):\n",
    "    \n",
    "    train_metrics=[]\n",
    "    val_metrics=[]\n",
    "    \n",
    "    for i in range(len(prompts_train_df)):\n",
    "        val_prompt_id = prompts_train_df.loc[i, 'prompt_id']\n",
    "        summaries_train, summaries_val = summaries_train_df[~(summaries_train_df['prompt_id'] == val_prompt_id)], summaries_train_df[summaries_train_df['prompt_id'] == val_prompt_id]\n",
    "\n",
    "        X_train, y_train = summaries_train.loc[:, ['prompt_i', *features]], summaries_train.loc[:, target]\n",
    "        X_val, y_val = summaries_val.loc[:, ['prompt_i', *features]], summaries_val.loc[:, target]\n",
    "        \n",
    "        vectorizer = vectorizer.fit(X_train[vectorizer_feature])\n",
    "        train_summaries_vectors = vectorizer.transform(X_train[vectorizer_feature])\n",
    "        val_summaries_vectors = vectorizer.transform(X_val[vectorizer_feature])\n",
    "        \n",
    "        prompts_texts_vectors = vectorizer.transform(prompts_train_df[prompt_processed_features['prompt_text']])\n",
    "        prompts_titles_vectors = vectorizer.transform(prompts_train_df[prompt_processed_features['prompt_title']])\n",
    "        prompts_questions_vectors = vectorizer.transform(prompts_train_df[prompt_processed_features['prompt_question']])\n",
    "    \n",
    "        scaler = RobustScaler().fit(X_train[features_to_scale])\n",
    "        X_train[features_to_scale] = scaler.transform(X_train[features_to_scale])\n",
    "        X_val[features_to_scale] = scaler.transform(X_val[features_to_scale])\n",
    "\n",
    "        y_scaler = RobustScaler().fit(y_train.to_numpy().reshape(-1, 1))\n",
    "        y_train_scaled = y_scaler.transform(y_train.to_numpy().reshape(-1, 1))\n",
    "\n",
    "        train_summaries_vectors_dense = train_summaries_vectors.todense()\n",
    "        val_summaries_vectors_dense = val_summaries_vectors.todense()\n",
    "        \n",
    "        cosine_scores_train_prompts_texts = np.zeros((len(y_train), 1))\n",
    "        cosine_scores_train_prompts_titles = np.zeros((len(y_train), 1))\n",
    "        cosine_scores_train_prompts_questions = np.zeros((len(y_train), 1))\n",
    "        \n",
    "        for i, (summary_vector, prompt_text_vector, prompt_title_vector, prompt_question_vector) in enumerate(zip(train_summaries_vectors_dense, prompts_texts_vectors[X_train['prompt_i']].todense(), prompts_titles_vectors[X_train['prompt_i']].todense(), prompts_questions_vectors[X_train['prompt_i']].todense())):\n",
    "            cosine_scores_train_prompts_texts[i, 0] = cosine_similarity(np.asarray(prompt_text_vector), np.asarray(summary_vector))\n",
    "            cosine_scores_train_prompts_titles[i, 0] = cosine_similarity(np.asarray(prompt_title_vector), np.asarray(summary_vector))\n",
    "            cosine_scores_train_prompts_questions[i, 0] = cosine_similarity(np.asarray(prompt_question_vector), np.asarray(summary_vector))\n",
    "\n",
    "        cosine_scores_val_prompts_texts = np.zeros((len(y_val), 1))\n",
    "        cosine_scores_val_prompts_titles = np.zeros((len(y_val), 1))\n",
    "        cosine_scores_val_prompts_questions = np.zeros((len(y_val), 1))\n",
    "        \n",
    "        for i, (summary_vector, prompt_text_vector, prompt_title_vector, prompt_question_vector) in enumerate(zip(val_summaries_vectors_dense, prompts_texts_vectors[X_val['prompt_i']].todense(), prompts_titles_vectors[X_val['prompt_i']].todense(), prompts_questions_vectors[X_val['prompt_i']].todense())):\n",
    "            cosine_scores_val_prompts_texts[i, 0] = cosine_similarity(np.asarray(prompt_text_vector), np.asarray(summary_vector))\n",
    "            cosine_scores_val_prompts_titles[i, 0] = cosine_similarity(np.asarray(prompt_title_vector), np.asarray(summary_vector))\n",
    "            cosine_scores_val_prompts_questions[i, 0] = cosine_similarity(np.asarray(prompt_question_vector), np.asarray(summary_vector))\n",
    "        \n",
    "        X_train = sparse.hstack((\n",
    "            train_summaries_vectors,\n",
    "            sparse.coo_matrix(cosine_scores_train_prompts_texts),\n",
    "            sparse.coo_matrix(cosine_scores_train_prompts_titles),\n",
    "            sparse.coo_matrix(cosine_scores_train_prompts_questions),\n",
    "            sparse.coo_matrix(X_train[features_to_scale].to_numpy()),\n",
    "        ))\n",
    "        X_val = sparse.hstack((\n",
    "            val_summaries_vectors,\n",
    "            sparse.coo_matrix(cosine_scores_val_prompts_texts),\n",
    "            sparse.coo_matrix(cosine_scores_val_prompts_titles),\n",
    "            sparse.coo_matrix(cosine_scores_val_prompts_questions),\n",
    "            sparse.coo_matrix(X_val[features_to_scale].to_numpy()),\n",
    "        ))\n",
    "        \n",
    "        model.fit(X_train, y_train_scaled.ravel())\n",
    "        y_train_pred_scaled = model.predict(X_train)\n",
    "        y_val_pred_scaled = model.predict(X_val)\n",
    "\n",
    "        y_train_pred = y_scaler.inverse_transform(y_train_pred_scaled.reshape(-1, 1))\n",
    "        y_val_pred = y_scaler.inverse_transform(y_val_pred_scaled.reshape(-1, 1))\n",
    "\n",
    "        train_mse = mean_squared_error(y_train_pred, y_train)\n",
    "        val_mse = mean_squared_error(y_val_pred, y_val)\n",
    "        if verbose:\n",
    "            print(f\"Train MSE for {target}: {train_mse_content:.3f}, Val MSE for {target}: {val_mse_content:.3f}\")\n",
    "\n",
    "        train_metrics.append(train_mse)\n",
    "        val_metrics.append(val_mse)\n",
    "                    \n",
    "    return np.mean(train_metrics), np.mean(val_metrics)"
   ]
  },
  {
   "cell_type": "markdown",
   "id": "b31c4912-5161-49aa-a46c-29c8ef0b038b",
   "metadata": {},
   "source": [
    "#### LightGBM"
   ]
  },
  {
   "cell_type": "code",
   "execution_count": 39,
   "id": "ef239a17-c098-4775-8221-142134a935a7",
   "metadata": {},
   "outputs": [],
   "source": [
    "def lgm_objective(trial, feature_variations = wording_feature_variations, target=\"wording\"):\n",
    "    params = {\n",
    "        \"metric\": \"rmse\",\n",
    "        \"boosting_type\": \"gbdt\",\n",
    "        \"lambda_l1\": trial.suggest_float(\"lambda_l1\", 1e-8, 10.0, log=True),\n",
    "        \"lambda_l2\": trial.suggest_float(\"lambda_l2\", 1e-8, 10.0, log=True),\n",
    "        \"learning_rate\": trial.suggest_float(\"learning_rate\", 1e-5, 10.0, log=True),\n",
    "        \"num_leaves\": trial.suggest_int(\"num_leaves\", 2, 256),\n",
    "        \"max_depth\": trial.suggest_int(\"max_depth\", 1, 4),\n",
    "        \"n_estimators\": trial.suggest_int(\"n_estimators\", 10, 200), \n",
    "        \"feature_fraction\": trial.suggest_float(\"feature_fraction\", 0.4, 1.0),\n",
    "        \"bagging_fraction\": trial.suggest_float(\"bagging_fraction\", 0.4, 1.0),\n",
    "        \"bagging_freq\": trial.suggest_int(\"bagging_freq_1\", 1, 20),\n",
    "        \"min_child_samples\": trial.suggest_int(\"min_child_samples\", 5, 100),\n",
    "    }\n",
    "    \n",
    "    model = LGBMRegressor(**params, verbose = -1)\n",
    "    \n",
    "    train_metric, val_metric = group_evaluation(model, **feature_variations, target=target)\n",
    "    \n",
    "    return val_metric"
   ]
  },
  {
   "cell_type": "code",
   "execution_count": 48,
   "id": "5e9ad038-c1b9-49ad-ac58-caa0a6e2fe5b",
   "metadata": {},
   "outputs": [
    {
     "name": "stderr",
     "output_type": "stream",
     "text": [
      "[I 2023-10-16 05:23:39,685] A new study created in memory with name: no-name-e2f6ce4a-3882-455d-a3ea-7cb8ab4ea127\n",
      "[I 2023-10-16 05:25:19,984] Trial 0 finished with value: 0.9059271597192001 and parameters: {'lambda_l1': 2.6089463872103247, 'lambda_l2': 0.0002353043239798047, 'learning_rate': 0.6084177729692121, 'num_leaves': 134, 'max_depth': 1, 'n_estimators': 92, 'feature_fraction': 0.4931205897299491, 'bagging_fraction': 0.7527296261987375, 'bagging_freq_1': 4, 'min_child_samples': 46}. Best is trial 0 with value: 0.9059271597192001.\n",
      "[I 2023-10-16 05:26:59,493] Trial 1 finished with value: 0.8130575007760968 and parameters: {'lambda_l1': 0.1890127760956003, 'lambda_l2': 2.7455614358947713, 'learning_rate': 0.21290424554062884, 'num_leaves': 32, 'max_depth': 2, 'n_estimators': 36, 'feature_fraction': 0.8150253603779744, 'bagging_fraction': 0.6688180611582288, 'bagging_freq_1': 6, 'min_child_samples': 68}. Best is trial 1 with value: 0.8130575007760968.\n",
      "[I 2023-10-16 05:28:37,667] Trial 2 finished with value: 0.8195351320944742 and parameters: {'lambda_l1': 0.04466775147514626, 'lambda_l2': 0.040307515199598125, 'learning_rate': 0.015254662346141179, 'num_leaves': 211, 'max_depth': 2, 'n_estimators': 153, 'feature_fraction': 0.7399160768155081, 'bagging_fraction': 0.7680727555484037, 'bagging_freq_1': 19, 'min_child_samples': 91}. Best is trial 1 with value: 0.8130575007760968.\n",
      "[I 2023-10-16 05:30:16,660] Trial 3 finished with value: 1.104880662246486 and parameters: {'lambda_l1': 1.6659138888960948e-05, 'lambda_l2': 2.6097502899522376e-07, 'learning_rate': 0.0011079462001696875, 'num_leaves': 56, 'max_depth': 3, 'n_estimators': 110, 'feature_fraction': 0.9358403355017005, 'bagging_fraction': 0.6900480740608315, 'bagging_freq_1': 15, 'min_child_samples': 60}. Best is trial 1 with value: 0.8130575007760968.\n",
      "[I 2023-10-16 05:31:56,344] Trial 4 finished with value: 1.1751740483360873 and parameters: {'lambda_l1': 9.50156003179289e-05, 'lambda_l2': 0.27943666336644846, 'learning_rate': 1.2926382641883657e-05, 'num_leaves': 105, 'max_depth': 2, 'n_estimators': 99, 'feature_fraction': 0.9670840271588096, 'bagging_fraction': 0.9250805754997045, 'bagging_freq_1': 15, 'min_child_samples': 77}. Best is trial 1 with value: 0.8130575007760968.\n"
     ]
    },
    {
     "name": "stdout",
     "output_type": "stream",
     "text": [
      "Number of finished trials: 5\n",
      "Best trial: {'lambda_l1': 0.1890127760956003, 'lambda_l2': 2.7455614358947713, 'learning_rate': 0.21290424554062884, 'num_leaves': 32, 'max_depth': 2, 'n_estimators': 36, 'feature_fraction': 0.8150253603779744, 'bagging_fraction': 0.6688180611582288, 'bagging_freq_1': 6, 'min_child_samples': 68}\n"
     ]
    }
   ],
   "source": [
    "# Wording\n",
    "lgbm_wording_study = optuna.create_study(direction='minimize')\n",
    "lgbm_wording_study.optimize(lgm_objective, n_trials=5)\n",
    "print('Number of finished trials:', len(lgbm_wording_study.trials))\n",
    "print('Best trial:', lgbm_wording_study.best_trial.params)"
   ]
  },
  {
   "cell_type": "code",
   "execution_count": 49,
   "id": "d54d40b9-157d-4f88-99d4-05e13f25b91d",
   "metadata": {},
   "outputs": [
    {
     "name": "stderr",
     "output_type": "stream",
     "text": [
      "[I 2023-10-16 05:31:56,361] A new study created in memory with name: no-name-db0f4543-e7c3-4257-8f61-5109197059d8\n",
      "[I 2023-10-16 05:33:39,661] Trial 0 finished with value: 0.9549109685631426 and parameters: {'lambda_l1': 0.3117464196543655, 'lambda_l2': 0.019795774281844317, 'learning_rate': 0.0007505590686274906, 'num_leaves': 30, 'max_depth': 4, 'n_estimators': 149, 'feature_fraction': 0.9975213010138761, 'bagging_fraction': 0.5224907788409191, 'bagging_freq_1': 7, 'min_child_samples': 9}. Best is trial 0 with value: 0.9549109685631426.\n",
      "[I 2023-10-16 05:35:16,340] Trial 1 finished with value: 1.1180804474943007 and parameters: {'lambda_l1': 1.969889487293876e-07, 'lambda_l2': 0.005206796704386649, 'learning_rate': 3.112207949436678e-05, 'num_leaves': 193, 'max_depth': 2, 'n_estimators': 13, 'feature_fraction': 0.6297403746134, 'bagging_fraction': 0.690167726820637, 'bagging_freq_1': 5, 'min_child_samples': 21}. Best is trial 0 with value: 0.9549109685631426.\n",
      "[I 2023-10-16 05:36:58,602] Trial 2 finished with value: 0.8205534061619221 and parameters: {'lambda_l1': 0.10513650541682859, 'lambda_l2': 0.034911109152500695, 'learning_rate': 0.0014135660888848745, 'num_leaves': 142, 'max_depth': 4, 'n_estimators': 163, 'feature_fraction': 0.931729706439287, 'bagging_fraction': 0.747661632599584, 'bagging_freq_1': 6, 'min_child_samples': 94}. Best is trial 2 with value: 0.8205534061619221.\n",
      "[I 2023-10-16 05:38:35,360] Trial 3 finished with value: 9.7423091008332e+77 and parameters: {'lambda_l1': 2.025165031118942e-05, 'lambda_l2': 0.06379703501305099, 'learning_rate': 9.8459931656626, 'num_leaves': 250, 'max_depth': 3, 'n_estimators': 136, 'feature_fraction': 0.5805708767169117, 'bagging_fraction': 0.4230937681766527, 'bagging_freq_1': 6, 'min_child_samples': 51}. Best is trial 2 with value: 0.8205534061619221.\n",
      "[I 2023-10-16 05:40:11,763] Trial 4 finished with value: 1.0987765244470653 and parameters: {'lambda_l1': 1.390869312888058, 'lambda_l2': 0.043071833750034094, 'learning_rate': 0.0008553499992888304, 'num_leaves': 47, 'max_depth': 1, 'n_estimators': 21, 'feature_fraction': 0.8475435748989306, 'bagging_fraction': 0.6562704297441955, 'bagging_freq_1': 20, 'min_child_samples': 14}. Best is trial 2 with value: 0.8205534061619221.\n"
     ]
    },
    {
     "name": "stdout",
     "output_type": "stream",
     "text": [
      "Number of finished trials: 5\n",
      "Best trial: {'lambda_l1': 0.10513650541682859, 'lambda_l2': 0.034911109152500695, 'learning_rate': 0.0014135660888848745, 'num_leaves': 142, 'max_depth': 4, 'n_estimators': 163, 'feature_fraction': 0.931729706439287, 'bagging_fraction': 0.747661632599584, 'bagging_freq_1': 6, 'min_child_samples': 94}\n"
     ]
    }
   ],
   "source": [
    "# Content\n",
    "lgbm_content_study = optuna.create_study(direction='minimize')\n",
    "lgbm_content_study.optimize(lambda trial: lgm_objective(trial, content_feature_variations, \"content\"), n_trials=5)\n",
    "print('Number of finished trials:', len(lgbm_content_study.trials))\n",
    "print('Best trial:', lgbm_content_study.best_trial.params)"
   ]
  },
  {
   "cell_type": "markdown",
   "id": "63e7c752-e7a9-41d9-9db5-53c8f32fec08",
   "metadata": {},
   "source": [
    "MCRMSE = `0.9037`"
   ]
  },
  {
   "cell_type": "markdown",
   "id": "8da1ae28-b61a-4029-97ec-301cc6038723",
   "metadata": {},
   "source": [
    "#### Ridge regression"
   ]
  },
  {
   "cell_type": "code",
   "execution_count": 52,
   "id": "f6152bb3-577d-4b0b-b8db-89b30e298889",
   "metadata": {},
   "outputs": [],
   "source": [
    "def ridge_objective(trial, feature_variations = wording_feature_variations, target=\"wording\"):\n",
    "    params = {\n",
    "        \"alpha\": trial.suggest_float(\"alpha\", 1e-3, 1000.0, log=True),\n",
    "    }\n",
    "    \n",
    "    model = Ridge(**params)\n",
    "    \n",
    "    train_metric, val_metric = group_evaluation(model, **feature_variations, target=target)\n",
    "    \n",
    "    return val_metric"
   ]
  },
  {
   "cell_type": "code",
   "execution_count": 53,
   "id": "c3b225bb-0704-4630-ac4f-99a9a17a5d61",
   "metadata": {},
   "outputs": [
    {
     "name": "stderr",
     "output_type": "stream",
     "text": [
      "[I 2023-10-16 05:40:36,984] A new study created in memory with name: no-name-2ab224ee-6ac0-45ee-bbe2-976f0a4f6181\n",
      "[I 2023-10-16 05:42:14,371] Trial 0 finished with value: 0.9103264871841465 and parameters: {'alpha': 250.4685311567221}. Best is trial 0 with value: 0.9103264871841465.\n",
      "[I 2023-10-16 05:43:51,978] Trial 1 finished with value: 1.3813144680680685 and parameters: {'alpha': 1.5605046841477916}. Best is trial 0 with value: 0.9103264871841465.\n",
      "[I 2023-10-16 05:45:28,516] Trial 2 finished with value: 1.2593984864271996 and parameters: {'alpha': 4.743859188929057}. Best is trial 0 with value: 0.9103264871841465.\n",
      "[I 2023-10-16 05:47:26,010] Trial 3 finished with value: 1.7265521741098242 and parameters: {'alpha': 0.0036795035626137917}. Best is trial 0 with value: 0.9103264871841465.\n",
      "[I 2023-10-16 05:49:00,425] Trial 4 finished with value: 0.8993489413619289 and parameters: {'alpha': 345.6617246981285}. Best is trial 4 with value: 0.8993489413619289.\n"
     ]
    },
    {
     "name": "stdout",
     "output_type": "stream",
     "text": [
      "Number of finished trials: 5\n",
      "Best trial: {'alpha': 345.6617246981285}\n"
     ]
    }
   ],
   "source": [
    "# Wording\n",
    "ridge_wording_study = optuna.create_study(direction='minimize')\n",
    "ridge_wording_study.optimize(ridge_objective, n_trials=5)\n",
    "print('Number of finished trials:', len(ridge_wording_study.trials))\n",
    "print('Best trial:', ridge_wording_study.best_trial.params)"
   ]
  },
  {
   "cell_type": "code",
   "execution_count": 54,
   "id": "74b91bb8-2f58-4e99-bbf2-2bbd54465c91",
   "metadata": {},
   "outputs": [
    {
     "name": "stderr",
     "output_type": "stream",
     "text": [
      "[I 2023-10-16 05:49:00,449] A new study created in memory with name: no-name-d442272e-eb31-406a-acd2-9bcc54ae1d91\n",
      "[I 2023-10-16 05:50:36,673] Trial 0 finished with value: 1.401205082540205 and parameters: {'alpha': 0.29080146294791087}. Best is trial 0 with value: 1.401205082540205.\n",
      "[I 2023-10-16 05:52:14,712] Trial 1 finished with value: 1.5692830655360317 and parameters: {'alpha': 0.028602794639740754}. Best is trial 0 with value: 1.401205082540205.\n",
      "[I 2023-10-16 05:53:53,490] Trial 2 finished with value: 1.5975690893929892 and parameters: {'alpha': 0.0032161159466578457}. Best is trial 0 with value: 1.401205082540205.\n",
      "[I 2023-10-16 05:55:32,021] Trial 3 finished with value: 0.670857635611434 and parameters: {'alpha': 18.714368100812244}. Best is trial 3 with value: 0.670857635611434.\n",
      "[I 2023-10-16 05:57:11,469] Trial 4 finished with value: 1.5984824853243862 and parameters: {'alpha': 0.0034112014694199586}. Best is trial 3 with value: 0.670857635611434.\n"
     ]
    },
    {
     "name": "stdout",
     "output_type": "stream",
     "text": [
      "Number of finished trials: 5\n",
      "Best trial: {'alpha': 18.714368100812244}\n"
     ]
    }
   ],
   "source": [
    "# Content\n",
    "ridge_content_study = optuna.create_study(direction='minimize')\n",
    "ridge_content_study.optimize(lambda trial: ridge_objective(trial, content_feature_variations, \"content\"), n_trials=5)\n",
    "print('Number of finished trials:', len(ridge_content_study.trials))\n",
    "print('Best trial:', ridge_content_study.best_trial.params)"
   ]
  },
  {
   "cell_type": "markdown",
   "id": "2482d8cd-6d6d-4bf7-abdf-414641f55d25",
   "metadata": {},
   "source": [
    "MCRMSE = `0.8836`"
   ]
  },
  {
   "cell_type": "markdown",
   "id": "e137f9a2-b0da-414b-9abc-f80feb8afb07",
   "metadata": {},
   "source": [
    "#### Lasso regression"
   ]
  },
  {
   "cell_type": "code",
   "execution_count": 56,
   "id": "5064c5d5-2b5e-48b3-bb08-3edbee4cebb8",
   "metadata": {},
   "outputs": [],
   "source": [
    "def lasso_objective(trial, feature_variations = wording_feature_variations, target=\"wording\"):\n",
    "    params = {\n",
    "        \"alpha\": trial.suggest_float(\"alpha\", 1e-3, 1000.0, log=True),\n",
    "    }\n",
    "    \n",
    "    model = Lasso(**params)\n",
    "    \n",
    "    train_metric, val_metric = group_evaluation(model, **feature_variations, target=target)\n",
    "    \n",
    "    return val_metric"
   ]
  },
  {
   "cell_type": "code",
   "execution_count": 57,
   "id": "f4372c5b-9c6b-49ea-939a-d78ccc7065b2",
   "metadata": {},
   "outputs": [
    {
     "name": "stderr",
     "output_type": "stream",
     "text": [
      "[I 2023-10-16 05:57:11,544] A new study created in memory with name: no-name-58a279ae-4010-4bf1-a83f-b9ab708d104d\n",
      "[I 2023-10-16 06:00:37,952] Trial 0 finished with value: 0.9774804087648429 and parameters: {'alpha': 0.005067201172525951}. Best is trial 0 with value: 0.9774804087648429.\n",
      "[I 2023-10-16 06:02:13,681] Trial 1 finished with value: 1.1760062179510409 and parameters: {'alpha': 1.2752096098069368}. Best is trial 0 with value: 0.9774804087648429.\n",
      "[I 2023-10-16 06:03:52,645] Trial 2 finished with value: 1.1760062179510409 and parameters: {'alpha': 9.19141660758887}. Best is trial 0 with value: 0.9774804087648429.\n",
      "[I 2023-10-16 06:05:31,255] Trial 3 finished with value: 1.1760062179510409 and parameters: {'alpha': 4.847044639906414}. Best is trial 0 with value: 0.9774804087648429.\n",
      "[I 2023-10-16 06:07:57,380] Trial 4 finished with value: 0.9843053243851394 and parameters: {'alpha': 0.20053723461927211}. Best is trial 0 with value: 0.9774804087648429.\n"
     ]
    },
    {
     "name": "stdout",
     "output_type": "stream",
     "text": [
      "Number of finished trials: 5\n",
      "Best trial: {'alpha': 0.005067201172525951}\n"
     ]
    }
   ],
   "source": [
    "# Wording\n",
    "lasso_wording_study = optuna.create_study(direction='minimize')\n",
    "lasso_wording_study.optimize(lasso_objective, n_trials=5)\n",
    "print('Number of finished trials:', len(lasso_wording_study.trials))\n",
    "print('Best trial:', lasso_wording_study.best_trial.params)"
   ]
  },
  {
   "cell_type": "code",
   "execution_count": 58,
   "id": "6bb7486f-5941-44db-922f-18fc896bf32c",
   "metadata": {},
   "outputs": [
    {
     "name": "stderr",
     "output_type": "stream",
     "text": [
      "[I 2023-10-16 06:07:57,402] A new study created in memory with name: no-name-5a299ac3-413a-4ce5-b1db-93928959f040\n",
      "[I 2023-10-16 06:09:40,887] Trial 0 finished with value: 0.4290518929470113 and parameters: {'alpha': 0.01171523243900066}. Best is trial 0 with value: 0.4290518929470113.\n",
      "[I 2023-10-16 06:11:18,718] Trial 1 finished with value: 1.118701642738196 and parameters: {'alpha': 397.88913779391197}. Best is trial 0 with value: 0.4290518929470113.\n",
      "[I 2023-10-16 06:12:56,626] Trial 2 finished with value: 1.118701642738196 and parameters: {'alpha': 61.31618225446046}. Best is trial 0 with value: 0.4290518929470113.\n",
      "[I 2023-10-16 06:14:35,480] Trial 3 finished with value: 1.118701642738196 and parameters: {'alpha': 1.0818682743041315}. Best is trial 0 with value: 0.4290518929470113.\n",
      "[I 2023-10-16 06:16:16,343] Trial 4 finished with value: 0.45658255169867157 and parameters: {'alpha': 0.15338656720480284}. Best is trial 0 with value: 0.4290518929470113.\n"
     ]
    },
    {
     "name": "stdout",
     "output_type": "stream",
     "text": [
      "Number of finished trials: 5\n",
      "Best trial: {'alpha': 0.01171523243900066}\n"
     ]
    }
   ],
   "source": [
    "# Content\n",
    "lasso_content_study = optuna.create_study(direction='minimize')\n",
    "lasso_content_study.optimize(lambda trial: lasso_objective(trial, content_feature_variations, \"content\"), n_trials=5)\n",
    "print('Number of finished trials:', len(lasso_content_study.trials))\n",
    "print('Best trial:', lasso_content_study.best_trial.params)"
   ]
  },
  {
   "cell_type": "markdown",
   "id": "dfd0ee60-06df-4329-891f-b8733254ab5c",
   "metadata": {},
   "source": [
    "MCRMSE = `0.82184`"
   ]
  },
  {
   "cell_type": "markdown",
   "id": "e6cd93ce-4ce8-46dd-bdc8-3daec8ccfe24",
   "metadata": {},
   "source": [
    "#### Sklearn's MLP"
   ]
  },
  {
   "cell_type": "code",
   "execution_count": 82,
   "id": "db6dcb8b-7b0a-4121-a710-0646655d44a4",
   "metadata": {},
   "outputs": [],
   "source": [
    "def mlp_objective(trial, feature_variations = wording_feature_variations, target=\"wording\"):\n",
    "    params = {\n",
    "        \"hidden_layer_sizes\": trial.suggest_categorical(\"hidden_layer_sizes\", [(100,), (256, 64, 8), (256, 64)]),\n",
    "        \"activation\": trial.suggest_categorical(\"activation\", [\"relu\", \"tanh\"]),\n",
    "        \"learning_rate_init\": trial.suggest_float(\"learning_rate_init\", 1e-5, 1e-2, log=True)\n",
    "    }\n",
    "    \n",
    "    model = MLPRegressor(**params)\n",
    "    \n",
    "    train_metric, val_metric = group_evaluation(model, **feature_variations, target=target)\n",
    "    \n",
    "    return val_metric"
   ]
  },
  {
   "cell_type": "code",
   "execution_count": 83,
   "id": "4a93faf8-c681-406d-86f1-c86c278a29ae",
   "metadata": {},
   "outputs": [
    {
     "name": "stderr",
     "output_type": "stream",
     "text": [
      "[I 2023-10-16 10:09:04,475] A new study created in memory with name: no-name-ce04e4d9-fa88-4a32-8ec5-4a6f2297c927\n",
      "[I 2023-10-16 10:31:42,174] Trial 0 finished with value: 0.9414448267985918 and parameters: {'hidden_layer_sizes': (256, 64), 'activation': 'tanh', 'learning_rate_init': 0.006394015875231341}. Best is trial 0 with value: 0.9414448267985918.\n",
      "[I 2023-10-16 10:53:53,734] Trial 1 finished with value: 1.221000017637624 and parameters: {'hidden_layer_sizes': (256, 64, 8), 'activation': 'tanh', 'learning_rate_init': 0.004138023667720851}. Best is trial 0 with value: 0.9414448267985918.\n",
      "[I 2023-10-16 11:09:52,789] Trial 2 finished with value: 0.7875507996734099 and parameters: {'hidden_layer_sizes': (256, 64), 'activation': 'relu', 'learning_rate_init': 0.005068448180661324}. Best is trial 2 with value: 0.7875507996734099.\n",
      "[I 2023-10-16 11:19:53,810] Trial 3 finished with value: 0.8767542015965405 and parameters: {'hidden_layer_sizes': (100,), 'activation': 'relu', 'learning_rate_init': 0.0005229295674569938}. Best is trial 2 with value: 0.7875507996734099.\n",
      "[I 2023-10-16 11:39:11,817] Trial 4 finished with value: 0.8679295142304043 and parameters: {'hidden_layer_sizes': (256, 64), 'activation': 'tanh', 'learning_rate_init': 0.002076752229575342}. Best is trial 2 with value: 0.7875507996734099.\n"
     ]
    },
    {
     "name": "stdout",
     "output_type": "stream",
     "text": [
      "Number of finished trials: 5\n",
      "Best trial: {'hidden_layer_sizes': (256, 64), 'activation': 'relu', 'learning_rate_init': 0.005068448180661324}\n"
     ]
    }
   ],
   "source": [
    "# Wording\n",
    "mlp_wording_study = optuna.create_study(direction='minimize')\n",
    "mlp_wording_study.optimize(mlp_objective, n_trials=5)\n",
    "print('Number of finished trials:', len(mlp_wording_study.trials))\n",
    "print('Best trial:', mlp_wording_study.best_trial.params)"
   ]
  },
  {
   "cell_type": "code",
   "execution_count": 84,
   "id": "fc252cd9-4307-43d6-a822-ced77b11ad40",
   "metadata": {},
   "outputs": [
    {
     "name": "stderr",
     "output_type": "stream",
     "text": [
      "[I 2023-10-16 11:39:11,835] A new study created in memory with name: no-name-f5c55397-10fc-4799-aa48-27f1f45cf464\n",
      "[I 2023-10-16 11:44:47,309] Trial 0 finished with value: 0.7533562521461048 and parameters: {'hidden_layer_sizes': (256, 64), 'activation': 'tanh', 'learning_rate_init': 2.3016148332262093e-05}. Best is trial 0 with value: 0.7533562521461048.\n",
      "[I 2023-10-16 11:52:00,799] Trial 1 finished with value: 0.7129162701414438 and parameters: {'hidden_layer_sizes': (256, 64), 'activation': 'tanh', 'learning_rate_init': 5.7933232393160816e-05}. Best is trial 1 with value: 0.7129162701414438.\n",
      "[I 2023-10-16 11:55:51,656] Trial 2 finished with value: 1.4781366280188941 and parameters: {'hidden_layer_sizes': (100,), 'activation': 'relu', 'learning_rate_init': 0.002912041781401828}. Best is trial 1 with value: 0.7129162701414438.\n",
      "[I 2023-10-16 12:04:10,268] Trial 3 finished with value: 1.0478382151817327 and parameters: {'hidden_layer_sizes': (256, 64, 8), 'activation': 'tanh', 'learning_rate_init': 0.00018393420489637883}. Best is trial 1 with value: 0.7129162701414438.\n",
      "[I 2023-10-16 12:07:10,217] Trial 4 finished with value: 0.734894425021215 and parameters: {'hidden_layer_sizes': (100,), 'activation': 'tanh', 'learning_rate_init': 0.0003787144909429444}. Best is trial 1 with value: 0.7129162701414438.\n"
     ]
    },
    {
     "name": "stdout",
     "output_type": "stream",
     "text": [
      "Number of finished trials: 5\n",
      "Best trial: {'hidden_layer_sizes': (256, 64), 'activation': 'tanh', 'learning_rate_init': 5.7933232393160816e-05}\n"
     ]
    }
   ],
   "source": [
    "# Content\n",
    "mlp_content_study = optuna.create_study(direction='minimize')\n",
    "mlp_content_study.optimize(lambda trial: mlp_objective(trial, content_feature_variations, \"content\"), n_trials=5)\n",
    "print('Number of finished trials:', len(mlp_content_study.trials))\n",
    "print('Best trial:', mlp_content_study.best_trial.params)"
   ]
  },
  {
   "cell_type": "markdown",
   "id": "44925f99-ccb2-4b8e-a061-c5c70c388a6b",
   "metadata": {},
   "source": [
    "MCRMSE = `0.86589`"
   ]
  },
  {
   "cell_type": "markdown",
   "id": "22f3f140-3305-4604-991c-43c913ceb16e",
   "metadata": {},
   "source": [
    "### Conclusions on the LB-val correlation\n",
    "\n",
    "We have run all the models on the leaderboards:\n",
    "\n",
    "![Model results on kaggle](./images/scores_commonlit.png)\n",
    "\n",
    "#### Plot on LB-eval correspondence\n",
    "\n",
    "Now, let's plot their scores on eval and leaderboard along with their trend lines:"
   ]
  },
  {
   "cell_type": "code",
   "execution_count": 98,
   "id": "19be6455-5e10-4bef-a097-1d5b2cc7c54f",
   "metadata": {},
   "outputs": [
    {
     "data": {
      "image/png": "[encoded data removed]",
      "text/plain": [
       "<Figure size 640x480 with 1 Axes>"
      ]
     },
     "metadata": {},
     "output_type": "display_data"
    }
   ],
   "source": [
    "fold_private_leaderboards = [0.75, 0.783, 0.695, 0.716]\n",
    "fold_public_leaderboards = [0.647, 0.769, 0.798, 0.738]\n",
    "fold_eval = [0.5919, 0.59318, 0.66, 0.55525]\n",
    "\n",
    "group_private_leaderboards = [0.877, 0.664, 0.714, 0.751]\n",
    "group_public_leaderboards = [0.701, 0.724, 0.729, 0.645]\n",
    "group_eval = [0.9037, 0.8836, 0.8218, 0.86589]\n",
    "\n",
    "\n",
    "plt.scatter(fold_eval, fold_private_leaderboards, label=\"Random K-fold private results\", marker='o', c='blue')\n",
    "plt.scatter(fold_eval, fold_public_leaderboards, label=\"Random K-fold public results\", marker='o', c='white', edgecolors='blue')\n",
    "\n",
    "# Trend line\n",
    "z = np.polyfit(fold_eval + fold_eval, fold_private_leaderboards + fold_public_leaderboards, 1)\n",
    "poly_fold = np.poly1d(z)\n",
    "trend_x_fold = [min(fold_eval) - 0.02, max(fold_eval) + 0.02]\n",
    "plt.plot(trend_x_fold, poly_fold(trend_x_fold), c='blue', linestyle=\"--\", label=\"Trend line for Random K-fold\")\n",
    "\n",
    "plt.scatter(group_eval, group_private_leaderboards, label=\"Group K-fold private results\", marker='o', c='red')\n",
    "plt.scatter(group_eval, group_public_leaderboards, label=\"Group K-fold public results\", marker='o', c='white', edgecolors='red')\n",
    "\n",
    "# Trend line for group K-fold\n",
    "z = np.polyfit(group_eval + group_eval, group_private_leaderboards + group_public_leaderboards, 1)\n",
    "poly_group = np.poly1d(z)\n",
    "trend_x_group = [min(group_eval) - 0.02, max(group_eval) + 0.02]\n",
    "plt.plot(trend_x_group, poly_group(trend_x_group), c='red', linestyle=\"--\", label=\"Trend line for Group K-fold\")\n",
    "\n",
    "plt.xlabel(\"Evaluation MCRMSE\")\n",
    "plt.ylabel(\"Leaderboard MCRMSE\")\n",
    "plt.title(\"Leaderboard vs evaluation scores for Commonlit\")\n",
    "\n",
    "plt.axline((0.4, 0.4), (0.9, 0.9), linestyle=\"--\", linewidth=1, label=\"Diagonal line (leaderboard score = eval score)\")\n",
    "\n",
    "plt.legend()\n",
    "\n",
    "plt.show()"
   ]
  },
  {
   "cell_type": "markdown",
   "id": "998f8fa4-e79a-4a6f-99b7-2a414e7aced8",
   "metadata": {},
   "source": [
    "Results here are pretty interesting. It comes up, that:\n",
    "\n",
    "- `Group K-fold` constantly underestimates it classifiers while `Random K-fold` constatly overestimates them.\n",
    "- The mean leaderboard score of tuned on `Group K-fold` is less than the mean leaderboard score of tuned on `Random K-fold`. _But it doesn't look like a statistically significant result._\n",
    "- `Group K-fold`'s trend line is closer to diagonal by its angle, meaning that `Group K-fold` eval correlates with leaderboard score more. But both graphs aren't aligned in a good way. They have a huge variance across the trend line. Looks like a `Group K-fold` has an outlier that determines the arrangment of the trend line.\n",
    "\n",
    "#### Correlations between leaderboard and evaluation\n",
    "\n",
    "Let's also watch some correlation info and mean leaderboard score difference, assuming significance level of 0.05:"
   ]
  },
  {
   "cell_type": "code",
   "execution_count": 106,
   "id": "fc6768ea-9938-4e6e-b7d4-094204dbe398",
   "metadata": {},
   "outputs": [
    {
     "name": "stdout",
     "output_type": "stream",
     "text": [
      "Random K-fold correlation test\n"
     ]
    },
    {
     "data": {
      "text/html": [
       "<div>\n",
       "<style scoped>\n",
       "    .dataframe tbody tr th:only-of-type {\n",
       "        vertical-align: middle;\n",
       "    }\n",
       "\n",
       "    .dataframe tbody tr th {\n",
       "        vertical-align: top;\n",
       "    }\n",
       "\n",
       "    .dataframe thead th {\n",
       "        text-align: right;\n",
       "    }\n",
       "</style>\n",
       "<table border=\"1\" class=\"dataframe\">\n",
       "  <thead>\n",
       "    <tr style=\"text-align: right;\">\n",
       "      <th></th>\n",
       "      <th>Pearson</th>\n",
       "      <th>Spearman</th>\n",
       "    </tr>\n",
       "  </thead>\n",
       "  <tbody>\n",
       "    <tr>\n",
       "      <th>Correlation coefficient</th>\n",
       "      <td>0.151088</td>\n",
       "      <td>0.39036</td>\n",
       "    </tr>\n",
       "    <tr>\n",
       "      <th>P value</th>\n",
       "      <td>0.720992</td>\n",
       "      <td>0.33903</td>\n",
       "    </tr>\n",
       "  </tbody>\n",
       "</table>\n",
       "</div>"
      ],
      "text/plain": [
       "                          Pearson  Spearman\n",
       "Correlation coefficient  0.151088   0.39036\n",
       "P value                  0.720992   0.33903"
      ]
     },
     "execution_count": 106,
     "metadata": {},
     "output_type": "execute_result"
    }
   ],
   "source": [
    "print(\"Random K-fold correlation test\")\n",
    "\n",
    "fold_pearson = pearsonr(fold_private_leaderboards + fold_public_leaderboards, fold_eval * 2)\n",
    "fold_spearman = spearmanr(fold_private_leaderboards + fold_public_leaderboards, fold_eval * 2)\n",
    "\n",
    "pd.DataFrame({\"Pearson\": [fold_pearson.statistic, fold_pearson.pvalue], \"Spearman\": [fold_spearman.statistic, fold_spearman.pvalue]},\n",
    "            index=[\"Correlation coefficient\", \"P value\"])"
   ]
  },
  {
   "cell_type": "code",
   "execution_count": 109,
   "id": "81676675-58d5-4e28-b80b-43f2e9b1f188",
   "metadata": {},
   "outputs": [
    {
     "name": "stdout",
     "output_type": "stream",
     "text": [
      "Group K-fold correlation test\n"
     ]
    },
    {
     "data": {
      "text/html": [
       "<div>\n",
       "<style scoped>\n",
       "    .dataframe tbody tr th:only-of-type {\n",
       "        vertical-align: middle;\n",
       "    }\n",
       "\n",
       "    .dataframe tbody tr th {\n",
       "        vertical-align: top;\n",
       "    }\n",
       "\n",
       "    .dataframe thead th {\n",
       "        text-align: right;\n",
       "    }\n",
       "</style>\n",
       "<table border=\"1\" class=\"dataframe\">\n",
       "  <thead>\n",
       "    <tr style=\"text-align: right;\">\n",
       "      <th></th>\n",
       "      <th>Pearson</th>\n",
       "      <th>Spearman</th>\n",
       "    </tr>\n",
       "  </thead>\n",
       "  <tbody>\n",
       "    <tr>\n",
       "      <th>Correlation coefficient</th>\n",
       "      <td>0.253752</td>\n",
       "      <td>0.048795</td>\n",
       "    </tr>\n",
       "    <tr>\n",
       "      <th>P value</th>\n",
       "      <td>0.544244</td>\n",
       "      <td>0.908654</td>\n",
       "    </tr>\n",
       "  </tbody>\n",
       "</table>\n",
       "</div>"
      ],
      "text/plain": [
       "                          Pearson  Spearman\n",
       "Correlation coefficient  0.253752  0.048795\n",
       "P value                  0.544244  0.908654"
      ]
     },
     "execution_count": 109,
     "metadata": {},
     "output_type": "execute_result"
    }
   ],
   "source": [
    "print(\"Group K-fold correlation test\")\n",
    "\n",
    "group_pearson = pearsonr(group_private_leaderboards + group_public_leaderboards, group_eval * 2)\n",
    "group_spearman = spearmanr(group_private_leaderboards + group_public_leaderboards, group_eval * 2)\n",
    "\n",
    "pd.DataFrame({\"Pearson\": [group_pearson.statistic, group_pearson.pvalue], \"Spearman\": [group_spearman.statistic, group_spearman.pvalue]},\n",
    "            index=[\"Correlation coefficient\", \"P value\"])"
   ]
  },
  {
   "cell_type": "markdown",
   "id": "783cb5dc-597d-4914-8822-f0fdc623cf67",
   "metadata": {},
   "source": [
    "All the correlations are positive. Pearson correlation for `Group K-fold` is bigger, but Spearman correlation is significantly bigger for `Random K-fold` (however, with medium p-value). Spearman correlation for the `Group K-fold` is almost zero. Interesting results that show that the difference between evaluation methods aren't very significant.\n",
    "\n",
    "#### Statistical tests on distributions\n",
    "\n",
    "Now let's warch on leaderboard distribution's difference.\n",
    "\n",
    "**Leaderboard scores comparison**"
   ]
  },
  {
   "cell_type": "code",
   "execution_count": 138,
   "id": "521eed89-40f7-42fe-a5de-4f3a3b69c6ff",
   "metadata": {},
   "outputs": [
    {
     "data": {
      "image/png": "[encoded data removed]",
      "text/plain": [
       "<Figure size 1000x500 with 2 Axes>"
      ]
     },
     "metadata": {},
     "output_type": "display_data"
    }
   ],
   "source": [
    "fig, axs = plt.subplots(1, 2, figsize=(10, 5), sharey=True)\n",
    "\n",
    "global_min = min(fold_private_leaderboards + fold_public_leaderboards + group_private_leaderboards + group_public_leaderboards)\n",
    "global_max = max(fold_private_leaderboards + fold_public_leaderboards + group_private_leaderboards + group_public_leaderboards)\n",
    "\n",
    "axs[0].hist(fold_private_leaderboards + fold_public_leaderboards, bins=4, range=[global_min, global_max])\n",
    "axs[1].hist(group_private_leaderboards + group_public_leaderboards, bins=4, range=[global_min, global_max])\n",
    "\n",
    "axs[0].set_title(\"Random K-fold leaderboard scores distribution\")\n",
    "axs[1].set_title(\"Group K-fold leaderboard scores distribution\")\n",
    "\n",
    "plt.show()"
   ]
  },
  {
   "cell_type": "markdown",
   "id": "dd1e1129-54d3-471a-984e-5ff0ba47057e",
   "metadata": {},
   "source": [
    "Variance inequality test:"
   ]
  },
  {
   "cell_type": "code",
   "execution_count": 121,
   "id": "333b3ae7-e5b5-45be-85b9-9252aa73ed1d",
   "metadata": {},
   "outputs": [
    {
     "data": {
      "text/plain": [
       "LeveneResult(statistic=0.09750425214342677, pvalue=0.7594477885480175)"
      ]
     },
     "execution_count": 121,
     "metadata": {},
     "output_type": "execute_result"
    }
   ],
   "source": [
    "levene(fold_private_leaderboards + fold_public_leaderboards, group_private_leaderboards + group_public_leaderboards)"
   ]
  },
  {
   "cell_type": "markdown",
   "id": "3ac791a5-546a-4905-88ca-86cac6a112d7",
   "metadata": {},
   "source": [
    "p-value is bigger than alpha, so we can't assume that H1 is right (variances are different)."
   ]
  },
  {
   "cell_type": "code",
   "execution_count": 119,
   "id": "b122ee46-d469-4209-8c1c-34d844ba0e66",
   "metadata": {},
   "outputs": [
    {
     "data": {
      "text/plain": [
       "TtestResult(statistic=0.37347499095107695, pvalue=0.7143895415787043, df=14.0)"
      ]
     },
     "execution_count": 119,
     "metadata": {},
     "output_type": "execute_result"
    }
   ],
   "source": [
    "ttest_ind(a=fold_private_leaderboards + fold_public_leaderboards, b=group_private_leaderboards + group_public_leaderboards, equal_var=True)"
   ]
  },
  {
   "cell_type": "markdown",
   "id": "466d3c54-8664-48b3-85ef-bc1a89bc1314",
   "metadata": {},
   "source": [
    "p-value here is much bigger than the chosen significance level, so we can't reject the null hypothesis of the equality of means.\n",
    "\n",
    "That means that the results of both evaluation methods for tuning may come from the same distribution on the leaderboard, there are no significant difference between the tunuing results.\n",
    "\n",
    "**Random K-fold leaderboard and eval scores comparison**"
   ]
  },
  {
   "cell_type": "code",
   "execution_count": 142,
   "id": "b3f8d2e0-d59c-4ece-b8d6-79dff76e9934",
   "metadata": {},
   "outputs": [
    {
     "data": {
      "image/png": "[encoded data removed]",
      "text/plain": [
       "<Figure size 1000x500 with 2 Axes>"
      ]
     },
     "metadata": {},
     "output_type": "display_data"
    }
   ],
   "source": [
    "fig, axs = plt.subplots(1, 2, figsize=(10, 5), sharey=True)\n",
    "\n",
    "global_min = min(fold_private_leaderboards + fold_public_leaderboards + fold_eval)\n",
    "global_max = max(fold_private_leaderboards + fold_public_leaderboards + fold_eval)\n",
    "\n",
    "axs[0].hist(fold_private_leaderboards + fold_public_leaderboards, bins=4, range=[global_min, global_max])\n",
    "axs[1].hist(fold_eval, bins=4, range=[global_min, global_max])\n",
    "\n",
    "axs[0].set_title(\"Random K-fold leaderboard scores distribution\")\n",
    "axs[1].set_title(\"Random K-fold eval scores distribution\")\n",
    "\n",
    "plt.show()"
   ]
  },
  {
   "cell_type": "code",
   "execution_count": 140,
   "id": "536a13fb-d1a5-4888-af6c-608660562886",
   "metadata": {},
   "outputs": [
    {
     "data": {
      "text/plain": [
       "LeveneResult(statistic=0.37840676753187524, pvalue=0.5521977823001033)"
      ]
     },
     "execution_count": 140,
     "metadata": {},
     "output_type": "execute_result"
    }
   ],
   "source": [
    "levene(fold_private_leaderboards + fold_public_leaderboards, fold_eval)"
   ]
  },
  {
   "cell_type": "markdown",
   "id": "2c342c65-677d-4d42-a527-35dbd235fb4f",
   "metadata": {},
   "source": [
    "p-value is bigger than alpha, so we can't assume that H1 is right (variances are different)."
   ]
  },
  {
   "cell_type": "code",
   "execution_count": 141,
   "id": "a62e0369-1867-4dd5-ae3d-676cd6cd0357",
   "metadata": {},
   "outputs": [
    {
     "data": {
      "text/plain": [
       "TtestResult(statistic=4.65695097780173, pvalue=0.0008984770601700977, df=10.0)"
      ]
     },
     "execution_count": 141,
     "metadata": {},
     "output_type": "execute_result"
    }
   ],
   "source": [
    "ttest_ind(a=fold_private_leaderboards + fold_public_leaderboards, b=fold_eval, equal_var=True)"
   ]
  },
  {
   "cell_type": "markdown",
   "id": "0988980c-ba5a-4636-b2b7-3bbced746a6a",
   "metadata": {},
   "source": [
    "p-value here is smaller than the chosen significance level, so we can reject the null hypothesis of the equality of means.\n",
    "\n",
    "That means that the results leaderboard score distribution has different mean than the eval for the `Random K-fold`. In this case, it is obviously bigger in mean.\n",
    "\n",
    "**Group K-fold leaderboard and eval scores comparison**"
   ]
  },
  {
   "cell_type": "code",
   "execution_count": 144,
   "id": "0515ad7c-720c-404a-8a9b-a972982bbb45",
   "metadata": {},
   "outputs": [
    {
     "data": {
      "image/png": "[encoded data removed]",
      "text/plain": [
       "<Figure size 1000x500 with 2 Axes>"
      ]
     },
     "metadata": {},
     "output_type": "display_data"
    }
   ],
   "source": [
    "fig, axs = plt.subplots(1, 2, figsize=(10, 5), sharey=True)\n",
    "\n",
    "global_min = min(group_private_leaderboards + group_public_leaderboards + group_eval)\n",
    "global_max = max(group_private_leaderboards + group_public_leaderboards + group_eval)\n",
    "\n",
    "axs[0].hist(group_private_leaderboards + group_public_leaderboards, bins=4, range=[global_min, global_max])\n",
    "axs[1].hist(group_eval, bins=4, range=[global_min, global_max])\n",
    "\n",
    "axs[0].set_title(\"Group K-fold leaderboard scores distribution\")\n",
    "axs[1].set_title(\"Group K-fold eval scores distribution\")\n",
    "\n",
    "plt.show()"
   ]
  },
  {
   "cell_type": "code",
   "execution_count": 145,
   "id": "77188f2a-0d57-48f3-bb53-898a823de9de",
   "metadata": {},
   "outputs": [
    {
     "data": {
      "text/plain": [
       "LeveneResult(statistic=0.5097228900223635, pvalue=0.4915864349611446)"
      ]
     },
     "execution_count": 145,
     "metadata": {},
     "output_type": "execute_result"
    }
   ],
   "source": [
    "levene(group_private_leaderboards + group_public_leaderboards, group_eval)"
   ]
  },
  {
   "cell_type": "markdown",
   "id": "b55dbf1a-bba2-4599-a593-5730f03f8e80",
   "metadata": {},
   "source": [
    "p-value is bigger than alpha, so we can't assume that H1 is right (variances are different)."
   ]
  },
  {
   "cell_type": "code",
   "execution_count": 146,
   "id": "fb2f80fd-bb4c-4831-afaa-748ba1726092",
   "metadata": {},
   "outputs": [
    {
     "data": {
      "text/plain": [
       "TtestResult(statistic=-3.7781881199056278, pvalue=0.0036126785224621983, df=10.0)"
      ]
     },
     "execution_count": 146,
     "metadata": {},
     "output_type": "execute_result"
    }
   ],
   "source": [
    "ttest_ind(a=group_private_leaderboards + group_public_leaderboards, b=group_eval, equal_var=True)"
   ]
  },
  {
   "cell_type": "markdown",
   "id": "811ce620-dd5d-48e8-bd95-bf9f696532d3",
   "metadata": {},
   "source": [
    "p-value here is smaller than the chosen significance level, so we can reject the null hypothesis of the equality of means.\n",
    "\n",
    "That means that the results leaderboard score distribution has different mean than the eval for the `Group K-fold` method. In this case, leaderboard scores are obviously smaller in mean. "
   ]
  },
  {
   "cell_type": "markdown",
   "id": "020cdf57-da63-43c6-9b3b-1abaa172f1ee",
   "metadata": {},
   "source": [
    "### Conclusion\n",
    "\n",
    "Given plots and statistical tests, it seems that both evaluation methods are valid and correlate with the final result in the same way.\n",
    "It would be great to have bigger number of models compared for more statistical significancy.\n",
    "\n",
    "So, a `Random K-fold` performs the same way as a `Group K-fold` does. Logically, it shouldn't be the case because there are other prompts (groups) used on the leaderboard. Still, there can be some leakage in a form of students who have their essays both in the training and testing set.\n",
    "\n",
    "Both approaches correlate with the leaderboard, but with quite a weak correlation. \n",
    "\n",
    "In a real-world scenario, on production, I would have definitely chosen the `Group K-fold` approach:\n",
    "- It simply has a stronger assumption. `Random K-fold` checks the model's ability to remember good answers to existing questions, while the `Group K-fold` allows it to check its generalization ability. So, it is much more helpful if the model can work with basically every data in the given format, not just very close to the training. \n",
    "- In this case, it was also shown that this approach is the one that underestimates the metrics. It is better to have metrics underestimated than overestimated."
   ]
  }
 ],
 "metadata": {
  "kernelspec": {
   "display_name": "Python 3 (ipykernel)",
   "language": "python",
   "name": "python3"
  },
  "language_info": {
   "codemirror_mode": {
    "name": "ipython",
    "version": 3
   },
   "file_extension": ".py",
   "mimetype": "text/x-python",
   "name": "python",
   "nbconvert_exporter": "python",
   "pygments_lexer": "ipython3",
   "version": "3.11.4"
  }
 },
 "nbformat": 4,
 "nbformat_minor": 5
}
