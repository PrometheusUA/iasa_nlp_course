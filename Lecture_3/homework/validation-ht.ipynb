{
 "cells": [
  {
   "cell_type": "markdown",
   "id": "de82f84e-dfb0-45f2-9711-4d059dfa50ed",
   "metadata": {},
   "source": [
    "# Andrii Shevtsov homework 3, IASA NLP\n",
    "\n",
    "## Imports and constants"
   ]
  },
  {
   "cell_type": "code",
   "execution_count": 119,
   "id": "21ce3bbe-c207-4adb-848b-2e2efc6d5c68",
   "metadata": {
    "tags": []
   },
   "outputs": [],
   "source": [
    "import pandas as pd\n",
    "from sklearn.model_selection import train_test_split\n",
    "from sklearn.feature_extraction.text import TfidfVectorizer, CountVectorizer\n",
    "from sklearn.linear_model import LogisticRegression\n",
    "from sklearn.pipeline import Pipeline\n",
    "from sklearn.svm import LinearSVC\n",
    "from sklearn.tree import DecisionTreeClassifier\n",
    "from sklearn.metrics import f1_score, make_scorer, roc_auc_score\n",
    "from sklearn.model_selection import KFold, StratifiedKFold, cross_val_score\n",
    "from nltk.stem import PorterStemmer\n",
    "import nltk\n",
    "from nltk.corpus import stopwords\n",
    "import gensim\n",
    "import matplotlib.pyplot as plt"
   ]
  },
  {
   "cell_type": "code",
   "execution_count": 6,
   "id": "4a0dc5ad-1a85-4ebe-8b3e-6f5d260553ec",
   "metadata": {
    "tags": []
   },
   "outputs": [],
   "source": [
    "DISASTERS_TRAIN_PATH = '../../data/nlp_getting_started/train.csv'\n",
    "DISASTERS_TEST_PATH = '../../data/nlp_getting_started/test.csv'"
   ]
  },
  {
   "cell_type": "markdown",
   "id": "27b7236a-7518-433b-bceb-1bf9a8571f40",
   "metadata": {},
   "source": [
    "## Natural Language Processing with Disaster Tweets"
   ]
  },
  {
   "cell_type": "markdown",
   "id": "a749ffec-9d87-411d-bc9d-441bd662606c",
   "metadata": {},
   "source": [
    "### Validation consistency\n",
    "\n",
    "In the original problem, there is a simple random train/test split, so we will also make some random ungrouped splits and see the tresults."
   ]
  },
  {
   "cell_type": "code",
   "execution_count": 13,
   "id": "ad4f2ff8-0a04-4a78-a6d9-c7dc5b6541e3",
   "metadata": {
    "tags": []
   },
   "outputs": [
    {
     "data": {
      "text/html": [
       "<div>\n",
       "<style scoped>\n",
       "    .dataframe tbody tr th:only-of-type {\n",
       "        vertical-align: middle;\n",
       "    }\n",
       "\n",
       "    .dataframe tbody tr th {\n",
       "        vertical-align: top;\n",
       "    }\n",
       "\n",
       "    .dataframe thead th {\n",
       "        text-align: right;\n",
       "    }\n",
       "</style>\n",
       "<table border=\"1\" class=\"dataframe\">\n",
       "  <thead>\n",
       "    <tr style=\"text-align: right;\">\n",
       "      <th></th>\n",
       "      <th>keyword</th>\n",
       "      <th>location</th>\n",
       "      <th>text</th>\n",
       "      <th>target</th>\n",
       "    </tr>\n",
       "    <tr>\n",
       "      <th>id</th>\n",
       "      <th></th>\n",
       "      <th></th>\n",
       "      <th></th>\n",
       "      <th></th>\n",
       "    </tr>\n",
       "  </thead>\n",
       "  <tbody>\n",
       "    <tr>\n",
       "      <th>1</th>\n",
       "      <td>NaN</td>\n",
       "      <td>NaN</td>\n",
       "      <td>Our Deeds are the Reason of this #earthquake M...</td>\n",
       "      <td>1</td>\n",
       "    </tr>\n",
       "    <tr>\n",
       "      <th>4</th>\n",
       "      <td>NaN</td>\n",
       "      <td>NaN</td>\n",
       "      <td>Forest fire near La Ronge Sask. Canada</td>\n",
       "      <td>1</td>\n",
       "    </tr>\n",
       "    <tr>\n",
       "      <th>5</th>\n",
       "      <td>NaN</td>\n",
       "      <td>NaN</td>\n",
       "      <td>All residents asked to 'shelter in place' are ...</td>\n",
       "      <td>1</td>\n",
       "    </tr>\n",
       "    <tr>\n",
       "      <th>6</th>\n",
       "      <td>NaN</td>\n",
       "      <td>NaN</td>\n",
       "      <td>13,000 people receive #wildfires evacuation or...</td>\n",
       "      <td>1</td>\n",
       "    </tr>\n",
       "    <tr>\n",
       "      <th>7</th>\n",
       "      <td>NaN</td>\n",
       "      <td>NaN</td>\n",
       "      <td>Just got sent this photo from Ruby #Alaska as ...</td>\n",
       "      <td>1</td>\n",
       "    </tr>\n",
       "  </tbody>\n",
       "</table>\n",
       "</div>"
      ],
      "text/plain": [
       "   keyword location                                               text  target\n",
       "id                                                                            \n",
       "1      NaN      NaN  Our Deeds are the Reason of this #earthquake M...       1\n",
       "4      NaN      NaN             Forest fire near La Ronge Sask. Canada       1\n",
       "5      NaN      NaN  All residents asked to 'shelter in place' are ...       1\n",
       "6      NaN      NaN  13,000 people receive #wildfires evacuation or...       1\n",
       "7      NaN      NaN  Just got sent this photo from Ruby #Alaska as ...       1"
      ]
     },
     "execution_count": 13,
     "metadata": {},
     "output_type": "execute_result"
    }
   ],
   "source": [
    "df_twitter_train = pd.read_csv(DISASTERS_TRAIN_PATH, index_col='id')\n",
    "df_twitter_test = pd.read_csv(DISASTERS_TEST_PATH, index_col='id')\n",
    "\n",
    "df_twitter_train.head()"
   ]
  },
  {
   "cell_type": "code",
   "execution_count": 26,
   "id": "bfb85e4c-bfb7-49d2-9d30-ccb69618d069",
   "metadata": {
    "tags": []
   },
   "outputs": [
    {
     "name": "stderr",
     "output_type": "stream",
     "text": [
      "[nltk_data] Downloading package stopwords to\n",
      "[nltk_data]     C:\\Users\\Andrii\\AppData\\Roaming\\nltk_data...\n",
      "[nltk_data]   Package stopwords is already up-to-date!\n"
     ]
    }
   ],
   "source": [
    "nltk.download('stopwords')\n",
    "\n",
    "stop_words = stopwords.words('english')\n",
    "stop_words.extend(['from', 'subject', 're', 'edu', 'use', 'good', 'bad', 'people']) #stopwords extended a bit\n",
    "\n",
    "def preprocess(text, join_back=True, stemmer = PorterStemmer()):\n",
    "    result = []\n",
    "    for token in gensim.utils.simple_preprocess(text):\n",
    "        if (\n",
    "            token not in gensim.parsing.preprocessing.STOPWORDS and \n",
    "            token not in stop_words\n",
    "        ):\n",
    "            result.append(token)\n",
    "    \n",
    "    result = [stemmer.stem(word) for word in result]\n",
    "    if join_back:\n",
    "        result = \" \".join(result)\n",
    "    \n",
    "    return result"
   ]
  },
  {
   "cell_type": "code",
   "execution_count": 46,
   "id": "8d8df533-7a30-408c-9306-f9b13493cdb0",
   "metadata": {
    "tags": []
   },
   "outputs": [
    {
     "data": {
      "text/html": [
       "<div>\n",
       "<style scoped>\n",
       "    .dataframe tbody tr th:only-of-type {\n",
       "        vertical-align: middle;\n",
       "    }\n",
       "\n",
       "    .dataframe tbody tr th {\n",
       "        vertical-align: top;\n",
       "    }\n",
       "\n",
       "    .dataframe thead th {\n",
       "        text-align: right;\n",
       "    }\n",
       "</style>\n",
       "<table border=\"1\" class=\"dataframe\">\n",
       "  <thead>\n",
       "    <tr style=\"text-align: right;\">\n",
       "      <th></th>\n",
       "      <th>keyword</th>\n",
       "      <th>location</th>\n",
       "      <th>text</th>\n",
       "      <th>target</th>\n",
       "      <th>text_clean</th>\n",
       "      <th>text_full</th>\n",
       "    </tr>\n",
       "    <tr>\n",
       "      <th>id</th>\n",
       "      <th></th>\n",
       "      <th></th>\n",
       "      <th></th>\n",
       "      <th></th>\n",
       "      <th></th>\n",
       "      <th></th>\n",
       "    </tr>\n",
       "  </thead>\n",
       "  <tbody>\n",
       "    <tr>\n",
       "      <th>1</th>\n",
       "      <td>NaN</td>\n",
       "      <td>NaN</td>\n",
       "      <td>Our Deeds are the Reason of this #earthquake M...</td>\n",
       "      <td>1</td>\n",
       "      <td>deed reason earthquak allah forgiv</td>\n",
       "      <td>Our Deeds are the Reason of this #earthquake M...</td>\n",
       "    </tr>\n",
       "    <tr>\n",
       "      <th>4</th>\n",
       "      <td>NaN</td>\n",
       "      <td>NaN</td>\n",
       "      <td>Forest fire near La Ronge Sask. Canada</td>\n",
       "      <td>1</td>\n",
       "      <td>forest near la rong sask canada</td>\n",
       "      <td>Forest fire near La Ronge Sask. Canada</td>\n",
       "    </tr>\n",
       "    <tr>\n",
       "      <th>5</th>\n",
       "      <td>NaN</td>\n",
       "      <td>NaN</td>\n",
       "      <td>All residents asked to 'shelter in place' are ...</td>\n",
       "      <td>1</td>\n",
       "      <td>resid ask shelter place notifi offic evacu she...</td>\n",
       "      <td>All residents asked to 'shelter in place' are ...</td>\n",
       "    </tr>\n",
       "    <tr>\n",
       "      <th>6</th>\n",
       "      <td>NaN</td>\n",
       "      <td>NaN</td>\n",
       "      <td>13,000 people receive #wildfires evacuation or...</td>\n",
       "      <td>1</td>\n",
       "      <td>receiv wildfir evacu order california</td>\n",
       "      <td>13,000 people receive #wildfires evacuation or...</td>\n",
       "    </tr>\n",
       "    <tr>\n",
       "      <th>7</th>\n",
       "      <td>NaN</td>\n",
       "      <td>NaN</td>\n",
       "      <td>Just got sent this photo from Ruby #Alaska as ...</td>\n",
       "      <td>1</td>\n",
       "      <td>got sent photo rubi alaska smoke wildfir pour ...</td>\n",
       "      <td>Just got sent this photo from Ruby #Alaska as ...</td>\n",
       "    </tr>\n",
       "  </tbody>\n",
       "</table>\n",
       "</div>"
      ],
      "text/plain": [
       "   keyword location                                               text  \\\n",
       "id                                                                       \n",
       "1      NaN      NaN  Our Deeds are the Reason of this #earthquake M...   \n",
       "4      NaN      NaN             Forest fire near La Ronge Sask. Canada   \n",
       "5      NaN      NaN  All residents asked to 'shelter in place' are ...   \n",
       "6      NaN      NaN  13,000 people receive #wildfires evacuation or...   \n",
       "7      NaN      NaN  Just got sent this photo from Ruby #Alaska as ...   \n",
       "\n",
       "    target                                         text_clean  \\\n",
       "id                                                              \n",
       "1        1                 deed reason earthquak allah forgiv   \n",
       "4        1                    forest near la rong sask canada   \n",
       "5        1  resid ask shelter place notifi offic evacu she...   \n",
       "6        1              receiv wildfir evacu order california   \n",
       "7        1  got sent photo rubi alaska smoke wildfir pour ...   \n",
       "\n",
       "                                            text_full  \n",
       "id                                                     \n",
       "1   Our Deeds are the Reason of this #earthquake M...  \n",
       "4            Forest fire near La Ronge Sask. Canada    \n",
       "5   All residents asked to 'shelter in place' are ...  \n",
       "6   13,000 people receive #wildfires evacuation or...  \n",
       "7   Just got sent this photo from Ruby #Alaska as ...  "
      ]
     },
     "execution_count": 46,
     "metadata": {},
     "output_type": "execute_result"
    }
   ],
   "source": [
    "create_full_text = lambda row: row['text'] + ' ' + (str(row['keyword']) if not pd.isnull(row['keyword']) else '') + ' ' + (str(row['location']) if not pd.isnull(row['location']) else '')\n",
    "\n",
    "df_twitter_train['text_full'] = df_twitter_train.apply(create_full_text, axis=1)\n",
    "df_twitter_test['text_full'] = df_twitter_test.apply(create_full_text, axis=1)\n",
    "\n",
    "df_twitter_train['text_clean'] = df_twitter_train['text_full'].apply(preprocess)\n",
    "df_twitter_test['text_clean'] = df_twitter_test['text_full'].apply(preprocess)\n",
    "\n",
    "df_twitter_train.head()"
   ]
  },
  {
   "cell_type": "code",
   "execution_count": 80,
   "id": "a337d945-5e56-4473-83c9-cb90c1b6ddf0",
   "metadata": {
    "tags": []
   },
   "outputs": [],
   "source": [
    "classifiers = {\n",
    "    \"logistic_regression\": Pipeline([\n",
    "    ('vectorizer', TfidfVectorizer(\n",
    "        analyzer='word',\n",
    "        stop_words='english',\n",
    "        ngram_range=(1, 3),\n",
    "        lowercase=True,\n",
    "        min_df=5,\n",
    "        max_features=30000\n",
    "    )),  \n",
    "    ('classifier', LogisticRegression())\n",
    "]),\n",
    "    \"support_vector_machine\": Pipeline([\n",
    "    ('vectorizer', TfidfVectorizer(\n",
    "        analyzer='word',\n",
    "        stop_words='english',\n",
    "        ngram_range=(1, 3),\n",
    "        lowercase=True,\n",
    "        min_df=5,\n",
    "        max_features=30000\n",
    "    )),  \n",
    "    ('classifier', LinearSVC(dual=\"auto\"))\n",
    "]),\n",
    "    \"decision_tree\": Pipeline([\n",
    "    ('vectorizer', TfidfVectorizer(\n",
    "        analyzer='word',\n",
    "        stop_words='english',\n",
    "        ngram_range=(1, 3),\n",
    "        lowercase=True,\n",
    "        min_df=5,\n",
    "        max_features=30000\n",
    "    )),  \n",
    "    ('classifier', DecisionTreeClassifier())\n",
    "])\n",
    "              }"
   ]
  },
  {
   "cell_type": "markdown",
   "id": "8183d50a-3117-4c89-b524-a837463f2b62",
   "metadata": {},
   "source": [
    "Let's compare three methods: holdout set, k-fold and stratified K-fold.\n",
    "\n",
    "#### Holdout set"
   ]
  },
  {
   "cell_type": "code",
   "execution_count": 81,
   "id": "6704c7a5-720f-4ce7-b66c-1715c4e7043b",
   "metadata": {
    "tags": []
   },
   "outputs": [],
   "source": [
    "X_train, y_train = df_twitter_train['text_clean'], df_twitter_train['target']\n",
    "X_test = df_twitter_test['text_clean']\n",
    "\n",
    "X_train, X_val, y_train, y_val = train_test_split(X_train, y_train, test_size=0.2)"
   ]
  },
  {
   "cell_type": "code",
   "execution_count": 87,
   "id": "017e91e5-33cc-49ff-afd3-32eb4a1e55a5",
   "metadata": {
    "tags": []
   },
   "outputs": [
    {
     "name": "stdout",
     "output_type": "stream",
     "text": [
      "Holdout set, classifier logistic_regression:\n",
      "\tTrain F1 = 0.8152\n",
      "\tVal F1  = 0.7481\n",
      "Holdout set, classifier support_vector_machine:\n",
      "\tTrain F1 = 0.8875\n",
      "\tVal F1  = 0.7377\n",
      "Holdout set, classifier decision_tree:\n",
      "\tTrain F1 = 0.9896\n",
      "\tVal F1  = 0.6796\n"
     ]
    }
   ],
   "source": [
    "for pipe_name, pipe in classifiers.items():\n",
    "    pipe.fit(X_train, y_train)\n",
    "    train_score = f1_score(y_train, pipe.predict(X_train))\n",
    "    val_score = f1_score(y_val, pipe.predict(X_val))\n",
    "    \n",
    "    y_test_pred = pipe.predict(X_test)\n",
    "    df_submission = df_twitter_test.copy()\n",
    "    df_submission['target'] = y_test_pred\n",
    "    df_submission.loc[:, ['target']].to_csv(f'./submissions/submission_{pipe_name}_holdout.csv')\n",
    "    \n",
    "    print(f\"Holdout set, classifier {pipe_name}:\\n\\tTrain F1 = {train_score:.4f}\\n\\tVal F1  = {val_score:.4f}\")"
   ]
  },
  {
   "cell_type": "markdown",
   "id": "df609fbb-c0e6-4634-ae3f-47d7ac7322d6",
   "metadata": {},
   "source": [
    "#### 5-fold CV"
   ]
  },
  {
   "cell_type": "code",
   "execution_count": 104,
   "id": "4474c176-b728-44d5-8b17-dab03aa1d8b6",
   "metadata": {
    "tags": []
   },
   "outputs": [],
   "source": [
    "cv = KFold(n_splits=5, shuffle=True)"
   ]
  },
  {
   "cell_type": "code",
   "execution_count": 105,
   "id": "7c6dff91-491b-4528-adcc-4ca522f4c126",
   "metadata": {
    "tags": []
   },
   "outputs": [
    {
     "name": "stdout",
     "output_type": "stream",
     "text": [
      "K Fold, classifier logistic_regression:\n",
      "\tMean val F1  = 0.7478\n",
      "K Fold, classifier support_vector_machine:\n",
      "\tMean val F1  = 0.7328\n",
      "K Fold, classifier decision_tree:\n",
      "\tMean val F1  = 0.6542\n"
     ]
    }
   ],
   "source": [
    "for pipe_name, pipe in classifiers.items():\n",
    "    val_scores = cross_val_score(pipe, df_twitter_train['text_clean'], df_twitter_train['target'], cv=cv, scoring='f1')\n",
    "    \n",
    "    pipe.fit(df_twitter_train['text_clean'], df_twitter_train['target'])\n",
    "    \n",
    "    y_test_pred = pipe.predict(X_test)\n",
    "    df_submission = df_twitter_test.copy()\n",
    "    df_submission['target'] = y_test_pred\n",
    "    df_submission.loc[:, ['target']].to_csv(f'./submissions/submission_{pipe_name}_kfold.csv')\n",
    "\n",
    "    print(f\"K Fold, classifier {pipe_name}:\\n\\tMean val F1  = {(val_scores).mean():.4f}\")"
   ]
  },
  {
   "cell_type": "markdown",
   "id": "4ffbca69-4dea-4aa2-a1ed-83de2e7f48a3",
   "metadata": {
    "tags": []
   },
   "source": [
    "#### Stratified 5-fold CV\n",
    "\n",
    "We don't save submissions here, because they are the same as for the simple KFold"
   ]
  },
  {
   "cell_type": "code",
   "execution_count": 106,
   "id": "787c6fb6-fe3a-420b-a985-909ab7f408a9",
   "metadata": {
    "tags": []
   },
   "outputs": [],
   "source": [
    "cv_strat = StratifiedKFold(n_splits=5, shuffle=True)"
   ]
  },
  {
   "cell_type": "code",
   "execution_count": 107,
   "id": "42f84c2a-9d67-4d9a-86f6-3bca0f7954e5",
   "metadata": {
    "tags": []
   },
   "outputs": [
    {
     "name": "stdout",
     "output_type": "stream",
     "text": [
      "Stratified K Fold, classifier logistic_regression:\n",
      "\tMean val F1  = 0.7411\n",
      "Stratified K Fold, classifier support_vector_machine:\n",
      "\tMean val F1  = 0.7407\n",
      "Stratified K Fold, classifier decision_tree:\n",
      "\tMean val F1  = 0.6578\n"
     ]
    }
   ],
   "source": [
    "for pipe_name, pipe in classifiers.items():\n",
    "    val_scores = cross_val_score(pipe, df_twitter_train['text_clean'], df_twitter_train['target'], cv=cv_strat, scoring='f1')\n",
    "    print(f\"Stratified K Fold, classifier {pipe_name}:\\n\\tMean val F1  = {(val_scores).mean():.4f}\")"
   ]
  },
  {
   "cell_type": "markdown",
   "id": "d0957715-df23-44fe-a6c5-475296d184fd",
   "metadata": {},
   "source": [
    "#### Results\n",
    "\n",
    "Scores look like the following:\n",
    "\n",
    "![Scores for these submissions](./images/submissions_disaster_tweets.png)\n",
    "\n",
    "Let's draw a plot of evaluation / leaderboard score: "
   ]
  },
  {
   "cell_type": "code",
   "execution_count": 110,
   "id": "85ff6437-f145-49ba-babf-47e89846cdac",
   "metadata": {
    "tags": []
   },
   "outputs": [
    {
     "data": {
      "image/png": "[encoded data removed]",
      "text/plain": [
       "<Figure size 640x480 with 1 Axes>"
      ]
     },
     "metadata": {},
     "output_type": "display_data"
    }
   ],
   "source": [
    "plt.scatter([0.7481, 0.7377, 0.6796], [0.78302, 0.77474, 0.70977], label=\"Holdout test results\")\n",
    "plt.scatter([0.7478, 0.7328, 0.6542], [0.78516, 0.7775, 0.70671], label=\"5-fold test results\")\n",
    "plt.scatter([0.7411, 0.7407, 0.6578], [0.78516, 0.7775, 0.70671], label=\"Stratified 5-fold test results\")\n",
    "\n",
    "\n",
    "plt.xlabel(\"Evaluation score\")\n",
    "plt.ylabel(\"Leaderboard score\")\n",
    "plt.title(\"Leaderboard/evaluation F1s scores\")\n",
    "plt.legend()\n",
    "\n",
    "plt.axline((0.6509, 0.6509), (0.78516, 0.78516), linestyle=\"--\", linewidth=1)\n",
    "\n",
    "plt.show()"
   ]
  },
  {
   "cell_type": "markdown",
   "id": "26013e8e-420b-4297-9aa2-0b6ab166a622",
   "metadata": {},
   "source": [
    "Evaluation score definitely correlates with its leaderboard mate, but it is definitely a little bit lower for all the pipelines and evaluations.\n",
    "\n",
    "Probably it is the case because actually competition uses the macro F1, not simply F1 for the positive label.\n",
    "\n",
    "Let's try it:"
   ]
  },
  {
   "cell_type": "code",
   "execution_count": 98,
   "id": "2e8d6220-a166-4e9f-904b-d5c6f5b90fd2",
   "metadata": {
    "tags": []
   },
   "outputs": [
    {
     "name": "stdout",
     "output_type": "stream",
     "text": [
      "Holdout set, classifier logistic_regression:\n",
      "\tTrain F1 = 0.8456\n",
      "\tVal F1  = 0.7910\n",
      "Holdout set, classifier support_vector_machine:\n",
      "\tTrain F1 = 0.9039\n",
      "\tVal F1  = 0.7789\n",
      "Holdout set, classifier decision_tree:\n",
      "\tTrain F1 = 0.9909\n",
      "\tVal F1  = 0.7162\n"
     ]
    }
   ],
   "source": [
    "for pipe_name, pipe in classifiers.items():\n",
    "    pipe.fit(X_train, y_train)\n",
    "    train_score = f1_score(y_train, pipe.predict(X_train), average='macro')\n",
    "    val_score = f1_score(y_val, pipe.predict(X_val), average='macro')\n",
    "    \n",
    "    print(f\"Holdout set, classifier {pipe_name}:\\n\\tTrain F1 = {train_score:.4f}\\n\\tVal F1  = {val_score:.4f}\")"
   ]
  },
  {
   "cell_type": "code",
   "execution_count": 111,
   "id": "3eedb804-f44c-4694-b03e-b88ac0e5bf67",
   "metadata": {
    "tags": []
   },
   "outputs": [
    {
     "name": "stdout",
     "output_type": "stream",
     "text": [
      "K Fold, classifier logistic_regression:\n",
      "\tMean val macro F1  = 0.7814\n",
      "K Fold, classifier support_vector_machine:\n",
      "\tMean val macro F1  = 0.7787\n",
      "K Fold, classifier decision_tree:\n",
      "\tMean val macro F1  = 0.7057\n"
     ]
    }
   ],
   "source": [
    "for pipe_name, pipe in classifiers.items():\n",
    "    val_scores = cross_val_score(pipe, df_twitter_train['text_clean'], df_twitter_train['target'], cv=cv, \n",
    "                                 scoring=make_scorer(f1_score, average='macro'))\n",
    "    print(f\"K Fold, classifier {pipe_name}:\\n\\tMean val macro F1  = {(val_scores).mean():.4f}\")"
   ]
  },
  {
   "cell_type": "code",
   "execution_count": 112,
   "id": "f7c3031e-d0c1-43ad-a107-48259497f000",
   "metadata": {
    "tags": []
   },
   "outputs": [
    {
     "name": "stdout",
     "output_type": "stream",
     "text": [
      "Stratified K Fold, classifier logistic_regression:\n",
      "\tMean val F1  = 0.7832\n",
      "Stratified K Fold, classifier support_vector_machine:\n",
      "\tMean val F1  = 0.7728\n",
      "Stratified K Fold, classifier decision_tree:\n",
      "\tMean val F1  = 0.6999\n"
     ]
    }
   ],
   "source": [
    "for pipe_name, pipe in classifiers.items():\n",
    "    val_scores = cross_val_score(pipe, df_twitter_train['text_clean'], df_twitter_train['target'], cv=cv_strat, \n",
    "                                 scoring=make_scorer(f1_score, average='macro'))\n",
    "    print(f\"Stratified K Fold, classifier {pipe_name}:\\n\\tMean val F1  = {(val_scores).mean():.4f}\")"
   ]
  },
  {
   "cell_type": "code",
   "execution_count": 113,
   "id": "6d2c5598-df76-4fd6-a7cb-fd32bbfc084b",
   "metadata": {
    "tags": []
   },
   "outputs": [
    {
     "data": {
      "image/png": "[encoded data removed]",
      "text/plain": [
       "<Figure size 640x480 with 1 Axes>"
      ]
     },
     "metadata": {},
     "output_type": "display_data"
    }
   ],
   "source": [
    "plt.scatter([0.7910, 0.7789, 0.7175], [0.78302, 0.77474, 0.70977], label=\"Holdout test results\")\n",
    "plt.scatter([0.7814, 0.7787, 0.7057], [0.78516, 0.7775, 0.70671], label=\"5-fold test results\")\n",
    "plt.scatter([0.7832, 0.7728, 0.6999], [0.78516, 0.7775, 0.70671], label=\"Stratified 5-fold test results\")\n",
    "\n",
    "\n",
    "plt.xlabel(\"Evaluation score\")\n",
    "plt.ylabel(\"Leaderboard score\")\n",
    "plt.title(\"Leaderboard/evaluation macro F1s scores\")\n",
    "plt.legend()\n",
    "\n",
    "plt.axline((0.6509, 0.6509), (0.78516, 0.78516), linestyle=\"--\", linewidth=1)\n",
    "\n",
    "plt.show()"
   ]
  },
  {
   "cell_type": "markdown",
   "id": "7ed4855e-a487-4c72-acb2-f6282897256f",
   "metadata": {},
   "source": [
    "Here, we can clearly see that k fold is the best one predictive for such random initialization. But, actually, all methods are pretty accurate on the task."
   ]
  },
  {
   "cell_type": "markdown",
   "id": "d8d7e077-b82c-47b8-bb32-59e4f4da13f5",
   "metadata": {},
   "source": [
    "### Adversarial validation"
   ]
  },
  {
   "cell_type": "code",
   "execution_count": 120,
   "id": "eef559bc-805a-4d34-ba54-40d462e801cf",
   "metadata": {
    "tags": []
   },
   "outputs": [
    {
     "name": "stdout",
     "output_type": "stream",
     "text": [
      "Classifier logistic_regression:\n",
      "\tTrain macro F1 = 0.4653\n",
      "\tVal macro F1  = 0.4251\n",
      "\tVal ROC AUC = 0.5032025531940566\n",
      "Classifier support_vector_machine:\n",
      "\tTrain macro F1 = 0.4653\n",
      "\tVal macro F1  = 0.4251\n",
      "\tVal ROC AUC = 0.5032025531940566\n",
      "Classifier decision_tree:\n",
      "\tTrain macro F1 = 0.4653\n",
      "\tVal macro F1  = 0.4251\n",
      "\tVal ROC AUC = 0.5032025531940566\n"
     ]
    }
   ],
   "source": [
    "df_adversarial = pd.concat([df_twitter_train, df_twitter_test]).reset_index()\n",
    "df_adversarial.loc[:, 'target'] = len(df_twitter_train)*[0] + len(df_twitter_test)*[1]\n",
    "\n",
    "X_train_adv, X_val_adv, y_train_adv, y_val_adv = train_test_split(\n",
    "    df_adversarial['text_clean'], df_adversarial['target'], stratify=df_adversarial['target'], test_size=0.2\n",
    ")\n",
    "\n",
    "for pipe_name, pipe in classifiers.items():\n",
    "    pipe.fit(X_train_adv, y_train_adv)\n",
    "    \n",
    "    y_train_pred = pipe_classification.predict(X_train_adv)\n",
    "    y_val_pred = pipe_classification.predict(X_val_adv)\n",
    "    \n",
    "    train_score = f1_score(y_train_adv, y_train_pred, average='macro')\n",
    "    val_score = f1_score(y_val_adv, y_val_pred, average='macro')\n",
    "    val_roc_auc = roc_auc_score(y_val_adv, pipe_classification.predict_proba(X_val_adv)[:, 1])\n",
    "    \n",
    "    print(f\"Classifier {pipe_name}:\\n\\tTrain macro F1 = {train_score:.4f}\\n\\tVal macro F1  = {val_score:.4f}\")\n",
    "    print(f\"\\tVal ROC AUC = {val_roc_auc}\")"
   ]
  },
  {
   "cell_type": "code",
   "execution_count": 116,
   "id": "2158d9c1-0463-4e75-9a0d-a89dd6ec51c3",
   "metadata": {
    "tags": []
   },
   "outputs": [
    {
     "name": "stdout",
     "output_type": "stream",
     "text": [
      "Percent of test: 0.3000183891136447\n"
     ]
    }
   ],
   "source": [
    "print(\"Percent of test:\", len(df_twitter_test)/len(df_adversarial))"
   ]
  },
  {
   "cell_type": "markdown",
   "id": "b1630399-f3e8-4c1a-ba54-09d7e165b2a9",
   "metadata": {},
   "source": [
    "Confusion matrix for such a classifier, if it can't find any leaks, should look like:\n",
    "\n",
    "|                   | Test     | Train     |\n",
    "| ----------------: | :------: | :-------: |\n",
    "| Test              | 0.3 * 0.3 = 0.09 | 0.3 * 0.7 = 0.21 |\n",
    "| Train             | 0.7 * 0.3 = 0.21 | 0.7 * 0.7 = 0.49 |\n",
    "\n",
    "For the test class, F1 should be 2\\*0.09/(2\\*0.09 + 0.21 + 0.21) = 0.3\n",
    "\n",
    "For the train class, F1 should be 2\\*0.49/(2\\*0.49 + 0.21 + 0.21) = 0.7\n",
    "\n",
    "So, for completely independent classes macro F1 should be (0.3 + 0.7) / 2 = 0.5\n",
    "\n",
    "Macro F1 is smaller in our case, so there are clearly no leaks.\n",
    "\n",
    "ROC AUC score also shows that we have completely randomized predictions."
   ]
  },
  {
   "cell_type": "markdown",
   "id": "49d36f75-e19d-486d-9c77-67393dab1682",
   "metadata": {},
   "source": [
    "## CommonLit - Evaluate Student Summaries"
   ]
  },
  {
   "cell_type": "markdown",
   "id": "130f6f7a-83af-47cf-9a4e-87c02c9372d6",
   "metadata": {},
   "source": [
    "### Regular K-fold"
   ]
  },
  {
   "cell_type": "code",
   "execution_count": null,
   "id": "7c0d63a6-1017-46f6-8881-6d8862f0c9b8",
   "metadata": {},
   "outputs": [],
   "source": []
  },
  {
   "cell_type": "markdown",
   "id": "d8dbc82f-c3a1-437e-a0bb-bc5e2eecd20a",
   "metadata": {},
   "source": [
    "### Group K-fold"
   ]
  },
  {
   "cell_type": "code",
   "execution_count": null,
   "id": "83a9222f-2f6d-457b-a672-9eb827b01f4b",
   "metadata": {},
   "outputs": [],
   "source": []
  },
  {
   "cell_type": "markdown",
   "id": "22f3f140-3305-4604-991c-43c913ceb16e",
   "metadata": {},
   "source": [
    "### Conclusions on the LB-val correlation"
   ]
  },
  {
   "cell_type": "code",
   "execution_count": null,
   "id": "19be6455-5e10-4bef-a097-1d5b2cc7c54f",
   "metadata": {},
   "outputs": [],
   "source": []
  }
 ],
 "metadata": {
  "kernelspec": {
   "display_name": "Python 3 (ipykernel)",
   "language": "python",
   "name": "python3"
  },
  "language_info": {
   "codemirror_mode": {
    "name": "ipython",
    "version": 3
   },
   "file_extension": ".py",
   "mimetype": "text/x-python",
   "name": "python",
   "nbconvert_exporter": "python",
   "pygments_lexer": "ipython3",
   "version": "3.11.5"
  }
 },
 "nbformat": 4,
 "nbformat_minor": 5
}
