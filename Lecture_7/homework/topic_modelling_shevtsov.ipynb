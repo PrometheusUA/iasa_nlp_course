{
 "cells": [
  {
   "cell_type": "markdown",
   "id": "ee033508-5942-416e-a773-7505883ed8a5",
   "metadata": {},
   "source": [
    "# Homework 7. IASA NLP Course\n",
    "\n",
    "Made by Andrii Shevtsov\n",
    "\n",
    "## Imports and constants"
   ]
  },
  {
   "cell_type": "code",
   "execution_count": null,
   "id": "08dd2e4e-7685-4f37-9758-a1f26103356a",
   "metadata": {},
   "outputs": [],
   "source": []
  }
 ],
 "metadata": {
  "kernelspec": {
   "display_name": "Python 3 (ipykernel)",
   "language": "python",
   "name": "python3"
  },
  "language_info": {
   "codemirror_mode": {
    "name": "ipython",
    "version": 3
   },
   "file_extension": ".py",
   "mimetype": "text/x-python",
   "name": "python",
   "nbconvert_exporter": "python",
   "pygments_lexer": "ipython3",
   "version": "3.9.18"
  }
 },
 "nbformat": 4,
 "nbformat_minor": 5
}
